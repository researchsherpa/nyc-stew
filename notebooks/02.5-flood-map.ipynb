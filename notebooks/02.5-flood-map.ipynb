{
 "cells": [
  {
   "cell_type": "markdown",
   "id": "d1f9e4ad-937b-416b-84c3-5104e26a1d82",
   "metadata": {},
   "source": [
    "# Stormwater Flood Maps\n",
    "\n",
    "This data set is published by DEP.  I should move this section into the DEP notebook.\n",
    "\n",
    "I found this by reading material from the Mayors Office of Climate Resiliency (MOCR), so for now I'm going to deal with it seperately.  \n",
    "\n",
    "I grabbed the data [from](https://data.cityofnewyork.us/City-Government/NYC-Stormwater-Flood-Map-Extreme-Flood/w8eg-8ha6).\n",
    "\n",
    "I will read the data, add a wee bit of information and save as parquet files."
   ]
  },
  {
   "cell_type": "markdown",
   "id": "3a8ea28c-0487-49f4-974e-fa0171b7bb81",
   "metadata": {},
   "source": [
    "This is a good read on the why for this data."
   ]
  },
  {
   "cell_type": "code",
   "execution_count": null,
   "id": "4f2f4e02-8902-4a9d-80b5-b083ce1e5b99",
   "metadata": {},
   "outputs": [],
   "source": [
    "IFrame(\"https://experience.arcgis.com/experience/4b290961cac34643a49b9002f165fad8/\", width=1200, height=800)"
   ]
  },
  {
   "cell_type": "code",
   "execution_count": null,
   "id": "eda54415-2cd7-4039-8cff-2c3b3271e6c6",
   "metadata": {},
   "outputs": [],
   "source": [
    "import fiona"
   ]
  },
  {
   "cell_type": "code",
   "execution_count": null,
   "id": "c714a7d9-f647-436f-9336-fe2535d88431",
   "metadata": {},
   "outputs": [],
   "source": [
    "fiona.listlayers('../data/raw/DEP/NYC Stormwater Flood Map - Extreme Flood.gdb/')"
   ]
  },
  {
   "cell_type": "code",
   "execution_count": null,
   "id": "f868fff1-6637-4b56-9601-f73b539dbd33",
   "metadata": {},
   "outputs": [],
   "source": [
    "fiona.listlayers('../data/raw/DEP/NYC Stormwater Flood Map - Moderate Flood.gdb/')"
   ]
  },
  {
   "cell_type": "code",
   "execution_count": null,
   "id": "42529f8c-e891-4446-9c6f-e0f39822d40c",
   "metadata": {},
   "outputs": [],
   "source": [
    "fm_extreme_gdf = gpd.read_file('../data/raw/DEP/NYC Stormwater Flood Map - Extreme Flood.gdb/', driver='FileGDB')\n",
    "fm_moderate_gdf = gpd.read_file('../data/raw/DEP/NYC Stormwater Flood Map - Moderate Flood.gdb/', driver='FileGDB')"
   ]
  },
  {
   "cell_type": "markdown",
   "id": "2588317b-07fe-4de1-8cd2-2c541b40876c",
   "metadata": {},
   "source": [
    "As usual let's poke around a bit."
   ]
  },
  {
   "cell_type": "code",
   "execution_count": null,
   "id": "efb009d2-0eb1-4ccd-864b-80c5b826478f",
   "metadata": {},
   "outputs": [],
   "source": [
    "fm_extreme_gdf.shape"
   ]
  },
  {
   "cell_type": "code",
   "execution_count": null,
   "id": "7dd0edf2-2bec-4d6a-b65b-bdcefe8cc41a",
   "metadata": {},
   "outputs": [],
   "source": [
    "fm_extreme_gdf.info()"
   ]
  },
  {
   "cell_type": "markdown",
   "id": "2e07b869-2258-4c39-9cae-af8c5023ba85",
   "metadata": {},
   "source": [
    "As usual they look pretty simple?  Ah, the devils in the details!"
   ]
  },
  {
   "cell_type": "code",
   "execution_count": null,
   "id": "d02ecf37-10f9-4fa0-92c4-d2ae4c661095",
   "metadata": {},
   "outputs": [],
   "source": [
    "fm_extreme_gdf['Flooding_Category'].value_counts()"
   ]
  },
  {
   "cell_type": "code",
   "execution_count": null,
   "id": "19d3f8c0-c95e-4199-9372-a365551d95cf",
   "metadata": {},
   "outputs": [],
   "source": [
    "fm_extreme_gdf.iloc[0]['geometry'].geom_type"
   ]
  },
  {
   "cell_type": "code",
   "execution_count": null,
   "id": "00842391-c499-45c9-a1d8-e14f240d2509",
   "metadata": {},
   "outputs": [],
   "source": [
    "len(fm_extreme_gdf.iloc[0]['geometry'].geoms)"
   ]
  },
  {
   "cell_type": "markdown",
   "id": "ce215437-1d09-47cc-a5d6-6f49acadc453",
   "metadata": {},
   "source": [
    "So the geometry is a multi-polygon with a whole lotta objects.  Raises hell with browser maps!"
   ]
  },
  {
   "cell_type": "code",
   "execution_count": null,
   "id": "266d095d-681c-44f0-9ec9-f26d78739f89",
   "metadata": {},
   "outputs": [],
   "source": [
    "len(fm_extreme_gdf.iloc[1].geometry.geoms)"
   ]
  },
  {
   "cell_type": "code",
   "execution_count": null,
   "id": "0e14fd60-47ee-4307-a821-1b6d21b2cc23",
   "metadata": {},
   "outputs": [],
   "source": [
    "len(fm_extreme_gdf.iloc[2].geometry.geoms)"
   ]
  },
  {
   "cell_type": "markdown",
   "id": "7c331ccb-782f-4a22-8409-075b52adbc45",
   "metadata": {},
   "source": [
    "You can uncomment this if you so desire."
   ]
  },
  {
   "cell_type": "code",
   "execution_count": null,
   "id": "37e6d91e-8c75-4edc-acd0-822cbdbba96a",
   "metadata": {},
   "outputs": [],
   "source": [
    "#fm_extreme_gdf.explore()"
   ]
  },
  {
   "cell_type": "markdown",
   "id": "e7d8700a-c108-4d3e-8ea7-590bf28028bb",
   "metadata": {},
   "source": [
    "I am going to add some information from the data dictionary.  It can be found in data/processed/DEP/Data_Dictionary_ExtremeFlood.xlsx.\n",
    "\n",
    "I think it will help clarify when I revisit this data for Brooklyn"
   ]
  },
  {
   "cell_type": "code",
   "execution_count": null,
   "id": "0bcfda2c-b072-482c-ac6c-8f9dcaa355fc",
   "metadata": {},
   "outputs": [],
   "source": [
    "fm_extreme_gdf.Flooding_Category.value_counts()"
   ]
  },
  {
   "cell_type": "code",
   "execution_count": null,
   "id": "7dd70369-6796-4dd3-a787-b0256d62b5e4",
   "metadata": {},
   "outputs": [],
   "source": [
    "fm_extreme_gdf"
   ]
  },
  {
   "cell_type": "code",
   "execution_count": null,
   "id": "0c3917d6-c5ed-4c72-aba1-581c930735c5",
   "metadata": {},
   "outputs": [],
   "source": [
    "from_data_dict = {1: 'Nuisance Flooding (greater or equal to 4 in. and less than 1 ft.)',\n",
    "                  2: 'Deep and Contiguous Flooding (1 ft. and greater)',\n",
    "                  3: 'Future High Tides 2080'\n",
    "                 }"
   ]
  },
  {
   "cell_type": "code",
   "execution_count": null,
   "id": "c048e08b-32da-46bf-83c7-a2b4e415a822",
   "metadata": {},
   "outputs": [],
   "source": [
    "fm_extreme_gdf['desc'] = fm_extreme_gdf['Flooding_Category'].apply(lambda val: from_data_dict.get(val))\n",
    "fm_moderate_gdf['desc'] = fm_moderate_gdf['Flooding_Category'].apply(lambda val: from_data_dict.get(val))"
   ]
  },
  {
   "cell_type": "code",
   "execution_count": null,
   "id": "ea1e8ac8-475e-4834-ae0c-16759161dd17",
   "metadata": {
    "tags": []
   },
   "outputs": [],
   "source": [
    "fm_moderate_gdf"
   ]
  },
  {
   "cell_type": "code",
   "execution_count": null,
   "id": "ac1229b4-626e-4b01-be6c-9a0016f2b4da",
   "metadata": {},
   "outputs": [],
   "source": [
    "fm_extreme_gdf.to_parquet('../data/processed/DEP/extreme-flood-map.parq')\n",
    "fm_moderate_gdf.to_parquet('../data/processed/DEP/moderate-flood-map.parq')"
   ]
  },
  {
   "cell_type": "code",
   "execution_count": null,
   "id": "ec3e022f-c9f0-49eb-a0c0-53ca882e327b",
   "metadata": {},
   "outputs": [],
   "source": []
  }
 ],
 "metadata": {
  "kernelspec": {
   "display_name": "Python 3 (ipykernel)",
   "language": "python",
   "name": "python3"
  },
  "language_info": {
   "codemirror_mode": {
    "name": "ipython",
    "version": 3
   },
   "file_extension": ".py",
   "mimetype": "text/x-python",
   "name": "python",
   "nbconvert_exporter": "python",
   "pygments_lexer": "ipython3",
   "version": "3.10.4"
  }
 },
 "nbformat": 4,
 "nbformat_minor": 5
}
