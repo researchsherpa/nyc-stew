{
 "cells": [
  {
   "cell_type": "markdown",
   "id": "cbab7246-9ab1-4a7d-8455-a8ec8b5e5282",
   "metadata": {},
   "source": [
    "# Sea Level Rise - NYC\n",
    "\n",
    "The data set I'm looking at was released by New York City Panel on Climate Change (NPCC) and the Department of City Planning.\n",
    "\n",
    "Data includes the 10th, 25th, 50th, 75th and 90th percentile projections for the years 2020, 2050, 2080 and 2100.\n",
    "\n",
    "References and sources:\n",
    "\n",
    "https://gis.stackexchange.com/questions/255138/reading-the-names-of-geodatabase-file-layers-in-python\n",
    "\n",
    "https://data.cityofnewyork.us/City-Government/Projected-Sea-Level-Rise/6an6-9htp\n",
    "\n",
    "https://data.cityofnewyork.us/browse?q=Projected%20Sea%20Level%20Rise&sortBy=relevance\n",
    "\n",
    "Need to work up a comparison of these two data sources."
   ]
  },
  {
   "cell_type": "code",
   "execution_count": null,
   "id": "c9883c4b-f477-4074-a109-4e7c8788b694",
   "metadata": {},
   "outputs": [],
   "source": [
    "IFrame('../data/raw/slr_metadata.pdf', width=1000, height=1000)"
   ]
  },
  {
   "cell_type": "code",
   "execution_count": null,
   "id": "bd328502-8656-4a6d-b77e-b5364760025c",
   "metadata": {},
   "outputs": [],
   "source": [
    "import fiona"
   ]
  },
  {
   "cell_type": "code",
   "execution_count": null,
   "id": "3495c0b3-12d3-4fe3-b4bb-0399c09a568d",
   "metadata": {},
   "outputs": [],
   "source": [
    "fiona.listlayers('../data/raw/NYCFutureHighTideWithSLR.gdb/')"
   ]
  },
  {
   "cell_type": "code",
   "execution_count": null,
   "id": "a4cf9833-18fe-4626-a798-61b5b71a1b09",
   "metadata": {},
   "outputs": [],
   "source": [
    "wos_2050_08_gdf = gpd.read_file(\"../data/raw/NYCFutureHighTideWithSLR.gdb\", driver='FileGDB', layer=5)\n",
    "wos_2050_11_gdf = gpd.read_file(\"../data/raw/NYCFutureHighTideWithSLR.gdb\", driver='FileGDB', layer=6)\n",
    "wos_2050_16_gdf = gpd.read_file(\"../data/raw/NYCFutureHighTideWithSLR.gdb\", driver='FileGDB', layer=7)\n",
    "wos_2050_21_gdf = gpd.read_file(\"../data/raw/NYCFutureHighTideWithSLR.gdb\", driver='FileGDB', layer=8)\n",
    "wos_2050_30_gdf = gpd.read_file(\"../data/raw/NYCFutureHighTideWithSLR.gdb\", driver='FileGDB', layer=9)"
   ]
  },
  {
   "cell_type": "code",
   "execution_count": null,
   "id": "1cf426b0-82f9-423a-82e1-dfbdb8670824",
   "metadata": {},
   "outputs": [],
   "source": [
    "wos_2050_30_gdf.explore()"
   ]
  },
  {
   "cell_type": "markdown",
   "id": "329f1051-1128-42bd-b174-b1eb672d8033",
   "metadata": {},
   "source": [
    "Side-by-side comparisons with the Output widget is one of my common idioms.  This doesn't seem to work and I have no idea.\n",
    "\n",
    "**Revisit and understand what is going on!!**"
   ]
  },
  {
   "cell_type": "code",
   "execution_count": null,
   "id": "6339e8c3-6e4c-41ea-ad32-ebe221dcd473",
   "metadata": {},
   "outputs": [],
   "source": [
    "def side_by_side(left_gdf, right_gdf):\n",
    "    \"\"\"\n",
    "    This is a common idiom that I use.  It will display two maps side by side\n",
    "    \"\"\"\n",
    "    \n",
    "    left_output = Output(layout={'border': '1px solid black',\n",
    "                            'width': '50%'})\n",
    "\n",
    "    right_output = Output(layout={'border': '1px solid black',\n",
    "                            'width': '50%'})\n",
    "\n",
    "    with left_output:\n",
    "        display(left_gdf.explore())\n",
    "\n",
    "    with right_output:\n",
    "        #display(pretty_bid(detailed_gdf))\n",
    "        display(right_gdf.explore())\n",
    "\n",
    "    display(HBox([left_output, right_output]))\n",
    "    #HBox([left_output, right_output])"
   ]
  },
  {
   "cell_type": "code",
   "execution_count": null,
   "id": "79afb8b2-d398-4b1f-a1ec-8152ee4a81c0",
   "metadata": {},
   "outputs": [],
   "source": [
    "side_by_side(wos_2050_08_gdf, wos_2050_11_gdf)"
   ]
  },
  {
   "cell_type": "code",
   "execution_count": null,
   "id": "2aec651f-2322-4d73-9691-b39469652be1",
   "metadata": {
    "tags": []
   },
   "outputs": [],
   "source": [
    "count_output = Output(layout={'border': '1px solid black',\n",
    "                            'width': '50%'})\n",
    "\n",
    "density_output = Output(layout={'border': '1px solid black',\n",
    "                            'width': '50%'})\n",
    "\n",
    "with count_output:\n",
    "    wos_2050_08_gdf.plot();\n",
    "\n",
    "with density_output:\n",
    "    wos_2050_30_gdf.plot();\n",
    "\n",
    "#print('\\nMaps for request type: ' + request_type + '\\n\\n')\n",
    "HBox([count_output, density_output])\n"
   ]
  },
  {
   "cell_type": "markdown",
   "id": "d019fda6-7190-4c72-8986-0264d3e69ce3",
   "metadata": {},
   "source": [
    "Here's another way to think about this."
   ]
  },
  {
   "cell_type": "code",
   "execution_count": null,
   "id": "fc32e3b1-41e7-40fc-a1f2-b0b65aad6aab",
   "metadata": {},
   "outputs": [],
   "source": [
    "wos_2050_08_gdf.shape"
   ]
  },
  {
   "cell_type": "code",
   "execution_count": null,
   "id": "9a951843-2930-4c62-85f9-edb7f369e6dc",
   "metadata": {},
   "outputs": [],
   "source": [
    "wos_2050_08_gdf.columns"
   ]
  },
  {
   "cell_type": "code",
   "execution_count": null,
   "id": "204c3c95-8e02-4fc9-8771-1913b1c40986",
   "metadata": {},
   "outputs": [],
   "source": [
    "wos_2050_08_gdf.crs"
   ]
  },
  {
   "cell_type": "markdown",
   "id": "a4539005-7747-413c-9103-fecd95da36d4",
   "metadata": {},
   "source": [
    "So with this CRS we have square feet for the area.  Convert to square miles."
   ]
  },
  {
   "cell_type": "code",
   "execution_count": null,
   "id": "a785b433-ac8d-4e47-83d0-9a4543da830c",
   "metadata": {},
   "outputs": [],
   "source": [
    "wos_2050_08_gdf.Shape_Area.sum() / 27878400"
   ]
  },
  {
   "cell_type": "code",
   "execution_count": null,
   "id": "c8d8f862-b9a7-4fe7-b3e0-3e1f50c94e6e",
   "metadata": {},
   "outputs": [],
   "source": [
    "wos_2050_30_gdf.Shape_Area.sum() / 27878400"
   ]
  },
  {
   "cell_type": "code",
   "execution_count": null,
   "id": "2389755e-a35f-4464-857a-c378a04a11e3",
   "metadata": {},
   "outputs": [],
   "source": [
    "_ - __"
   ]
  },
  {
   "cell_type": "markdown",
   "id": "976c4d34-6fca-461b-bc4e-64c15cf92470",
   "metadata": {},
   "source": [
    "So it's a difference of 40 square miles?  "
   ]
  },
  {
   "cell_type": "code",
   "execution_count": null,
   "id": "588f5016-c03e-435e-8a0e-52dbf8cb65e1",
   "metadata": {},
   "outputs": [],
   "source": [
    "wos_2050_08_gdf.to_parquet('../data/processed/DCP/slr-2050-08.parq')\n",
    "wos_2050_11_gdf.to_parquet('../data/processed/DCP/slr-2050-11.parq')\n",
    "wos_2050_16_gdf.to_parquet('../data/processed/DCP/slr-2050-16.parq')\n",
    "wos_2050_21_gdf.to_parquet('../data/processed/DCP/slr-2050-21.parq')\n",
    "wos_2050_30_gdf.to_parquet('../data/processed/DCP/slr-2050-30.parq')"
   ]
  },
  {
   "cell_type": "code",
   "execution_count": null,
   "id": "b9201be3-7855-4f70-b1f4-f98e4b60b15f",
   "metadata": {},
   "outputs": [],
   "source": []
  }
 ],
 "metadata": {
  "kernelspec": {
   "display_name": "Python 3 (ipykernel)",
   "language": "python",
   "name": "python3"
  },
  "language_info": {
   "codemirror_mode": {
    "name": "ipython",
    "version": 3
   },
   "file_extension": ".py",
   "mimetype": "text/x-python",
   "name": "python",
   "nbconvert_exporter": "python",
   "pygments_lexer": "ipython3",
   "version": "3.10.4"
  }
 },
 "nbformat": 4,
 "nbformat_minor": 5
}
