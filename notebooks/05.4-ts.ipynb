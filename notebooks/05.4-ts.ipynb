{
 "cells": [
  {
   "cell_type": "markdown",
   "id": "5a979366-ba5b-4eaa-bfd1-1f3a2956f66b",
   "metadata": {},
   "source": [
    "# Timeseries plotting\n",
    "\n",
    "Let's look at ways to visualize the 311 data for 2021.  "
   ]
  },
  {
   "cell_type": "code",
   "execution_count": null,
   "id": "b0745b57-7fa5-4976-a2d0-005e572b74f3",
   "metadata": {},
   "outputs": [],
   "source": [
    "brooklyn_311_gdf = gpd.read_parquet('../data/processed/brooklyn/brooklyn-2021-311.parq').reset_index().drop(columns='index')"
   ]
  },
  {
   "cell_type": "code",
   "execution_count": null,
   "id": "4d83309c-eea3-46ad-ad8a-5bf8fbbd6fc5",
   "metadata": {},
   "outputs": [],
   "source": [
    "brooklyn_311_gdf"
   ]
  },
  {
   "cell_type": "code",
   "execution_count": null,
   "id": "ce9ea616-0fac-452f-899c-0dd963021516",
   "metadata": {},
   "outputs": [],
   "source": [
    "events_df = brooklyn_311_gdf[['Created Date', 'Complaint Type']].copy()#.set_index('Created Date'))"
   ]
  },
  {
   "cell_type": "code",
   "execution_count": null,
   "id": "1a0e3fc7-84ca-49df-808a-e62fc128960a",
   "metadata": {},
   "outputs": [],
   "source": [
    "#ts = pd.Series(stats_df['count'].values, index=stats_df.index)"
   ]
  },
  {
   "cell_type": "markdown",
   "id": "28a971b7-6b6c-41c9-99b7-2dc4a444cacc",
   "metadata": {},
   "source": [
    "# calplot"
   ]
  },
  {
   "cell_type": "code",
   "execution_count": null,
   "id": "f3460e17-31a9-49f9-9a19-d81055bba97b",
   "metadata": {},
   "outputs": [],
   "source": [
    "import calplot"
   ]
  },
  {
   "cell_type": "code",
   "execution_count": null,
   "id": "0fceba03-215d-4853-8d0b-ca6166a1e7d0",
   "metadata": {},
   "outputs": [],
   "source": [
    "events_df['count'] = 1.0"
   ]
  },
  {
   "cell_type": "code",
   "execution_count": null,
   "id": "0ef4d0b2-600c-4c08-ace7-0989b0402119",
   "metadata": {},
   "outputs": [],
   "source": [
    "calplot_ts = pd.Series(events_df['count'].values, index=events_df['Created Date'])"
   ]
  },
  {
   "cell_type": "code",
   "execution_count": null,
   "id": "64a001f7-34df-4517-b4ab-547e69ae6126",
   "metadata": {},
   "outputs": [],
   "source": [
    "calplot.calplot(calplot_ts, cmap='YlOrRd', colorbar=True, \n",
    "                edgecolor='Black',\n",
    "                how='sum',\n",
    "                dayticks=True, figsize=(20, 5));"
   ]
  },
  {
   "cell_type": "markdown",
   "id": "16741975-e5f0-4717-9c1e-8379a67d9cbd",
   "metadata": {},
   "source": [
    "# july"
   ]
  },
  {
   "cell_type": "code",
   "execution_count": null,
   "id": "bdd71a07-2ecc-4f91-83e9-4e4de9055512",
   "metadata": {},
   "outputs": [],
   "source": [
    "import july"
   ]
  },
  {
   "cell_type": "code",
   "execution_count": null,
   "id": "47861f43-4aaa-4a71-9c59-e2cd5bc089b6",
   "metadata": {},
   "outputs": [],
   "source": [
    "events_df['Created Date'] = pd.to_datetime(events_df['Created Date']).dt.date"
   ]
  },
  {
   "cell_type": "code",
   "execution_count": null,
   "id": "437643c6-f710-4d12-b185-ebeb5db4d683",
   "metadata": {},
   "outputs": [],
   "source": [
    "stats_df = events_df.groupby('Created Date').count()#.rename(columns={'Complaint Type': 'count'})"
   ]
  },
  {
   "cell_type": "code",
   "execution_count": null,
   "id": "6360440e-cead-474b-88af-3425e85c41d4",
   "metadata": {},
   "outputs": [],
   "source": [
    "stats_df"
   ]
  },
  {
   "cell_type": "code",
   "execution_count": null,
   "id": "a51ef241-643d-49b0-9d69-eacfe0178e15",
   "metadata": {},
   "outputs": [],
   "source": [
    "july.heatmap(dates=stats_df.index, \n",
    "             data=stats_df['count'], #events_gdf['Complaint Type'].values, #.values, \n",
    "             cmap='YlOrRd',\n",
    "             month_grid=True, \n",
    "             horizontal=True,\n",
    "             value_label=False,\n",
    "             date_label=False,\n",
    "             weekday_label=True,\n",
    "             month_label=True, \n",
    "             year_label=True,\n",
    "             colorbar=False,\n",
    "             fontfamily=\"monospace\",\n",
    "             fontsize=12,\n",
    "             title=None,\n",
    "             titlesize='large',\n",
    "             dpi=100);"
   ]
  },
  {
   "cell_type": "code",
   "execution_count": null,
   "id": "2ae6ee3d-50f7-4a81-9524-7ca71650256c",
   "metadata": {},
   "outputs": [],
   "source": [
    "july.calendar_plot(stats_df.index, stats_df['count'], value_label=True);"
   ]
  },
  {
   "cell_type": "code",
   "execution_count": null,
   "id": "0e446162-0bf2-4251-9a0d-42afa91316df",
   "metadata": {},
   "outputs": [],
   "source": [
    "july.month_plot(stats_df.index, stats_df['count'], month=9,  value_label=True);#, ax=foo[0]);"
   ]
  },
  {
   "cell_type": "code",
   "execution_count": null,
   "id": "185b15e4-878f-4a94-b8b2-a1fbe0c3294b",
   "metadata": {},
   "outputs": [],
   "source": [
    "july.month_plot(stats_df.index, stats_df['count'], month=11,  value_label=True);#, ax=foo[0]);"
   ]
  },
  {
   "cell_type": "code",
   "execution_count": null,
   "id": "be0a12ee-ca83-4ddb-bc34-53a1b8421d24",
   "metadata": {},
   "outputs": [],
   "source": [
    "import numpy as np\n",
    "import matplotlib.pyplot as plt\n",
    "#import july\n",
    "from july.utils import date_range\n",
    "\n",
    "dates = date_range(\"2020-01-01\", \"2020-12-31\")\n",
    "data = np.random.randint(0, 14, len(dates))"
   ]
  },
  {
   "cell_type": "code",
   "execution_count": null,
   "id": "24728753-ea93-428c-b1c8-1a1cea7a1145",
   "metadata": {},
   "outputs": [],
   "source": [
    "len(dates)"
   ]
  },
  {
   "cell_type": "code",
   "execution_count": null,
   "id": "d05d24f5-a19a-4a48-a948-0ddaf0b57172",
   "metadata": {},
   "outputs": [],
   "source": [
    "len(data)"
   ]
  },
  {
   "cell_type": "code",
   "execution_count": null,
   "id": "d961310d-eaa4-45ad-865b-ecfe2950191a",
   "metadata": {},
   "outputs": [],
   "source": [
    "july.heatmap(dates, data, title='Github Activity', cmap=\"github\");"
   ]
  },
  {
   "cell_type": "code",
   "execution_count": null,
   "id": "33d84a24-f9d1-4f2e-895c-3d54b8db093c",
   "metadata": {},
   "outputs": [],
   "source": [
    "july.calendar_plot(dates, data, value_label=True);"
   ]
  },
  {
   "cell_type": "code",
   "execution_count": null,
   "id": "8d683144-0e02-4249-8cec-2c40e61a459c",
   "metadata": {},
   "outputs": [],
   "source": [
    "july.month_plot(dates, data, month=9, value_label=True)#, ax=0);"
   ]
  },
  {
   "cell_type": "code",
   "execution_count": null,
   "id": "442d7487-06ee-4945-9da6-712d8f133d1f",
   "metadata": {},
   "outputs": [],
   "source": [
    "rainfall = pd.read_csv('../data/raw/weather/rain-fall.csv')"
   ]
  },
  {
   "cell_type": "code",
   "execution_count": null,
   "id": "e8bde3e8-cb6f-4519-803c-c15683fbb9af",
   "metadata": {},
   "outputs": [],
   "source": [
    "rainfall"
   ]
  },
  {
   "cell_type": "code",
   "execution_count": null,
   "id": "e175ea0a-3805-4866-bdd5-38d3d5a71a3b",
   "metadata": {},
   "outputs": [],
   "source": [
    "rainfall.set_index('Day').transpose()"
   ]
  },
  {
   "cell_type": "code",
   "execution_count": null,
   "id": "0d64a103-ef31-4f32-b606-5bac519fc5e3",
   "metadata": {},
   "outputs": [],
   "source": []
  }
 ],
 "metadata": {
  "kernelspec": {
   "display_name": "Python 3 (ipykernel)",
   "language": "python",
   "name": "python3"
  },
  "language_info": {
   "codemirror_mode": {
    "name": "ipython",
    "version": 3
   },
   "file_extension": ".py",
   "mimetype": "text/x-python",
   "name": "python",
   "nbconvert_exporter": "python",
   "pygments_lexer": "ipython3",
   "version": "3.10.4"
  }
 },
 "nbformat": 4,
 "nbformat_minor": 5
}
