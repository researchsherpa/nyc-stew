{
 "cells": [
  {
   "cell_type": "markdown",
   "id": "5ab7978a-357c-400a-96e3-0b42bb78f971",
   "metadata": {},
   "source": [
    "I'm collecting other external sources to add context."
   ]
  },
  {
   "cell_type": "code",
   "execution_count": null,
   "id": "9354df44-b3f0-4e82-a86d-8e53849e0dfc",
   "metadata": {},
   "outputs": [],
   "source": [
    "IFrame(\"https://en.wikipedia.org/wiki/Boroughs_of_New_York_City\", width=1200, height=800)"
   ]
  },
  {
   "cell_type": "code",
   "execution_count": null,
   "id": "3e0f2a57-5710-4e66-a989-d5c8b1798a7e",
   "metadata": {},
   "outputs": [],
   "source": [
    "IFrame(\"https://en.wikipedia.org/wiki/Brooklyn\", width=1200, height=800)"
   ]
  },
  {
   "cell_type": "code",
   "execution_count": null,
   "id": "19236202-7baf-4782-b62c-767e5fb127a0",
   "metadata": {},
   "outputs": [],
   "source": [
    "IFrame(\"https://en.wikipedia.org/wiki/List_of_Brooklyn_neighborhoods\", width=1200, height=800)"
   ]
  },
  {
   "cell_type": "code",
   "execution_count": null,
   "id": "9dc213dd-9988-4fc9-9233-f9f728656eef",
   "metadata": {},
   "outputs": [],
   "source": [
    "IFrame(\"https://query.wikidata.org/#%23Returns%20a%20list%20of%20Wikidata%20items%20for%20a%20given%20list%20of%20Wikipedia%20article%20names%0A%23List%20of%20Wikipedia%20article%20names%20%28lemma%29%20is%20like%20%22WIKIPEDIA%20ARTICLE%20NAME%22%40LANGUAGE%20CODE%20with%20de%20for%20German%2C%20en%20for%20English%2C%20etc.%0A%23Language%20version%20and%20project%20is%20defined%20in%20schema%3AisPartOF%20with%20de.wikipedia.org%20for%20German%20Wikipedia%2C%20es.wikivoyage%20for%20Spanish%20Wikivoyage%2C%20etc.%0A%0ASELECT%20%3Flemma%20%3Fitem%20WHERE%20%7B%0A%20%20VALUES%20%3Flemma%20%7B%0A%20%20%20%20%22Wikipedia%22%40en%0A%20%20%20%20%22Wikidata%22%40en%0A%20%20%20%20%22Community%20boards%20of%20New%20York%20City%22%40en%0A%20%20%20%20%22List%20of%20Brooklyn%20neighborhoods%22%40en%0A%20%20%20%20%22Community%20boards%20of%20Brooklyn%22%40en%0A%20%20%20%20%22Brooklyn%20Community%20Board%201%22%40en%0A%20%20%20%20%23%22Technische%20Universit%C3%A4t%20Berlin%22%40de%0A%20%20%7D%0A%20%20%3Fsitelink%20schema%3Aabout%20%3Fitem%3B%0A%20%20%20%20schema%3AisPartOf%20%3Chttps%3A%2F%2Fen.wikipedia.org%2F%3E%3B%0A%20%20%20%20schema%3Aname%20%3Flemma.%0A%7D\",\n",
    "       width=1000, height=1000)"
   ]
  },
  {
   "cell_type": "markdown",
   "id": "a4ad8241-6aaa-4368-9a97-8cf676d8ff4c",
   "metadata": {},
   "source": [
    "Should be fun when we get to the KG!"
   ]
  },
  {
   "cell_type": "code",
   "execution_count": null,
   "id": "fc0bb99a-6884-4c59-9faf-7f97d23c305c",
   "metadata": {},
   "outputs": [],
   "source": []
  }
 ],
 "metadata": {
  "kernelspec": {
   "display_name": "Python 3 (ipykernel)",
   "language": "python",
   "name": "python3"
  },
  "language_info": {
   "codemirror_mode": {
    "name": "ipython",
    "version": 3
   },
   "file_extension": ".py",
   "mimetype": "text/x-python",
   "name": "python",
   "nbconvert_exporter": "python",
   "pygments_lexer": "ipython3",
   "version": "3.10.4"
  }
 },
 "nbformat": 4,
 "nbformat_minor": 5
}
