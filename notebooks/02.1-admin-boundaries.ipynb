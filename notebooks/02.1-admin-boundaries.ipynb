{
 "cells": [
  {
   "cell_type": "markdown",
   "id": "9ad7e9bb-8dd1-4d4f-8b58-6f60b558af78",
   "metadata": {},
   "source": [
    "# Administrative Boundaries\n",
    "\n",
    "There seem to be many options.  Let's look at some:\n",
    "\n",
    "   1. [First search](https://data.cityofnewyork.us/City-Government/Community-Districts/yfnk-k7r4) for community districts leads to this\n",
    "   2. Next there was discussion on [Neighborhood Tabulation Areas](https://data.cityofnewyork.us/City-Government/NTA-map/d3qk-pfyz)\n",
    "   3. Finally, after reviewing above datasets, I arrived at the [planning dept page](https://www1.nyc.gov/site/planning/data-maps/open-data/census-download-metadata.page)"
   ]
  },
  {
   "cell_type": "markdown",
   "id": "d1c3c554-14e6-485f-a904-1ea624424e79",
   "metadata": {
    "tags": []
   },
   "source": [
    "# NYC Planning Department\n",
    "\n",
    "This site has several interesting datasets.  For starters:\n",
    "\n",
    "  1. 2020 Census\n",
    "  2. NTA (with Census tracts)\n",
    "  3. CDTA (with Census)"
   ]
  },
  {
   "cell_type": "code",
   "execution_count": null,
   "id": "8237d316-f5e9-4c02-ae2c-ce9c38ca6f82",
   "metadata": {
    "tags": []
   },
   "outputs": [],
   "source": [
    "IFrame(\"https://www1.nyc.gov/site/planning/data-maps/open-data.page\", width=1200, height=800)"
   ]
  },
  {
   "cell_type": "markdown",
   "id": "8e106c8e-948d-489b-a583-08dac2d84258",
   "metadata": {},
   "source": [
    "I have downloaded datasets from the Census and Administrative and Political Boundaries tabs.  I placed them in the data/raw/admin-boundaries folder.  I should probably consider renaming the folders to reflect the fact the data came from nyc-planning.  It is also available on the geodata portal.\n",
    "\n",
    "I am going to look at four of the files to get a sense for the processing flow:\n",
    "\n",
    "  1.  data/raw/admin-boundaries/nyct2020wi_22a/nyct2020wi.shp for the 2020 census tracts\n",
    "  2.  data/raw/admin-boundaries/nycdta2020_22a/nycdta2020.shp for the Community District Tabulation areas (close approx of CD's?)\n",
    "  3.  data/raw/admin-boundaries/nynta2020_22a/nynta2020.shp for Neighborhood Tabulation areas\n",
    "  4.  data/raw/admin-boundaries/Borough Boundaries.zip"
   ]
  },
  {
   "cell_type": "markdown",
   "id": "fe5914be-7001-4c60-aa70-3b82bc22f3b0",
   "metadata": {},
   "source": [
    "# Census Data"
   ]
  },
  {
   "cell_type": "code",
   "execution_count": null,
   "id": "eb3023f2-13b5-4270-b8d5-5d36e48c8553",
   "metadata": {},
   "outputs": [],
   "source": [
    "census_gdf = gpd.read_file('../data/raw/admin-boundaries/nyct2020wi_22a/nyct2020wi.shp')"
   ]
  },
  {
   "cell_type": "code",
   "execution_count": null,
   "id": "c03e8965-9f40-4ece-83e9-73a6959f8753",
   "metadata": {},
   "outputs": [],
   "source": [
    "census_gdf.explore()"
   ]
  },
  {
   "cell_type": "markdown",
   "id": "e7736b58-9b65-4b57-9631-ebf57e01dac9",
   "metadata": {},
   "source": [
    "Not sure if including the water boundaries is going to be the right thing for further analysis?"
   ]
  },
  {
   "cell_type": "code",
   "execution_count": null,
   "id": "961bfd60-0c62-4f1f-b21c-f08b025cd959",
   "metadata": {},
   "outputs": [],
   "source": [
    "census_gdf.to_parquet('../data/processed/admin-boundaries/census-tracts-2020.parq')"
   ]
  },
  {
   "cell_type": "markdown",
   "id": "2529a197-3908-4f3a-bd36-cad2a0c1c9dc",
   "metadata": {},
   "source": [
    "# Community Districts\n",
    "\n",
    "TBD - checkout nyc-story.ipynb"
   ]
  },
  {
   "cell_type": "code",
   "execution_count": null,
   "id": "c79afcc8-031e-4e55-af61-bfa81b28cd9b",
   "metadata": {},
   "outputs": [],
   "source": [
    "community_districts_gdf = gpd.read_file('../data/raw/admin-boundaries/nycdta2020_22a/nycdta2020.shp')"
   ]
  },
  {
   "cell_type": "code",
   "execution_count": null,
   "id": "041df3ee-5427-4cda-98ae-c929f97c5f73",
   "metadata": {},
   "outputs": [],
   "source": [
    "community_districts_gdf.explore()"
   ]
  },
  {
   "cell_type": "code",
   "execution_count": null,
   "id": "15086ecb-8e09-4d17-afaf-f38b9f633b83",
   "metadata": {},
   "outputs": [],
   "source": [
    "community_districts_gdf.to_parquet('../data/processed/admin-boundaries/CDTA.parq')"
   ]
  },
  {
   "cell_type": "markdown",
   "id": "760837b6-77c2-4a69-9677-bd10c65335f7",
   "metadata": {},
   "source": [
    "# Neighborhood Tabulation Areas\n",
    "\n",
    "TBD - see nyc-story.ipynb"
   ]
  },
  {
   "cell_type": "code",
   "execution_count": null,
   "id": "ffe2b891-db56-40bc-a701-bd7464c5cf41",
   "metadata": {},
   "outputs": [],
   "source": [
    "neighborhood_gdf = gpd.read_file('../data/raw/admin-boundaries/nynta2020_22a/nynta2020.shp')"
   ]
  },
  {
   "cell_type": "code",
   "execution_count": null,
   "id": "48e14d24-6fb4-420b-931b-0f916372f8cb",
   "metadata": {},
   "outputs": [],
   "source": [
    "neighborhood_gdf.explore()"
   ]
  },
  {
   "cell_type": "code",
   "execution_count": null,
   "id": "33faa471-fbac-45ed-87e1-04af55b70c1c",
   "metadata": {},
   "outputs": [],
   "source": [
    "neighborhood_gdf.to_parquet('../data/processed/admin-boundaries/NTA.parq')"
   ]
  },
  {
   "cell_type": "markdown",
   "id": "f4930cc8-f7be-49f6-8249-50c8d2c1941d",
   "metadata": {},
   "source": [
    "# Boroughs"
   ]
  },
  {
   "cell_type": "code",
   "execution_count": null,
   "id": "893fac6f-5b61-46e2-929b-c2382bcd9a50",
   "metadata": {},
   "outputs": [],
   "source": [
    "boroughs_gdf = gpd.read_file('../data/raw/admin-boundaries/Borough Boundaries.zip', dtypes={'boro_code': 'Int8'})\n",
    "boroughs_gdf['boro_code'] = boroughs_gdf['boro_code'].astype('Int8')"
   ]
  },
  {
   "cell_type": "code",
   "execution_count": null,
   "id": "34e9d3ed-5d7d-4a51-8397-2f8f40aee31c",
   "metadata": {},
   "outputs": [],
   "source": [
    "boroughs_gdf.info()"
   ]
  },
  {
   "cell_type": "code",
   "execution_count": null,
   "id": "fc076588-ce1e-4302-8419-dd9dcfcb68dc",
   "metadata": {},
   "outputs": [],
   "source": [
    "boroughs_gdf.explore('boro_name')"
   ]
  },
  {
   "cell_type": "code",
   "execution_count": null,
   "id": "a2cb1182-6cc5-4475-9802-8df469ff04aa",
   "metadata": {},
   "outputs": [],
   "source": [
    "boroughs_gdf.to_parquet('../data/processed/admin-boundaries/boroughs.parq')"
   ]
  },
  {
   "cell_type": "markdown",
   "id": "41d44c5b-98c3-4473-b976-aadf1f160685",
   "metadata": {},
   "source": [
    "# Wrapping Up\n",
    "\n",
    "When I decide how to use/combine the boundary files I'll need to look at the crs!\n",
    "\n",
    "I have added processed files for Community Districts, Neighborhoods, Boroughs, and census tracts."
   ]
  },
  {
   "cell_type": "code",
   "execution_count": null,
   "id": "2aa1ab38-e74b-4d96-89ad-e1fc97518862",
   "metadata": {},
   "outputs": [],
   "source": [
    "community_districts_gdf.crs"
   ]
  },
  {
   "cell_type": "code",
   "execution_count": null,
   "id": "b38669e1-5501-4d29-b7c4-26c5f06fac4e",
   "metadata": {},
   "outputs": [],
   "source": [
    "boroughs_gdf.crs"
   ]
  },
  {
   "cell_type": "code",
   "execution_count": null,
   "id": "f8035ad9-38ab-4e2a-9c5c-1fd491184cbb",
   "metadata": {},
   "outputs": [],
   "source": [
    "census_gdf.crs"
   ]
  },
  {
   "cell_type": "code",
   "execution_count": null,
   "id": "a2657e1c-a588-4efc-8ccd-6df596cee63d",
   "metadata": {},
   "outputs": [],
   "source": []
  }
 ],
 "metadata": {
  "kernelspec": {
   "display_name": "Python 3 (ipykernel)",
   "language": "python",
   "name": "python3"
  },
  "language_info": {
   "codemirror_mode": {
    "name": "ipython",
    "version": 3
   },
   "file_extension": ".py",
   "mimetype": "text/x-python",
   "name": "python",
   "nbconvert_exporter": "python",
   "pygments_lexer": "ipython3",
   "version": "3.10.4"
  }
 },
 "nbformat": 4,
 "nbformat_minor": 5
}
