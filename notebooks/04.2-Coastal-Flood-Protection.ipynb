{
 "cells": [
  {
   "cell_type": "markdown",
   "id": "959a78e9-5041-49cf-9dcb-e063a927b4d2",
   "metadata": {},
   "source": [
    "# Coastal Flood Protection\n",
    "\n",
    "The Mayors Office of Climate Resiliency published a document in December 2021.  I will use this as the basis to integrate NYC geodata and STEW-MAP.\n",
    "\n",
    "   - Existing Conditions\n",
    "   - Neighborhood Risk\n",
    "   - Stewardship for Coastal Protection"
   ]
  },
  {
   "cell_type": "code",
   "execution_count": null,
   "id": "50030da4-ce73-443f-919c-cb83308da34e",
   "metadata": {},
   "outputs": [],
   "source": [
    "IFrame('../references/Coastal-Protection-Guidance.pdf', width=1200, height=1000)"
   ]
  },
  {
   "cell_type": "markdown",
   "id": "1bfeff34-d22e-4af4-876c-721dc0adae51",
   "metadata": {},
   "source": [
    "# Existing Conditions"
   ]
  },
  {
   "cell_type": "code",
   "execution_count": null,
   "id": "fabfca32-1846-4f9b-a720-300feee0866e",
   "metadata": {},
   "outputs": [],
   "source": [
    "brooklyn_gdf = gpd.read_parquet('../data/processed/admin-boundaries/brooklyn.parq')"
   ]
  },
  {
   "cell_type": "code",
   "execution_count": null,
   "id": "143fbe71-a40b-4b4e-aeec-9bafc1d0a5a1",
   "metadata": {},
   "outputs": [],
   "source": [
    "brooklyn_turfs_gdf = gpd.read_parquet('../data/processed/brooklyn/brooklyn-turfs.parq')"
   ]
  },
  {
   "cell_type": "code",
   "execution_count": null,
   "id": "31252dcf-65e7-4c9d-ad80-21a633dbc1a2",
   "metadata": {},
   "outputs": [],
   "source": [
    "brooklyn_turf_subset_gdf = brooklyn_turfs_gdf.sort_values('Shape_Area')[['OrgName', 'OrgWebSite', 'PrimST', 'PopID', 'geometry']][0:225]#.explore()"
   ]
  },
  {
   "cell_type": "code",
   "execution_count": null,
   "id": "d77b81f1-d8ea-413f-8f11-101a636d0c09",
   "metadata": {},
   "outputs": [],
   "source": [
    "brooklyn_extreme_flooding_gdf = gpd.read_parquet('../data/processed/DEP/brooklyn-extreme.parq')"
   ]
  },
  {
   "cell_type": "code",
   "execution_count": null,
   "id": "4a85a2ff-479a-43eb-a639-0b63a38dc677",
   "metadata": {},
   "outputs": [],
   "source": []
  },
  {
   "cell_type": "code",
   "execution_count": null,
   "id": "e7b604eb-7483-4ee7-9670-251f8f1c9c0b",
   "metadata": {},
   "outputs": [],
   "source": [
    "center = brooklyn_gdf.iloc[0].geometry.centroid.y, brooklyn_gdf.iloc[0].geometry.centroid.x"
   ]
  },
  {
   "cell_type": "code",
   "execution_count": null,
   "id": "ec2ed9b3-3b13-460c-8e41-128dd3145a21",
   "metadata": {},
   "outputs": [],
   "source": [
    "center"
   ]
  },
  {
   "cell_type": "code",
   "execution_count": null,
   "id": "88fea3b8-8386-41ba-92df-14da31ba1210",
   "metadata": {},
   "outputs": [],
   "source": [
    "imagery = basemap_to_tiles(basemaps.Esri.WorldImagery)\n",
    "imagery.base = True\n",
    "osm = basemap_to_tiles(basemaps.OpenStreetMap.Mapnik)\n",
    "osm.base = True\n",
    "\n",
    "google_map = TileLayer(\n",
    "    url=\"https://mt1.google.com/vt/lyrs=m&x={x}&y={y}&z={z}\",\n",
    "    attribution=\"Google\",\n",
    "    name=\"Google Maps\",\n",
    ")\n",
    "google_map.base = True\n",
    "\n",
    "google_satellite = TileLayer(\n",
    "    url=\"https://mt1.google.com/vt/lyrs=y&x={x}&y={y}&z={z}\",\n",
    "    attribution=\"Google\",\n",
    "    name=\"Google Satellite\"\n",
    ")\n",
    "google_satellite.base = True\n",
    "\n",
    "map_display = Map(center=center, zoom=12,\n",
    "                  layers=[google_satellite, google_map, imagery, osm],\n",
    "                  layout=Layout(height=\"900px\"),\n",
    "                  scroll_wheel_zoom=True)\n",
    "\n",
    "map_display.add_control(LayersControl())\n",
    "\n",
    "map_display.add_control(FullScreenControl())\n",
    "\n",
    "map_display"
   ]
  },
  {
   "cell_type": "code",
   "execution_count": null,
   "id": "5dc63d90-b268-4a74-9459-4a3b3f81fa2a",
   "metadata": {},
   "outputs": [],
   "source": [
    "brooklyn_boundary = GeoData(geo_dataframe = brooklyn_gdf,\n",
    "                   style={'color': 'black', 'fillColor': '#3366cc', 'opacity':0.05, 'weight':1.9, 'dashArray':'2', 'fillOpacity':0.6},\n",
    "                   hover_style={'fillColor': 'red' , 'fillOpacity': 0.2},\n",
    "                   name = 'Brooklyn')\n",
    "\n",
    "map_display += brooklyn_boundary"
   ]
  },
  {
   "cell_type": "code",
   "execution_count": null,
   "id": "6f474c9c-08ca-4dcc-8ba3-f83a9eeb88c9",
   "metadata": {},
   "outputs": [],
   "source": [
    "def random_color(feature):\n",
    "    return {\n",
    "        'color': 'black',\n",
    "        'fillColor': random.choice(['red', 'yellow', 'green', 'orange', 'purple', 'blue']),\n",
    "    }\n",
    "\n",
    "import json\n",
    "import random\n",
    "turfs_geojson = brooklyn_turf_subset_gdf.to_json()\n",
    "\n",
    "geo_json = GeoJSON(\n",
    "    data=json.loads(turfs_geojson),\n",
    "    style={\n",
    "        'opacity': 1, 'dashArray': '9', 'fillOpacity': 0.5, 'weight': 1\n",
    "    },\n",
    "    hover_style={\n",
    "        'color': 'white', 'dashArray': '0', 'fillOpacity': 0.8\n",
    "    },\n",
    "    style_callback=random_color,\n",
    "    name='turfs geojson'\n",
    ")\n",
    "\n",
    "map_display.add_layer(geo_json)\n",
    "\n",
    "turf_html = HTML('''Hover over a turf''')\n",
    "turf_html.layout.margin = '0px 20px 20px 20 px'\n",
    "turf_control = WidgetControl(widget=turf_html, position='bottomright')\n",
    "\n",
    "def update_turf_html(feature, **kwargs):\n",
    "    turf_html.value = f\"<b>Name: {feature['properties']['OrgName']}<br><b>Primary: {feature['properties']['PrimST']}\"\n",
    "    \n",
    "map_display.add_control(turf_control)  # does += work for this?\n",
    "\n",
    "geo_json.on_hover(update_turf_html)"
   ]
  },
  {
   "cell_type": "code",
   "execution_count": null,
   "id": "7b8f7900-0104-475c-be1d-0330d522c156",
   "metadata": {},
   "outputs": [],
   "source": [
    "#turfs = GeoData(geo_dataframe = brooklyn_turf_subset_gdf,\n",
    "#                   style={'color': 'black', 'fillColor': '#3366cc', 'opacity':0.05, 'weight':1.9, 'dashArray':'2', 'fillOpacity':0.6},\n",
    "#                   hover_style={'fillColor': 'red' , 'fillOpacity': 0.2},\n",
    "#                   name = 'Turfs')\n",
    "#\n",
    "#map_display += turfs"
   ]
  },
  {
   "cell_type": "code",
   "execution_count": null,
   "id": "1a5a1188-bbc2-4326-a4a9-6c5c2ae4bba4",
   "metadata": {},
   "outputs": [],
   "source": [
    "flood = GeoData(geo_dataframe = brooklyn_extreme_flooding_gdf,\n",
    "                   style={'color': 'black', 'fillColor': '#3366cc', 'opacity':0.05, 'weight':1.9, 'dashArray':'2', 'fillOpacity':0.6},\n",
    "                   hover_style={'fillColor': 'red' , 'fillOpacity': 0.2},\n",
    "                   name = 'Extreme Flood')\n",
    "\n",
    "map_display += flood"
   ]
  },
  {
   "cell_type": "code",
   "execution_count": null,
   "id": "d9623955-47c7-47e5-9fd3-50ea8160a33e",
   "metadata": {},
   "outputs": [],
   "source": [
    "dep_311_2021_gdf = gpd.read_parquet('../data/processed/DEP/2021-311.parq')"
   ]
  },
  {
   "cell_type": "code",
   "execution_count": null,
   "id": "a062924f-e17b-4b8b-a78b-03e1e154e78f",
   "metadata": {},
   "outputs": [],
   "source": [
    "len(dep_311_2021_gdf)"
   ]
  },
  {
   "cell_type": "code",
   "execution_count": null,
   "id": "49406efb-c8ad-4cb7-89a9-363cf363b5b5",
   "metadata": {},
   "outputs": [],
   "source": [
    "dep_311_2021_gdf.iloc[27]['Created Date'].day"
   ]
  },
  {
   "cell_type": "code",
   "execution_count": null,
   "id": "71a26d61-65d9-4b49-80c6-a9c98040d292",
   "metadata": {},
   "outputs": [],
   "source": [
    "dep_311_2021_gdf['day'] = dep_311_2021_gdf['Created Date'].apply(lambda dt: dt.date().strftime(\"%m-%d (%A)\"))"
   ]
  },
  {
   "cell_type": "code",
   "execution_count": null,
   "id": "9f67f05d-42a5-48cc-acc4-a9b861fb3fc3",
   "metadata": {},
   "outputs": [],
   "source": [
    "foo = dep_311_2021_gdf[dep_311_2021_gdf.Location.notnull()]"
   ]
  },
  {
   "cell_type": "code",
   "execution_count": null,
   "id": "87d79653-bc88-4264-9537-854d99ce50a0",
   "metadata": {},
   "outputs": [],
   "source": [
    "len(foo)"
   ]
  },
  {
   "cell_type": "code",
   "execution_count": null,
   "id": "c41e0f82-9c48-43a4-861e-ad7e69e3c4bb",
   "metadata": {},
   "outputs": [],
   "source": [
    "len(dep_311_2021_gdf)"
   ]
  },
  {
   "cell_type": "markdown",
   "id": "9477574a-849a-4a1d-bb52-cbd4b385e1b5",
   "metadata": {},
   "source": [
    "# 311"
   ]
  },
  {
   "cell_type": "code",
   "execution_count": null,
   "id": "5454a8a8-ff41-4382-8ac9-64ec2edb3237",
   "metadata": {},
   "outputs": [],
   "source": [
    "import folium\n",
    "from folium import plugins"
   ]
  },
  {
   "cell_type": "code",
   "execution_count": null,
   "id": "a55a660c-0463-40e0-a2c3-4b2f3dcb9926",
   "metadata": {},
   "outputs": [],
   "source": [
    "hmap = folium.Map(location = center, tiles='Stamen Toner', zoom_start = 10)\n",
    "plugins.Fullscreen().add_to(hmap);"
   ]
  },
  {
   "cell_type": "code",
   "execution_count": null,
   "id": "f294a28e-1f5f-4217-980d-b9bb216b9b90",
   "metadata": {},
   "outputs": [],
   "source": [
    "from collections import defaultdict, OrderedDict\n",
    "\n",
    "data = defaultdict(list)\n",
    "for row in foo.itertuples():\n",
    "    data[row.day].append([row.geometry.y, row.geometry.x])\n",
    "    #try:\n",
    "        #data[row.day].append([row.geometry.y, row.geometry.x])\n",
    "    #except:\n",
    "        #pass\n",
    "    #if row.Location is not None:\n",
    "        #data[row.day].append([row.geometry.y, row.geometry.x])\n",
    "    \n",
    "data = OrderedDict(sorted(data.items(), key=lambda t: t[0]))"
   ]
  },
  {
   "cell_type": "code",
   "execution_count": null,
   "id": "f42f974c-e8cd-4b82-8aa0-caae2a5bdb12",
   "metadata": {},
   "outputs": [],
   "source": [
    "hm = plugins.HeatMapWithTime(data=list(data.values()),\n",
    "                     index=list(data.keys()), \n",
    "                     \n",
    "                     radius=10,\n",
    "                     auto_play=True,\n",
    "                     max_opacity=0.8)"
   ]
  },
  {
   "cell_type": "code",
   "execution_count": null,
   "id": "e0fa3422-937b-4e54-bfa1-fd88469639db",
   "metadata": {},
   "outputs": [],
   "source": [
    "hm.add_to(hmap)\n",
    "hmap"
   ]
  },
  {
   "cell_type": "code",
   "execution_count": null,
   "id": "e30e5cf5-a14f-462b-b7a4-39873a14170a",
   "metadata": {},
   "outputs": [],
   "source": []
  }
 ],
 "metadata": {
  "kernelspec": {
   "display_name": "Python 3 (ipykernel)",
   "language": "python",
   "name": "python3"
  },
  "language_info": {
   "codemirror_mode": {
    "name": "ipython",
    "version": 3
   },
   "file_extension": ".py",
   "mimetype": "text/x-python",
   "name": "python",
   "nbconvert_exporter": "python",
   "pygments_lexer": "ipython3",
   "version": "3.9.12"
  }
 },
 "nbformat": 4,
 "nbformat_minor": 5
}
