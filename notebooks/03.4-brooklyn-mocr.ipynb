{
 "cells": [
  {
   "cell_type": "markdown",
   "id": "2e6fd0fb-1ebd-4555-92e4-58538f4c99ea",
   "metadata": {},
   "source": [
    "# SLR\n",
    "\n",
    "I started looking into sea level rise (SLR) because of a report published by the Mayors Office of Climate Resiliency.  The data comes from Department of City Planning.\n",
    "\n",
    "**Note:** Need to document the provenance of all these data sets and models!"
   ]
  },
  {
   "cell_type": "code",
   "execution_count": null,
   "id": "8b5b0807-e0f9-4ac6-bb9a-3d52bb0fabac",
   "metadata": {},
   "outputs": [],
   "source": [
    "IFrame('../data/processed/DCP/slr_metadata.pdf', width=1000, height=1000)"
   ]
  },
  {
   "cell_type": "code",
   "execution_count": null,
   "id": "5190e96b-69cf-4623-920c-cf8783ff8c9b",
   "metadata": {},
   "outputs": [],
   "source": [
    "brooklyn_gdf = gpd.read_parquet('../data/processed/brooklyn/brooklyn-boundary.parq')"
   ]
  },
  {
   "cell_type": "code",
   "execution_count": null,
   "id": "03a7dadc-774b-4738-a766-91363c515c97",
   "metadata": {},
   "outputs": [],
   "source": [
    "slr_2050_08_gdf = gpd.read_parquet('../data/processed/DCP/slr-2050-08.parq')\n",
    "slr_2050_11_gdf = gpd.read_parquet('../data/processed/DCP/slr-2050-11.parq')\n",
    "slr_2050_16_gdf = gpd.read_parquet('../data/processed/DCP/slr-2050-16.parq')\n",
    "slr_2050_21_gdf = gpd.read_parquet('../data/processed/DCP/slr-2050-21.parq')\n",
    "slr_2050_30_gdf = gpd.read_parquet('../data/processed/DCP/slr-2050-30.parq')"
   ]
  },
  {
   "cell_type": "code",
   "execution_count": null,
   "id": "d5bf4a34-cf32-4cc9-a4b4-aeb1440cba7e",
   "metadata": {},
   "outputs": [],
   "source": [
    "slr_2050_08_gdf.crs"
   ]
  },
  {
   "cell_type": "code",
   "execution_count": null,
   "id": "dc67a944-7d9b-4e31-8489-176b8be06622",
   "metadata": {},
   "outputs": [],
   "source": [
    "brooklyn_slr_2050_08_gdf = brooklyn_gdf.to_crs('epsg:2263').overlay(slr_2050_08_gdf, how='intersection')\n",
    "brooklyn_slr_2050_11_gdf = brooklyn_gdf.to_crs('epsg:2263').overlay(slr_2050_11_gdf, how='intersection')\n",
    "brooklyn_slr_2050_16_gdf = brooklyn_gdf.to_crs('epsg:2263').overlay(slr_2050_16_gdf, how='intersection')\n",
    "brooklyn_slr_2050_21_gdf = brooklyn_gdf.to_crs('epsg:2263').overlay(slr_2050_21_gdf, how='intersection')\n",
    "brooklyn_slr_2050_30_gdf = brooklyn_gdf.to_crs('epsg:2263').overlay(slr_2050_30_gdf, how='intersection')"
   ]
  },
  {
   "cell_type": "code",
   "execution_count": null,
   "id": "47e00994-400a-4799-bef4-abed99368c61",
   "metadata": {},
   "outputs": [],
   "source": [
    "brooklyn_slr_2050_30_gdf.explore()"
   ]
  },
  {
   "cell_type": "code",
   "execution_count": null,
   "id": "4b80bd53-94b3-45a8-ba49-78801313565d",
   "metadata": {},
   "outputs": [],
   "source": [
    "brooklyn_slr_2050_08_gdf.to_parquet('../data/processed/brooklyn/brooklyn-slr-2050-08.parq')\n",
    "brooklyn_slr_2050_11_gdf.to_parquet('../data/processed/brooklyn/brooklyn-slr-2050-11.parq')\n",
    "brooklyn_slr_2050_16_gdf.to_parquet('../data/processed/brooklyn/brooklyn-slr-2050-16.parq')\n",
    "brooklyn_slr_2050_21_gdf.to_parquet('../data/processed/brooklyn/brooklyn-slr-2050-21.parq')\n",
    "brooklyn_slr_2050_30_gdf.to_parquet('../data/processed/brooklyn/brooklyn-slr-2050-30.parq')"
   ]
  },
  {
   "cell_type": "code",
   "execution_count": null,
   "id": "e75e05d6-b193-4217-ab85-62bfcda908bd",
   "metadata": {},
   "outputs": [],
   "source": []
  }
 ],
 "metadata": {
  "kernelspec": {
   "display_name": "Python 3 (ipykernel)",
   "language": "python",
   "name": "python3"
  },
  "language_info": {
   "codemirror_mode": {
    "name": "ipython",
    "version": 3
   },
   "file_extension": ".py",
   "mimetype": "text/x-python",
   "name": "python",
   "nbconvert_exporter": "python",
   "pygments_lexer": "ipython3",
   "version": "3.10.4"
  }
 },
 "nbformat": 4,
 "nbformat_minor": 5
}
