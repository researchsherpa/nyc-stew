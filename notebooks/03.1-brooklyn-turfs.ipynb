{
 "cells": [
  {
   "cell_type": "markdown",
   "id": "eb612ceb-9c46-4953-acfa-b5135fc351b0",
   "metadata": {},
   "source": [
    "# Brooklyn Turfs\n",
    "\n",
    "Use basic spatial joins to find the STEW-MAP turfs in Brooklyn.  This is the starting point to complete the purpose built data set.\n",
    "\n",
    "The process is straight forward:\n",
    "\n",
    "  1.  Get the boundaries for the 5 boroughs.\n",
    "  2.  Select the Brooklyn boundary and create/save to the processed/brooklyn directory.\n",
    "  3.  Get the STEW-MAP turfs.\n",
    "  4.  Use spatial join on the two geodataframes to find the turfs that overlap Brooklyn.\n",
    "  5.  Save the resulting turfs to processed/brooklyn"
   ]
  },
  {
   "cell_type": "code",
   "execution_count": null,
   "id": "e0ba3a76-862b-42ac-9a54-649cad432a5b",
   "metadata": {},
   "outputs": [],
   "source": []
  },
  {
   "cell_type": "code",
   "execution_count": null,
   "id": "8b067249-4940-4a4b-aee0-d96fa331c19d",
   "metadata": {},
   "outputs": [],
   "source": [
    "borough_gdf = gpd.read_parquet('../data/processed/admin-boundaries/boroughs.parq')"
   ]
  },
  {
   "cell_type": "code",
   "execution_count": null,
   "id": "f74fc785-2103-4c81-ba7a-f4b4f6f7c528",
   "metadata": {},
   "outputs": [],
   "source": [
    "borough_gdf.info()"
   ]
  },
  {
   "cell_type": "code",
   "execution_count": null,
   "id": "1caaee70-16d6-46d1-b752-4df027c04336",
   "metadata": {},
   "outputs": [],
   "source": [
    "borough_gdf.explore(column='boro_name', \n",
    "                    cmap=[\"red\", \"blue\", \"green\", \"yellow\", \"purple\"])"
   ]
  },
  {
   "cell_type": "code",
   "execution_count": null,
   "id": "71b12e90-92db-4eb1-9fe7-ee6e3d903513",
   "metadata": {},
   "outputs": [],
   "source": [
    "brooklyn_gdf = borough_gdf.loc[borough_gdf['boro_code'] ==  3]"
   ]
  },
  {
   "cell_type": "code",
   "execution_count": null,
   "id": "613fd86c-e4ad-4bf4-8b18-27efe2a81638",
   "metadata": {},
   "outputs": [],
   "source": [
    "brooklyn_gdf.explore()"
   ]
  },
  {
   "cell_type": "code",
   "execution_count": null,
   "id": "5d288771-c98b-4acb-9785-a5af4cfcd182",
   "metadata": {},
   "outputs": [],
   "source": [
    "brooklyn_gdf.to_parquet('../data/processed/brooklyn/brooklyn-boundary.parq')"
   ]
  },
  {
   "cell_type": "code",
   "execution_count": null,
   "id": "6bbac5d3-4399-49e2-8fd0-6efef4b896e3",
   "metadata": {},
   "outputs": [],
   "source": [
    "brooklyn_gdf.crs"
   ]
  },
  {
   "cell_type": "code",
   "execution_count": null,
   "id": "12d4377d-d1f8-47a5-9040-8a33d1be5c77",
   "metadata": {},
   "outputs": [],
   "source": [
    "turfs_gdf = gpd.read_parquet('../data/processed/turfs.parq')"
   ]
  },
  {
   "cell_type": "markdown",
   "id": "d310514f-094a-40eb-8899-b1178dc09cc2",
   "metadata": {},
   "source": [
    "Let's examine the geodataframe.  Remember, we've already done this in 01.1-explore-stew-geo.ipynb"
   ]
  },
  {
   "cell_type": "code",
   "execution_count": null,
   "id": "ff0b23fe-e011-442a-99ba-3adac52438af",
   "metadata": {},
   "outputs": [],
   "source": [
    "turfs_gdf.shape"
   ]
  },
  {
   "cell_type": "code",
   "execution_count": null,
   "id": "12e7814a-e9f4-4760-89e9-d6f4d857d036",
   "metadata": {},
   "outputs": [],
   "source": [
    "turfs_gdf.info()#(verbose=True, show_counts=True)"
   ]
  },
  {
   "cell_type": "markdown",
   "id": "7b37db94-d183-493c-988a-4164f170ff6f",
   "metadata": {},
   "source": [
    "I am curious about a unique id for this data set.  Supposed to be PopID.  "
   ]
  },
  {
   "cell_type": "code",
   "execution_count": null,
   "id": "0bb18bae-ed59-4da3-b4e6-a8a559fc094b",
   "metadata": {
    "tags": []
   },
   "outputs": [],
   "source": [
    "turfs_gdf.PopID.is_unique"
   ]
  },
  {
   "cell_type": "markdown",
   "id": "49649989-f748-43e3-8263-64f59474d02f",
   "metadata": {},
   "source": [
    "We will come back and revisit this!"
   ]
  },
  {
   "cell_type": "code",
   "execution_count": null,
   "id": "ad3676a7-3562-4e8f-a00c-efbe4897a569",
   "metadata": {},
   "outputs": [],
   "source": [
    "%%time\n",
    "turfs_in_brooklyn_gdf = brooklyn_gdf.to_crs('epsg:4326').overlay(turfs_gdf.to_crs('epsg:4326'), how='intersection')"
   ]
  },
  {
   "cell_type": "code",
   "execution_count": null,
   "id": "79c7fdb2-0672-4904-adac-e141102bc9a6",
   "metadata": {
    "tags": []
   },
   "outputs": [],
   "source": [
    "turfs_in_brooklyn_gdf.info()#(verbose=True, show_counts=True)"
   ]
  },
  {
   "cell_type": "code",
   "execution_count": null,
   "id": "3adda456-9781-4182-8de1-db17d1e6ae8c",
   "metadata": {},
   "outputs": [],
   "source": [
    "turfs_in_brooklyn_gdf.shape"
   ]
  },
  {
   "cell_type": "code",
   "execution_count": null,
   "id": "0b14ba80-4b69-40f6-934c-08b334b3bde7",
   "metadata": {},
   "outputs": [],
   "source": [
    "309 / 751"
   ]
  },
  {
   "cell_type": "markdown",
   "id": "a296a723-7b9e-4216-907d-164327e4d797",
   "metadata": {},
   "source": [
    "So, **41%** of the turfs fall in Brooklyn. "
   ]
  },
  {
   "cell_type": "markdown",
   "id": "6ad4baed-ac3c-404b-91c8-0cd7147262b0",
   "metadata": {},
   "source": [
    "Before I save this dataframe I want to some house cleaning."
   ]
  },
  {
   "cell_type": "code",
   "execution_count": null,
   "id": "ef41c5be-9aae-4779-b4d9-180d2adfc20a",
   "metadata": {
    "tags": []
   },
   "outputs": [],
   "source": [
    "dtypes_map = {\n",
    "    \"boro_code\": \"Int8\",\n",
    "\"OBJECTID\" : \"Int32\",\n",
    "\"ResID\" : \"Int32\",\n",
    "\"Conserve\" : \"Int32\",\n",
    "\"Manage\" : \"Int32\",\n",
    "\"Transform_\" : \"Int32\",\n",
    "\"Monitor\" : \"Int32\",\n",
    "\"Advocate\" : \"Int32\",\n",
    "\"Educate\" : \"Int32\",\n",
    "\"Particip\" : \"Int32\",\n",
    "\"NoneSTEWFn\" : \"Int32\",\n",
    "\"OrgType\" : \"Int32\",\n",
    "\"PS_Wtershd\" : \"Int32\",\n",
    "\"PS_Stream\" : \"Int32\",\n",
    "\"PS_Shrline\" : \"Int32\",\n",
    "\"PS_Wetland\" : \"Int32\",\n",
    "\"PSSaltMrsh\": \"Int32\",\n",
    "\"PS_Forest\" : \"Int32\",\n",
    "\"PS_Park\" : \"Int32\",\n",
    "\"PS_CommGrd\" : \"Int32\",\n",
    "\"PS_UrbFarm\" : \"Int32\",\n",
    "\"PS_VacLot\" : \"Int32\",\n",
    "\"PS_Brwnfld\" : \"Int32\",\n",
    "\"PS_Ballfld\" : \"Int32\",\n",
    "\"PS_PlayFld\" : \"Int32\",\n",
    "\"PS_DogPark\" : \"Int32\",\n",
    "\"PS_PubGrdn\" : \"Int32\",\n",
    "\"PS_Grnways\" : \"Int32\",\n",
    "\"PS_PROW\" : \"Int32\",\n",
    "\"PS_PROW_1\" : \"Int32\",\n",
    "\"PS_StrTree\" : \"Int32\",\n",
    "\"PS_Planter\" : \"Int32\",\n",
    "\"PS_ResBldg\" : \"Int32\",\n",
    "\"PS_Schlyrd\" : \"Int32\",\n",
    "\"PS_PubBldg\" : \"Int32\",\n",
    "\"PS_Crtyard\" : \"Int32\",\n",
    "\"PS_GrnRoof\" : \"Int32\",\n",
    "\"PS_GrnBldg\" : \"Int32\",\n",
    "\"PS_WsteSys\" : \"Int32\",\n",
    "\"PS_EnrgySy\" : \"Int32\",\n",
    "\"PS_FdSys\" : \"Int32\",\n",
    "\"PS_StrmWtr\" : \"Int32\",\n",
    "\"PS_Atmsphr\" : \"Int32\",\n",
    "\"PS_Other\" : \"Int32\",\n",
    "\"PS_None\" : \"Int32\",\n",
    "\"PO_Local\" : \"Int32\",\n",
    "\"PO_NGO\" : \"Int32\",\n",
    "\"PO_PubPriv\" : \"Int32\",\n",
    "\"PO_State\" : \"Int32\",\n",
    "\"OF_Animal\" : \"Int32\",\n",
    "\"OF_Arts\" : \"Int32\",\n",
    "\"OF_CommImp\" : \"Int32\",\n",
    "\"OF_Crime\" : \"Int32\",\n",
    "\"OF_EconDev\" : \"Int32\",\n",
    "\"OF_Educ\" : \"Int32\",\n",
    "\"Of_ER\" : \"Int32\",\n",
    "\"OF_Employ\" : \"Int32\",\n",
    "\"OF_EngyEff\" : \"Int32\",\n",
    "\"OF_Environ\" : \"Int32\",\n",
    "\"OF_Faith\" : \"Int32\",\n",
    "\"OF_Food\" : \"Int32\",\n",
    "\"OF_Housing\" : \"Int32\",\n",
    "\"OF_HumServ\" : \"Int32\",\n",
    "\"OF_LeglSrv\" : \"Int32\",\n",
    "\"OF_PwrGen\" : \"Int32\",\n",
    "\"OF_GrantPR\" : \"Int32\",\n",
    "\"OF_PubHlth\" : \"Int32\",\n",
    "\"OF_SprtRec\" : \"Int32\",\n",
    "\"OF_RandD\" : \"Int32\",\n",
    "\"OF_Senior\" : \"Int32\",\n",
    "\"OF_Pollute\" : \"Int32\",\n",
    "\"OF_Transpo\" : \"Int32\",\n",
    "\"OF_Youth\" : \"Int32\",\n",
    "\"OrgFnOther\" : \"Int32\",\n",
    "\"PctStew\" : \"Int32\",\n",
    "\"FTStaff\" : \"Int32\",\n",
    "\"PTStaff\" : \"Int32\",\n",
    "\"Members\" : \"Int32\",\n",
    "\"Volunteers\" : \"Int32\",\n",
    "\"OccVolHrs\" : \"Int32\",\n",
    "\"ComPartic\" : \"Int32\",\n",
    "\"TrustBnNei\" : \"Int32\",\n",
    "\"InflncPP\" : \"Int32\",\n",
    "\"PltsHabQy\" : \"Int32\",\n",
    "\"AirWatQlty\" : \"Int32\",\n",
    "\"LndPrtctn\" : \"Int32\",\n",
    "\"UrbnSustn\" : \"Int32\",\n",
    "\"PlaNYC2007\" : \"Int32\",\n",
    "\"MTNYC\" : \"Int32\",\n",
    "\"DEP2010\" : \"Int32\",\n",
    "\"Vis2020\" : \"Int32\",\n",
    "\"PlaNYC2013\" : \"Int32\",\n",
    "\"VZero2014\" : \"Int32\",\n",
    "\"OneNYC2015\" : \"Int32\",\n",
    "\"Waste2015\" : \"Int32\",\n",
    "\"OthPlans\" : \"Int32\",\n",
    "\"Dr_ExtrWth\" : \"Int32\",\n",
    "\"DR_CC\" : \"Int32\",\n",
    "\"Dr_FinanCr\" : \"Int32\",\n",
    "\"Dr_SocialM\" : \"Int32\",\n",
    "\"Dr_EO\" : \"Int32\",\n",
    "\"Dr_NeighDe\" : \"Int32\",\n",
    "\"Dr_Other\" : \"Int32\",\n",
    "\"Serv_Data\" : \"Int32\",\n",
    "\"Serv_Legal\" : \"Int32\",\n",
    "\"Serv_Build\" : \"Int32\",\n",
    "\"Serv_Equip\" : \"Int32\",\n",
    "\"Serv_Tech\" : \"Int32\",\n",
    "\"Serv_Labor\" : \"Int32\",\n",
    "\"Serv_Grnts\" : \"Int32\",\n",
    "\"Serv_Comp\" : \"Int32\",\n",
    "\"Serv_PR\" : \"Int32\",\n",
    "\"Serv_Data_\" : \"Int32\",\n",
    "\"Serv_Ot\" : \"Int32\",\n",
    "\"Shr_No\" : \"Int32\",\n",
    "\"Shr_Natl\" : \"Int32\",\n",
    "\"Shr_Local\" : \"Int32\",\n",
    "\"Shr_Dir\" : \"Int32\",\n",
    "\"Shr_MailBs\" : \"Int32\",\n",
    "\"Shr_Door\" : \"Int32\",\n",
    "\"Shr_WrdMth\" : \"Int32\",\n",
    "\"Shr_Flyer\" : \"Int32\",\n",
    "\"Shr_Web\" : \"Int32\",\n",
    "\"Shr_Social\" : \"Int32\",\n",
    "\"Shr_List\" : \"Int32\",\n",
    "\"Shr_Blog\" : \"Int32\",\n",
    "\"Shr_NtlCnf\" : \"Int32\",\n",
    "\"Shr_City\" : \"Int32\",\n",
    "\"Shr_Radio\" : \"Int32\",\n",
    "\"Shr_TV\" : \"Int32\",\n",
    "\"Shr_Ot\" : \"Int32\",\n",
    "\"Inter_YN\" : \"Int32\"\n",
    "}"
   ]
  },
  {
   "cell_type": "code",
   "execution_count": null,
   "id": "c62d60dc-0e8c-4c28-86d0-f176f981e2c9",
   "metadata": {},
   "outputs": [],
   "source": [
    "%%time\n",
    "for key, value in dtypes_map.items():\n",
    "    turfs_in_brooklyn_gdf[key] = turfs_in_brooklyn_gdf[key].astype(value)"
   ]
  },
  {
   "cell_type": "markdown",
   "id": "7d011f8f-ed85-4ebf-b465-812ef6886e15",
   "metadata": {},
   "source": [
    "I converted all those float64 types to something more appropriate.  I cuts the size a bit."
   ]
  },
  {
   "cell_type": "code",
   "execution_count": null,
   "id": "6846ad14-31aa-461a-aaf3-fdc5e1878e2f",
   "metadata": {},
   "outputs": [],
   "source": [
    "turfs_in_brooklyn_gdf.info()"
   ]
  },
  {
   "cell_type": "markdown",
   "id": "40dfdfe0-c532-4d33-be60-16cbaf883a79",
   "metadata": {},
   "source": [
    "According to the data dictionary PopID is a unique id.  I don't think that is true!"
   ]
  },
  {
   "cell_type": "markdown",
   "id": "83c71a29-947c-4504-884b-5a3019b20806",
   "metadata": {},
   "source": [
    "First we can check the original STEW-MAP turfs."
   ]
  },
  {
   "cell_type": "code",
   "execution_count": null,
   "id": "05ed3922-eda8-42bf-acdc-cb0854a70f26",
   "metadata": {},
   "outputs": [],
   "source": [
    "turfs_gdf.PopID.value_counts()"
   ]
  },
  {
   "cell_type": "markdown",
   "id": "ecc6c5b4-69d9-4296-bb00-3268d214e0c1",
   "metadata": {},
   "source": [
    "Next we can look at the Brooklyn turfs obtained from the spatial join."
   ]
  },
  {
   "cell_type": "code",
   "execution_count": null,
   "id": "560577a9-4584-4955-94b6-25fcc5e483a6",
   "metadata": {
    "tags": []
   },
   "outputs": [],
   "source": [
    "turfs_in_brooklyn_gdf.PopID.is_unique"
   ]
  },
  {
   "cell_type": "code",
   "execution_count": null,
   "id": "685994bd-9bf5-4d6c-b949-8036ab203a1c",
   "metadata": {},
   "outputs": [],
   "source": [
    "turfs_in_brooklyn_gdf.PopID.value_counts()"
   ]
  },
  {
   "cell_type": "markdown",
   "id": "160d334a-e4df-4031-89ca-8673a63f1d8b",
   "metadata": {},
   "source": [
    "Two PopID's, 1190 and 20212, are not unique in the Brooklyn turfs.  At first glance it doesn't look like an artifact of the spatial joins?? \n",
    "\n",
    "I am going to check them out and get rid of one of them.\n",
    "\n",
    "**Note:**  There are two of them so this is a mechanical technique.  Might want to do this right up front and get rid of the third one!"
   ]
  },
  {
   "cell_type": "code",
   "execution_count": null,
   "id": "6bd11886-b48f-4882-93df-8328f85b31af",
   "metadata": {},
   "outputs": [],
   "source": [
    "turfs_in_brooklyn_gdf[turfs_in_brooklyn_gdf['PopID'] == 1190]"
   ]
  },
  {
   "cell_type": "code",
   "execution_count": null,
   "id": "0d7211fd-e52c-40d5-bbfa-f5d9328ad9f9",
   "metadata": {},
   "outputs": [],
   "source": [
    "turfs_in_brooklyn_gdf[turfs_in_brooklyn_gdf['PopID'] == 20212]"
   ]
  },
  {
   "cell_type": "markdown",
   "id": "bb1ab986-1fc2-429a-a394-19c0c9dfbc83",
   "metadata": {},
   "source": [
    "After visual inspection index 298 for PopID 1190 seems a reasonable choice?\n",
    "\n",
    "For PopID 20212 I flipped a coin and selected index 129."
   ]
  },
  {
   "cell_type": "code",
   "execution_count": null,
   "id": "2d7a3b33-8b62-4a93-9b43-aa5f3ee841b5",
   "metadata": {},
   "outputs": [],
   "source": [
    "turfs_in_brooklyn_gdf = turfs_in_brooklyn_gdf.drop(index=[298, 129])"
   ]
  },
  {
   "cell_type": "code",
   "execution_count": null,
   "id": "59b43853-2705-4cfa-aab3-59af9e6aa39f",
   "metadata": {},
   "outputs": [],
   "source": [
    "turfs_in_brooklyn_gdf.PopID.is_unique"
   ]
  },
  {
   "cell_type": "markdown",
   "id": "dc49e799-be65-48b6-b7e7-6669a9ae9ea9",
   "metadata": {},
   "source": [
    "Now we have a unique id (as for the data dictionary) and 307 turfs in Brooklyn."
   ]
  },
  {
   "cell_type": "code",
   "execution_count": null,
   "id": "62855baa-cf71-412c-84ed-bcdfe76e30b2",
   "metadata": {
    "tags": []
   },
   "outputs": [],
   "source": [
    "turfs_in_brooklyn_gdf.shape"
   ]
  },
  {
   "cell_type": "code",
   "execution_count": null,
   "id": "95b7ef0a-0d4d-4b3c-878f-a4dd090bf640",
   "metadata": {},
   "outputs": [],
   "source": [
    "turfs_in_brooklyn_gdf.explore('OrgName')"
   ]
  },
  {
   "cell_type": "markdown",
   "id": "50174bf4-8b2b-4acb-a383-da94e3ddc552",
   "metadata": {},
   "source": [
    "Finally, we can save the brooklyn-turfs for next steps."
   ]
  },
  {
   "cell_type": "code",
   "execution_count": null,
   "id": "aab6c687-da68-4a8a-a49c-a1753d903aae",
   "metadata": {},
   "outputs": [],
   "source": [
    "turfs_in_brooklyn_gdf.to_parquet('../data/processed/brooklyn/brooklyn-turfs.parq')"
   ]
  },
  {
   "cell_type": "code",
   "execution_count": null,
   "id": "80fd71fb-2936-4d29-8a72-41454fae7a08",
   "metadata": {},
   "outputs": [],
   "source": []
  }
 ],
 "metadata": {
  "kernelspec": {
   "display_name": "Python 3 (ipykernel)",
   "language": "python",
   "name": "python3"
  },
  "language_info": {
   "codemirror_mode": {
    "name": "ipython",
    "version": 3
   },
   "file_extension": ".py",
   "mimetype": "text/x-python",
   "name": "python",
   "nbconvert_exporter": "python",
   "pygments_lexer": "ipython3",
   "version": "3.10.4"
  }
 },
 "nbformat": 4,
 "nbformat_minor": 5
}
