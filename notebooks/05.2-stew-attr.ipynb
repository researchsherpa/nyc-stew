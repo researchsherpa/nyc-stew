{
 "cells": [
  {
   "cell_type": "markdown",
   "id": "1460094b-0869-4ffa-a223-24d68f902a53",
   "metadata": {},
   "source": [
    "Initial hacking on the STEW-MAP attributes.  Most of this is incorporated in notebooks above."
   ]
  },
  {
   "cell_type": "code",
   "execution_count": null,
   "id": "c894b505-7800-45c6-85a7-bb696b162fba",
   "metadata": {},
   "outputs": [],
   "source": [
    "import fiona"
   ]
  },
  {
   "cell_type": "code",
   "execution_count": null,
   "id": "78eefaab-31b2-4e97-8ffc-ba96ca4e07c1",
   "metadata": {},
   "outputs": [],
   "source": [
    "borough_gdf = gpd.read_file('../data/admin-boundaries/Borough Boundaries.zip', dtypes={'boro_code': 'Int8'})"
   ]
  },
  {
   "cell_type": "code",
   "execution_count": null,
   "id": "4119a757-0b93-4558-85da-0f78df8bb3c4",
   "metadata": {},
   "outputs": [],
   "source": [
    "borough_gdf.info()"
   ]
  },
  {
   "cell_type": "code",
   "execution_count": null,
   "id": "52f99322-2c5c-4184-97d0-1d1f7fd403bd",
   "metadata": {},
   "outputs": [],
   "source": [
    "borough_gdf['boro_code'] = borough_gdf['boro_code'].astype('Int8')"
   ]
  },
  {
   "cell_type": "code",
   "execution_count": null,
   "id": "057487f5-58fb-40b9-8d52-22bfe87c34d0",
   "metadata": {},
   "outputs": [],
   "source": [
    "borough_gdf.info()"
   ]
  },
  {
   "cell_type": "code",
   "execution_count": null,
   "id": "5794133c-327b-4373-8964-104e68c1f801",
   "metadata": {},
   "outputs": [],
   "source": [
    "borough_gdf.explore(column='boro_name', \n",
    "                    cmap=[\"red\", \"blue\", \"green\", \"yellow\", \"purple\"])"
   ]
  },
  {
   "cell_type": "code",
   "execution_count": null,
   "id": "4d020353-211a-415b-8844-7dc239ae6c36",
   "metadata": {},
   "outputs": [],
   "source": [
    "brooklyn_gdf = borough_gdf.loc[borough_gdf['boro_code'] ==  3]"
   ]
  },
  {
   "cell_type": "code",
   "execution_count": null,
   "id": "e022add2-bf5b-40d7-a49c-68f1d8854cc0",
   "metadata": {},
   "outputs": [],
   "source": [
    "brooklyn_gdf.crs"
   ]
  },
  {
   "cell_type": "code",
   "execution_count": null,
   "id": "184afa92-d6bb-4c75-8f80-04a668bddc41",
   "metadata": {},
   "outputs": [],
   "source": [
    "fiona.listlayers('../data/NYC-2017-STEW-MAP-Public-Version2/NYC2017_STEWMAP_Version2.gdb/')"
   ]
  },
  {
   "cell_type": "code",
   "execution_count": null,
   "id": "feb3a43f-b31e-4aa7-ac66-94849ecca6b7",
   "metadata": {},
   "outputs": [],
   "source": [
    "%%time\n",
    "polygon_locations_gdf = gpd.read_file('../data/NYC-2017-STEW-MAP-Public-Version2/NYC2017_STEWMAP_Version2.gdb/',\n",
    "                           driver='FileGDB',\n",
    "                           dtypes={'DR_CC': 'Int64',\n",
    "                                  'Dr_NeighDe': 'Int64',\n",
    "                                  'Dr_ExtrWth': 'Int64'},\n",
    "                           layer='NYC2017_STEWMAP_PublicPolygons_Version2')"
   ]
  },
  {
   "cell_type": "code",
   "execution_count": null,
   "id": "357207fc-4a03-46e8-ae25-a495dfe4b205",
   "metadata": {},
   "outputs": [],
   "source": [
    "polygon_locations_gdf.PopID.is_unique"
   ]
  },
  {
   "cell_type": "code",
   "execution_count": null,
   "id": "a99e55f1-7780-4d63-b046-9111e9e469d6",
   "metadata": {},
   "outputs": [],
   "source": [
    "polygon_locations_gdf.PopID.value_counts()"
   ]
  },
  {
   "cell_type": "code",
   "execution_count": null,
   "id": "a28e5037-087d-4019-8411-56cb63cebe38",
   "metadata": {},
   "outputs": [],
   "source": [
    "dup_popid = [20212, 1190, 20333]"
   ]
  },
  {
   "cell_type": "code",
   "execution_count": null,
   "id": "c8363f10-cad9-44da-a950-3e912c6b6dd2",
   "metadata": {},
   "outputs": [],
   "source": [
    "nondup_turfs = polygon_locations_gdf.query(f\"PopID not in @dup_popid\")"
   ]
  },
  {
   "cell_type": "code",
   "execution_count": null,
   "id": "fe2b2c7f-983b-480b-8e51-936336fe04b7",
   "metadata": {},
   "outputs": [],
   "source": [
    "dup_turfs['OrgName']"
   ]
  },
  {
   "cell_type": "code",
   "execution_count": null,
   "id": "958aa4e5-33c9-489e-8b4c-65a5a9c9ab98",
   "metadata": {},
   "outputs": [],
   "source": [
    "nondup_turfs.PopID.is_unique"
   ]
  },
  {
   "cell_type": "code",
   "execution_count": null,
   "id": "77995895-36c6-40b7-943c-34ad931db904",
   "metadata": {},
   "outputs": [],
   "source": [
    "%%time\n",
    "point_locations_gdf = gpd.read_file('../data/NYC-2017-STEW-MAP-Public-Version2/NYC2017_STEWMAP_Version2.gdb/',\n",
    "                           driver='FileGDB',\n",
    "                           dtypes={'DR_CC': 'Int64',\n",
    "                                  'Dr_NeighDe': 'Int64',\n",
    "                                  'Dr_ExtrWth': 'Int64'},\n",
    "                           layer='NYC2017_STEWMAP_PublicPoints_Version2')"
   ]
  },
  {
   "cell_type": "code",
   "execution_count": null,
   "id": "0bbb77e2-4d63-41d0-9d18-468205deac54",
   "metadata": {},
   "outputs": [],
   "source": [
    "point_locations_gdf.PopID.value_counts()"
   ]
  },
  {
   "cell_type": "code",
   "execution_count": null,
   "id": "a4e99d1f-b2a4-451e-b455-65074dd82065",
   "metadata": {},
   "outputs": [],
   "source": [
    "in_brooklyn_gdf = brooklyn_gdf.to_crs('epsg:4326').overlay(polygon_locations_gdf.to_crs('epsg:4326'), how='intersection')"
   ]
  },
  {
   "cell_type": "code",
   "execution_count": null,
   "id": "53aadaf6-6ab8-4864-8b8d-2f20af66a9e7",
   "metadata": {
    "tags": []
   },
   "outputs": [],
   "source": [
    "list(in_brooklyn_gdf.columns)"
   ]
  },
  {
   "cell_type": "code",
   "execution_count": null,
   "id": "3a720ac0-9c9f-412e-bfb1-21fd3f6e4533",
   "metadata": {},
   "outputs": [],
   "source": []
  },
  {
   "cell_type": "code",
   "execution_count": null,
   "id": "b9f5a487-7efc-4e07-9b67-8ec478dfab06",
   "metadata": {},
   "outputs": [],
   "source": []
  },
  {
   "cell_type": "code",
   "execution_count": null,
   "id": "fbd27bc8-9007-4ebe-b2d1-1ae85d1d0bc7",
   "metadata": {},
   "outputs": [],
   "source": []
  },
  {
   "cell_type": "code",
   "execution_count": null,
   "id": "884e64b0-ecf5-4f49-b720-0f4a9ff97672",
   "metadata": {},
   "outputs": [],
   "source": [
    "in_brooklyn_gdf.loc[in_brooklyn_gdf['OrgName'] != 'FABSCRAP'].explore(\n",
    "    column='OrgName', \n",
    "    tooltip=['OrgName', 'OrgWebSite', 'OrgTwitter', 'boro_name'],\n",
    "    popup=True, \n",
    "    legend=False,\n",
    "    width=1000,\n",
    "    tiles=\"CartoDB positron\", \n",
    "    cmap=\"Set1\", \n",
    "    style_kwds=dict(color=\"black\") \n",
    "    )"
   ]
  },
  {
   "cell_type": "code",
   "execution_count": null,
   "id": "15459b6d-a7bd-422c-ac10-2e068f0ee315",
   "metadata": {},
   "outputs": [],
   "source": []
  },
  {
   "cell_type": "code",
   "execution_count": null,
   "id": "bc417e25-4f02-458a-a076-98dd651ff114",
   "metadata": {},
   "outputs": [],
   "source": []
  },
  {
   "cell_type": "code",
   "execution_count": null,
   "id": "0fd4b521-b32f-4e98-b794-9fcce8d242f0",
   "metadata": {},
   "outputs": [],
   "source": []
  },
  {
   "cell_type": "code",
   "execution_count": null,
   "id": "db0a099e-1d3b-4683-82c6-1984551314a5",
   "metadata": {},
   "outputs": [],
   "source": [
    "%%time\n",
    "office_locations_gdf = gpd.read_file('../data/NYC-2017-STEW-MAP-Public-Version2/NYC2017_STEWMAP_Version2.gdb/',\n",
    "                           driver='FileGDB',\n",
    "                           dtypes={'DR_CC': 'Int64',\n",
    "                                  'Dr_NeighDe': 'Int64',\n",
    "                                  'Dr_ExtrWth': 'Int64'},\n",
    "                           layer='NYC2017_STEWMAP_PublicPoints_Version2')\n",
    "\n",
    "#office_locations_gdf['DR_CC'] = office_locations_gdf.DR_CC.astype('Int64')\n",
    "\n",
    "#office_locations_gdf['Dr_NeighDe'] = office_locations_gdf.Dr_NeighDe.astype('Int64')\n",
    "\n",
    "#office_locations_gdf['Dr_ExtrWth'] = office_locations_gdf.Dr_ExtrWth.astype('Int64')"
   ]
  },
  {
   "cell_type": "code",
   "execution_count": null,
   "id": "cacd66c7-25f8-41b1-b670-e98c558a0b2d",
   "metadata": {
    "tags": []
   },
   "outputs": [],
   "source": [
    "office_locations_gdf.info(verbose=True, show_counts=True)"
   ]
  },
  {
   "cell_type": "code",
   "execution_count": null,
   "id": "d3c45901-9c06-4941-8470-a549679bcb9c",
   "metadata": {},
   "outputs": [],
   "source": [
    "office_locations_gdf[:20][['OrgName', 'OrgWebSite']]"
   ]
  },
  {
   "cell_type": "code",
   "execution_count": null,
   "id": "f3ee646d-dd81-4712-bc67-d898d0826eab",
   "metadata": {},
   "outputs": [],
   "source": [
    "empty_url = ['', ' ']"
   ]
  },
  {
   "cell_type": "code",
   "execution_count": null,
   "id": "afc92033-2af4-426f-bf28-fb97ea31da53",
   "metadata": {},
   "outputs": [],
   "source": [
    "foo = office_locations_gdf.query(f\"OrgWebSite in @empty_url\")"
   ]
  },
  {
   "cell_type": "code",
   "execution_count": null,
   "id": "36793d16-8b4b-49cc-b9a8-1b57ae5902e5",
   "metadata": {},
   "outputs": [],
   "source": [
    "bar = office_locations_gdf.query(f\"OrgWebSite not in @empty_url\").reset_index().drop(columns=['index'])"
   ]
  },
  {
   "cell_type": "code",
   "execution_count": null,
   "id": "16081268-2805-43ec-b9ef-72486792a280",
   "metadata": {},
   "outputs": [],
   "source": [
    "bar.info()"
   ]
  },
  {
   "cell_type": "code",
   "execution_count": null,
   "id": "e7fe328c-765f-4131-9b98-b2130bcd4a60",
   "metadata": {},
   "outputs": [],
   "source": []
  },
  {
   "cell_type": "code",
   "execution_count": null,
   "id": "0c67aa4c-c474-4b60-a2a8-a62cb4767780",
   "metadata": {},
   "outputs": [],
   "source": [
    "list(bar[:40]['OrgWebSite'])"
   ]
  },
  {
   "cell_type": "code",
   "execution_count": null,
   "id": "788fbafb-4bb3-4a76-8fd4-4f173e31f5d6",
   "metadata": {},
   "outputs": [],
   "source": [
    "office_locations_gdf.iloc[27]['DR_CC'] == 7"
   ]
  },
  {
   "cell_type": "code",
   "execution_count": null,
   "id": "b11896f0-2175-4231-af9c-8ffb706c6cee",
   "metadata": {},
   "outputs": [],
   "source": [
    "bar['OrgZip'].value_counts()"
   ]
  },
  {
   "cell_type": "code",
   "execution_count": null,
   "id": "0bb15545-b9cb-4712-98ca-fe46af0085c6",
   "metadata": {},
   "outputs": [],
   "source": [
    "bar.iloc[27]['OrgZip'][:3]"
   ]
  },
  {
   "cell_type": "code",
   "execution_count": null,
   "id": "fa956f97-62c3-4023-bfff-658eb1854147",
   "metadata": {},
   "outputs": [],
   "source": [
    "bar['zip_prefix'] = bar['OrgZip'].apply(lambda v: v[:3])"
   ]
  },
  {
   "cell_type": "code",
   "execution_count": null,
   "id": "66b19c1b-02c3-4c13-b573-e251afc42dc7",
   "metadata": {},
   "outputs": [],
   "source": [
    "brooklyn = bar.loc[bar['zip_prefix'] == '112']"
   ]
  },
  {
   "cell_type": "code",
   "execution_count": null,
   "id": "344fd730-7761-4012-853e-61a6d23b4fcc",
   "metadata": {},
   "outputs": [],
   "source": [
    "brooklyn['OrgZip'].value_counts()"
   ]
  },
  {
   "cell_type": "code",
   "execution_count": null,
   "id": "c9f03e51-976f-4033-b93e-e130554bc023",
   "metadata": {},
   "outputs": [],
   "source": [
    "%%time\n",
    "turfs_gdf = gpd.read_file('../data/NYC-2017-STEW-MAP-Public-Version2/NYC2017_STEWMAP_Version2.gdb/',\n",
    "                           driver='FileGDB',\n",
    "                           layer='NYC2017_STEWMAP_PublicPolygons_Version2')"
   ]
  },
  {
   "cell_type": "code",
   "execution_count": null,
   "id": "531e607c-9066-42ac-9c4d-1622a72d9e6b",
   "metadata": {},
   "outputs": [],
   "source": [
    "office_columns = set(office_locations_gdf)\n",
    "turf_columns = set(turfs_gdf)\n"
   ]
  },
  {
   "cell_type": "code",
   "execution_count": null,
   "id": "3af4f3d7-ca43-45b2-bb9d-4703ef8896f3",
   "metadata": {},
   "outputs": [],
   "source": [
    "len(office_columns)"
   ]
  },
  {
   "cell_type": "code",
   "execution_count": null,
   "id": "a429240e-a7cf-4a19-bb14-2ecd92ec0198",
   "metadata": {},
   "outputs": [],
   "source": [
    "len(turf_columns)"
   ]
  },
  {
   "cell_type": "code",
   "execution_count": null,
   "id": "b12a83c7-1336-48ec-8dfb-e0a066ff5eb8",
   "metadata": {},
   "outputs": [],
   "source": [
    "office_columns.difference(turf_columns)"
   ]
  },
  {
   "cell_type": "code",
   "execution_count": null,
   "id": "dbe0351f-5492-4a8f-9512-a3ee635c9fd3",
   "metadata": {},
   "outputs": [],
   "source": [
    "turf_columns.difference(office_columns)"
   ]
  },
  {
   "cell_type": "markdown",
   "id": "959e1fea-6df4-421e-90fd-e478cf72ddd8",
   "metadata": {},
   "source": [
    "So, as stated in office hours the only differences are in geometries.\n",
    "\n",
    "Not sure about ResID_1 ..."
   ]
  },
  {
   "cell_type": "code",
   "execution_count": null,
   "id": "c606cf5d-034f-4c95-9b62-616b51ec7e56",
   "metadata": {},
   "outputs": [],
   "source": [
    "columns_in_both = list(office_columns.intersection(turf_columns))"
   ]
  },
  {
   "cell_type": "code",
   "execution_count": null,
   "id": "64cf3fe7-cfdd-45af-bdb8-22ded5c1f86c",
   "metadata": {},
   "outputs": [],
   "source": [
    "turfs_both_gdf = turfs_gdf[columns_in_both]\n",
    "office_locations_both_gdf = office_locations_gdf[columns_in_both]"
   ]
  },
  {
   "cell_type": "code",
   "execution_count": null,
   "id": "460e7d70-4247-4073-ae59-bf9aa05931ad",
   "metadata": {},
   "outputs": [],
   "source": [
    "office_locations_gdf.ResID_1.value_counts()"
   ]
  },
  {
   "cell_type": "code",
   "execution_count": null,
   "id": "5f3c75f2-f6a4-4e3f-84e2-06f2ab519cd9",
   "metadata": {},
   "outputs": [],
   "source": [
    "office_locations_gdf.info(verbose=True, show_counts=True)"
   ]
  },
  {
   "cell_type": "code",
   "execution_count": null,
   "id": "2f9e2428-659a-4246-ac02-12c08417b949",
   "metadata": {},
   "outputs": [],
   "source": [
    "office_locations_gdf.DR_CC.value_counts()"
   ]
  },
  {
   "cell_type": "code",
   "execution_count": null,
   "id": "fe5eecdc-fd65-489f-8b30-4d0ccddd9e44",
   "metadata": {},
   "outputs": [],
   "source": []
  },
  {
   "cell_type": "code",
   "execution_count": null,
   "id": "36dee691-9f35-4aab-a21f-b8dc9dbb6054",
   "metadata": {},
   "outputs": [],
   "source": [
    "highly_influential = [7, 6]"
   ]
  },
  {
   "cell_type": "code",
   "execution_count": null,
   "id": "90aa46bf-a39c-4f40-ab19-4af08d8d079f",
   "metadata": {},
   "outputs": [],
   "source": [
    "type(_)"
   ]
  },
  {
   "cell_type": "code",
   "execution_count": null,
   "id": "b799774c-c584-4de6-a212-940fec7dc059",
   "metadata": {},
   "outputs": [],
   "source": [
    "office_locations_gdf.DR_CC.value_counts()"
   ]
  },
  {
   "cell_type": "code",
   "execution_count": null,
   "id": "0688c6cc-60d5-4be6-aba7-7b61f45339e3",
   "metadata": {},
   "outputs": [],
   "source": [
    "office_locations_gdf.PopID.is_unique"
   ]
  },
  {
   "cell_type": "code",
   "execution_count": null,
   "id": "0ac4f88f-8bd7-4530-8353-ec043235f0e9",
   "metadata": {},
   "outputs": [],
   "source": []
  },
  {
   "cell_type": "code",
   "execution_count": null,
   "id": "ac930ed5-8be0-4660-8834-e6ff14cc3d57",
   "metadata": {
    "tags": []
   },
   "outputs": [],
   "source": [
    "list(office_locations_gdf.columns)"
   ]
  },
  {
   "cell_type": "code",
   "execution_count": null,
   "id": "9a0128dc-2d39-4cb0-bd27-a3b4e9b4d9ea",
   "metadata": {},
   "outputs": [],
   "source": [
    "cc_gdf = office_locations_gdf.query(f\"DR_CC == @highly_influential\").reset_index().drop(columns=['index'])"
   ]
  },
  {
   "cell_type": "code",
   "execution_count": null,
   "id": "a0fbcf65-d107-4e2d-a7ea-74437c678980",
   "metadata": {},
   "outputs": [],
   "source": [
    "cc_gdf.DR_CC.value_counts()"
   ]
  },
  {
   "cell_type": "code",
   "execution_count": null,
   "id": "4a969eed-3dc4-42c2-a4ab-f72eb06b6434",
   "metadata": {},
   "outputs": [],
   "source": [
    "zoning_gdf = office_locations_gdf.query(f\"Dr_NeighDe == @highly_influential\").reset_index().drop(columns=['index'])"
   ]
  },
  {
   "cell_type": "code",
   "execution_count": null,
   "id": "33495381-abc4-4c4a-9845-70326e56822f",
   "metadata": {},
   "outputs": [],
   "source": [
    "zoning_gdf.Dr_NeighDe.value_counts()"
   ]
  },
  {
   "cell_type": "code",
   "execution_count": null,
   "id": "a06fc5d7-b4ad-40c4-a681-bd53edfd3cc5",
   "metadata": {},
   "outputs": [],
   "source": [
    "extreme_gdf = office_locations_gdf.query(f\"Dr_ExtrWth == @highly_influential\").reset_index().drop(columns=['index'])"
   ]
  },
  {
   "cell_type": "code",
   "execution_count": null,
   "id": "231e9268-22f6-468d-a001-e6e04205fde9",
   "metadata": {
    "tags": []
   },
   "outputs": [],
   "source": [
    "extreme_gdf.info(verbose=True, show_counts=True)"
   ]
  },
  {
   "cell_type": "code",
   "execution_count": null,
   "id": "a8283399-1db0-480c-bbdd-6e0221b7b205",
   "metadata": {},
   "outputs": [],
   "source": []
  },
  {
   "cell_type": "code",
   "execution_count": null,
   "id": "195ab2f7-fa62-48df-9132-fab5e553fb88",
   "metadata": {},
   "outputs": [],
   "source": [
    "office_locations_gdf.Dr_NeighDe.value_counts()"
   ]
  },
  {
   "cell_type": "code",
   "execution_count": null,
   "id": "0ef2220e-7cbb-40c8-b9ab-74f49fd473e8",
   "metadata": {},
   "outputs": [],
   "source": [
    "office_locations_gdf.Dr_ExtrWth.value_counts()"
   ]
  },
  {
   "cell_type": "code",
   "execution_count": null,
   "id": "7aa0d037-285a-4b7f-b655-d7a230711d9b",
   "metadata": {},
   "outputs": [],
   "source": [
    "s1 = set(cc__gdf.OBJECTID)"
   ]
  },
  {
   "cell_type": "code",
   "execution_count": null,
   "id": "6049e8ac-04c5-4ab1-9f23-b69486f2ded9",
   "metadata": {},
   "outputs": [],
   "source": [
    "s2 = set(zoning_gdf.OBJECTID)\n",
    "s3 = set(extreme_gdf.OBJECTID)"
   ]
  },
  {
   "cell_type": "code",
   "execution_count": null,
   "id": "99b7c1ba-e3f7-4014-9dae-c0e6f507e239",
   "metadata": {},
   "outputs": [],
   "source": [
    "foo = set.intersection(s1, s2, s3)"
   ]
  },
  {
   "cell_type": "code",
   "execution_count": null,
   "id": "c37fad56-ed41-43af-93bd-8df7ab1f72a8",
   "metadata": {},
   "outputs": [],
   "source": [
    "len(foo)"
   ]
  },
  {
   "cell_type": "code",
   "execution_count": null,
   "id": "6059b5ea-bb3f-47cd-8789-11a9abc1a97c",
   "metadata": {},
   "outputs": [],
   "source": []
  }
 ],
 "metadata": {
  "kernelspec": {
   "display_name": "Python 3 (ipykernel)",
   "language": "python",
   "name": "python3"
  },
  "language_info": {
   "codemirror_mode": {
    "name": "ipython",
    "version": 3
   },
   "file_extension": ".py",
   "mimetype": "text/x-python",
   "name": "python",
   "nbconvert_exporter": "python",
   "pygments_lexer": "ipython3",
   "version": "3.10.4"
  }
 },
 "nbformat": 4,
 "nbformat_minor": 5
}
