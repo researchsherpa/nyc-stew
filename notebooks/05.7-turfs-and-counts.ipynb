{
 "cells": [
  {
   "cell_type": "markdown",
   "id": "3f79c183-f8ee-4eb4-bc60-04208aff777b",
   "metadata": {},
   "source": [
    "# Turfs and Counts of High Density Points\n",
    "\n",
    "Add 311 counts to the turfs data frame.\n",
    "\n",
    "**Note:** This is another nb that needs to be revisited!!"
   ]
  },
  {
   "cell_type": "code",
   "execution_count": null,
   "id": "cc10d3d1-0c9f-424a-b8a8-184da654d6d1",
   "metadata": {},
   "outputs": [],
   "source": [
    "brooklyn_turfs_gdf = gpd.read_parquet('../data/processed/brooklyn/brooklyn-turfs.parq')"
   ]
  },
  {
   "cell_type": "code",
   "execution_count": null,
   "id": "8b6c2685-a654-4622-be99-74f420c75329",
   "metadata": {},
   "outputs": [],
   "source": [
    "brooklyn_turfs_subset_gdf = brooklyn_turfs_gdf[['OrgName', 'OrgWebSite', 'PrimST', 'PopID', 'Shape_Area', 'geometry']].copy().to_crs('epsg:2263')"
   ]
  },
  {
   "cell_type": "code",
   "execution_count": null,
   "id": "af9d27fa-f46f-40fe-a384-3a30ab31c406",
   "metadata": {},
   "outputs": [],
   "source": [
    "pertinent_turfs_primst = ['Waterfront / Beach / Shoreline', \n",
    "                          'Watershed / Sewershed', \n",
    "                          'Stream / River / Canal', \n",
    "                          'Salt Marsh', \n",
    "                          'Public Right of Way (Sidewalk, street ends, traffic island, public plaza)', \n",
    "                          'Freshwater Wetland']"
   ]
  },
  {
   "cell_type": "markdown",
   "id": "3b021224-5db5-4ef6-a80d-3ead28b7b10b",
   "metadata": {},
   "source": [
    "This is wrong.  Need to compute row['geometry'].area / 27878400 to get sq_miles.  Later."
   ]
  },
  {
   "cell_type": "code",
   "execution_count": null,
   "id": "42721e39-baba-401f-8ccf-7739082a34ec",
   "metadata": {},
   "outputs": [],
   "source": [
    "primst_turfs_gdf = brooklyn_turfs_subset_gdf.query(f\"PrimST in @pertinent_turfs_primst\").reset_index().drop(columns='index')\n",
    "primst_turfs_gdf['sq_miles'] = primst_turfs_gdf.apply(lambda row: row['geometry'].area / 27878400, axis=1)\n",
    "primst_turfs_gdf.sort_values('sq_miles', inplace=True, ascending=False)"
   ]
  },
  {
   "cell_type": "code",
   "execution_count": null,
   "id": "1d7e6b8f-d512-409a-b39b-65fb4d8b299d",
   "metadata": {},
   "outputs": [],
   "source": [
    "more_than_three_gdf = gpd.read_parquet('../data/processed/brooklyn/brooklyn-311-elevation.parq')\n",
    "len(more_than_three_gdf)"
   ]
  },
  {
   "cell_type": "markdown",
   "id": "c79b0f12-a6a6-4128-85ea-24737692afd2",
   "metadata": {},
   "source": [
    "So there are 243 points with more than 3 311 requests for Sewer type."
   ]
  },
  {
   "cell_type": "code",
   "execution_count": null,
   "id": "75f095d0-7bc1-4525-886b-e906e8199703",
   "metadata": {},
   "outputs": [],
   "source": [
    "type(more_than_three_gdf)"
   ]
  },
  {
   "cell_type": "code",
   "execution_count": null,
   "id": "a7b9ea5b-09ed-479c-858f-8bfdf02516b4",
   "metadata": {},
   "outputs": [],
   "source": [
    "type(primst_turfs_gdf)"
   ]
  },
  {
   "cell_type": "markdown",
   "id": "31e1f01c-976f-45ed-9263-a9920aae134c",
   "metadata": {},
   "source": [
    "more_than_three_gdf are Points, and primst_turfs_gdf are Poly's"
   ]
  },
  {
   "cell_type": "code",
   "execution_count": null,
   "id": "15f8b085-03a7-49bc-b602-95d1c40c98ee",
   "metadata": {},
   "outputs": [],
   "source": [
    "more_than_three_gdf = more_than_three_gdf.set_crs('epsg:4326')\n",
    "\n",
    "primst_turfs_gdf = primst_turfs_gdf.to_crs('epsg:4326')"
   ]
  },
  {
   "cell_type": "code",
   "execution_count": null,
   "id": "67606bdb-f579-47b1-8a81-18eb48042d0b",
   "metadata": {
    "tags": []
   },
   "outputs": [],
   "source": [
    "#primst_turfs_gdf"
   ]
  },
  {
   "cell_type": "code",
   "execution_count": null,
   "id": "dc9c326b-f1f6-4f2b-9577-a8de9a014718",
   "metadata": {},
   "outputs": [],
   "source": [
    "primst_turfs_gdf = primst_turfs_gdf.reset_index().drop(columns='index')"
   ]
  },
  {
   "cell_type": "markdown",
   "id": "23506767-58d7-4fe5-a0d4-0123a8d3c624",
   "metadata": {},
   "source": [
    "primst_turfs_gdf is now sorted by sq_miles and the right crs"
   ]
  },
  {
   "cell_type": "code",
   "execution_count": null,
   "id": "8ad417ce-a53f-4c37-8ab3-9484e8277640",
   "metadata": {
    "tags": []
   },
   "outputs": [],
   "source": [
    "#primst_turfs_gdf"
   ]
  },
  {
   "cell_type": "code",
   "execution_count": null,
   "id": "00c5942a-be80-431c-925c-9e88ee1ed10c",
   "metadata": {},
   "outputs": [],
   "source": []
  },
  {
   "cell_type": "code",
   "execution_count": null,
   "id": "679a4bb7-d4c1-445e-a5f6-c1d99387d68b",
   "metadata": {},
   "outputs": [],
   "source": [
    "def request_count(a_turf):\n",
    "    requests_in_turf = more_than_three_gdf.sjoin(a_turf, how='inner', predicate='within')\n",
    "    return len(requests_in_turf)"
   ]
  },
  {
   "cell_type": "code",
   "execution_count": null,
   "id": "49a76937-3f14-48a8-b515-a557b5be1ef7",
   "metadata": {},
   "outputs": [],
   "source": [
    "#primst_turfs_gdf['request_count'] = primst_turfs_gdf.apply(lambda row: request_count(row.iloc[[0]]), axis=1)"
   ]
  },
  {
   "cell_type": "code",
   "execution_count": null,
   "id": "201622bb-83c9-4cea-802e-2b345fd7f9cb",
   "metadata": {},
   "outputs": [],
   "source": [
    "primst_turfs_gdf['request_count'] = 0"
   ]
  },
  {
   "cell_type": "code",
   "execution_count": null,
   "id": "77622fd5-7385-4fd5-bcd3-b7db2833235d",
   "metadata": {},
   "outputs": [],
   "source": [
    "import pdb\n",
    "def messy(turfs_gdf):\n",
    "    results_gdf = turfs_gdf.copy()\n",
    "    for i in results_gdf.index:\n",
    "        a_turf_gdf = results_gdf.iloc[[i]]\n",
    "        #print(i, type(a_turf_gdf))\n",
    "        #pdb.set_trace()\n",
    "        requests_in_turf = more_than_three_gdf.to_crs('epsg:4326').sjoin(a_turf_gdf.to_crs('epsg:4326'), how='inner', predicate='within')\n",
    "        #primst_turfs_gdf.iloc[[i]]['request_count'] = len(requests_in_turf)\n",
    "        #turfs_gdf.iloc[i]['request_count'] = len(requests_in_turf)\n",
    "        results_gdf.at[i, 'request_count'] = len(requests_in_turf)\n",
    "        #print(f\"iter: {i} {len(requests_in_turf)}\")\n",
    "        #pdb.set_trace()\n",
    "        #print(turfs_gdf['OrgName'], len(requests_in_turf))\n",
    "    #pdb.set_trace()\n",
    "    return results_gdf"
   ]
  },
  {
   "cell_type": "code",
   "execution_count": null,
   "id": "7e215fc5-999c-4ee2-ae92-7edd30177dff",
   "metadata": {},
   "outputs": [],
   "source": [
    "primst_with_counts_gdf = messy(primst_turfs_gdf)"
   ]
  },
  {
   "cell_type": "code",
   "execution_count": null,
   "id": "dd7b720b-69d5-44b2-842d-ee39a301d858",
   "metadata": {},
   "outputs": [],
   "source": [
    "primst_with_counts_gdf"
   ]
  },
  {
   "cell_type": "code",
   "execution_count": null,
   "id": "a2134252-36af-4e42-a43c-bbce6a3b1964",
   "metadata": {},
   "outputs": [],
   "source": []
  },
  {
   "cell_type": "code",
   "execution_count": null,
   "id": "1678ad26-26af-4981-b359-c0c179a9bf3b",
   "metadata": {},
   "outputs": [],
   "source": [
    "primst_with_counts_gdf.request_count.value_counts()"
   ]
  },
  {
   "cell_type": "code",
   "execution_count": null,
   "id": "5b28895b-4704-412e-b65b-3dcf96326d05",
   "metadata": {},
   "outputs": [],
   "source": [
    "primst_with_counts_gdf.columns"
   ]
  },
  {
   "cell_type": "code",
   "execution_count": null,
   "id": "acec5e3c-775b-4f32-91ee-96d42678c3af",
   "metadata": {},
   "outputs": [],
   "source": [
    "primst_with_counts_gdf.to_parquet('../data/processed/brooklyn/primst-turfs-counts.parq')"
   ]
  },
  {
   "cell_type": "code",
   "execution_count": null,
   "id": "ba5866f7-fc18-4ddc-9794-c383b9d76c7d",
   "metadata": {},
   "outputs": [],
   "source": []
  }
 ],
 "metadata": {
  "kernelspec": {
   "display_name": "Python 3 (ipykernel)",
   "language": "python",
   "name": "python3"
  },
  "language_info": {
   "codemirror_mode": {
    "name": "ipython",
    "version": 3
   },
   "file_extension": ".py",
   "mimetype": "text/x-python",
   "name": "python",
   "nbconvert_exporter": "python",
   "pygments_lexer": "ipython3",
   "version": "3.9.12"
  }
 },
 "nbformat": 4,
 "nbformat_minor": 5
}
