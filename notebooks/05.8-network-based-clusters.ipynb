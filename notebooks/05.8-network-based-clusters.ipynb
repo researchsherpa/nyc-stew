{
 "cells": [
  {
   "cell_type": "markdown",
   "id": "d8448473-f613-4a58-ad20-162fda0cdb32",
   "metadata": {},
   "source": [
    "Placeholder for something I'd like to add."
   ]
  },
  {
   "cell_type": "markdown",
   "id": "c28ed144-e832-4bfe-a434-97638070ba2d",
   "metadata": {},
   "source": [
    "https://medium.com/@wfth69/animating-an-agent-with-ipyleaflet-and-osmnx-a3d123b8ad18\n",
    "\n",
    "https://geoffboeing.com/2018/04/network-based-spatial-clustering/\n"
   ]
  },
  {
   "cell_type": "code",
   "execution_count": null,
   "id": "22185486-18bc-40c1-bb2a-6e5da05f771f",
   "metadata": {},
   "outputs": [],
   "source": [
    "IFrame(\"https://geoffboeing.com/2018/04/network-based-spatial-clustering/\", width=1000, height=1000)"
   ]
  },
  {
   "cell_type": "markdown",
   "id": "f6c77f0e-4970-403c-bb2b-1bdb075ab966",
   "metadata": {},
   "source": [
    "https://medium.com/@wfth69/animating-an-agent-with-ipyleaflet-and-osmnx-a3d123b8ad18"
   ]
  },
  {
   "cell_type": "code",
   "execution_count": null,
   "id": "6c9499f6-5b36-478f-963f-902871bc1eb5",
   "metadata": {},
   "outputs": [],
   "source": []
  }
 ],
 "metadata": {
  "kernelspec": {
   "display_name": "Python 3 (ipykernel)",
   "language": "python",
   "name": "python3"
  },
  "language_info": {
   "codemirror_mode": {
    "name": "ipython",
    "version": 3
   },
   "file_extension": ".py",
   "mimetype": "text/x-python",
   "name": "python",
   "nbconvert_exporter": "python",
   "pygments_lexer": "ipython3",
   "version": "3.10.4"
  }
 },
 "nbformat": 4,
 "nbformat_minor": 5
}
