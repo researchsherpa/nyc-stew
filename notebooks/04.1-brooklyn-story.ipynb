{
 "cells": [
  {
   "cell_type": "markdown",
   "id": "7366ea53-5d78-45a4-86ed-91dd037d59d7",
   "metadata": {
    "tags": []
   },
   "source": [
    "# Brooklyn Story\n",
    "\n",
    "I live in San Diego, so my mental map of Brooklyn needs work.  The geography, population density, demographics, environmental concerns, and weather (rainfall) are so very different from my world.  So what story does this data tell for last year (2021)?  Story elements are:\n",
    "\n",
    "  1. Rainfall - Since we're taking a stormwater angle, this adds some context.\n",
    "  2. NYC DEP -  Focus on 311 reports and look at the distribution in time and space.\n",
    "  3. Stewards - Combining events, turfs, and organizations.\n"
   ]
  },
  {
   "cell_type": "markdown",
   "id": "e541adf4-6867-4ec6-8a76-566a63b49744",
   "metadata": {},
   "source": [
    "# Rainfall\n",
    "\n",
    "Let's start this story by looking at precipitation in NYC for 2021.  It provides good historical background.\n",
    "\n",
    "This section is a summary of [previous analysis](03.5-rainfall.ipynb)."
   ]
  },
  {
   "cell_type": "code",
   "execution_count": null,
   "id": "3375e704-9921-4ad8-a9b9-697e82f0f5c2",
   "metadata": {
    "tags": []
   },
   "outputs": [],
   "source": [
    "rainfall_df = pd.read_csv('../data/raw/weather/brooklyn-2021.csv', parse_dates=['DATE'])"
   ]
  },
  {
   "cell_type": "code",
   "execution_count": null,
   "id": "2571d930-dc58-47e7-adf8-1226d773f2cb",
   "metadata": {},
   "outputs": [],
   "source": [
    "rainfall_df = pd.read_parquet('../data/processed/brooklyn/brooklyn-rainfall-2021.parq')"
   ]
  },
  {
   "cell_type": "code",
   "execution_count": null,
   "id": "0d58c2cd-c8a1-437b-b14f-0aaa2e125431",
   "metadata": {
    "tags": []
   },
   "outputs": [],
   "source": [
    "rainfall_ts = pd.Series(rainfall_df['PRCP'].values, index=rainfall_df['DATE'].values)"
   ]
  },
  {
   "cell_type": "code",
   "execution_count": null,
   "id": "43730821-862f-4258-8973-76c392aaacd2",
   "metadata": {},
   "outputs": [],
   "source": [
    "rainfall_ts.plot(figsize=(20, 8));"
   ]
  },
  {
   "cell_type": "code",
   "execution_count": null,
   "id": "e72074eb-413c-4152-9c25-540f9604a225",
   "metadata": {},
   "outputs": [],
   "source": [
    "print(f\"Holy crap - {rainfall_df['PRCP'].sum()} inches of rain!\")"
   ]
  },
  {
   "cell_type": "markdown",
   "id": "45e9d9cc-e9fe-454a-aeef-edf3c5978eda",
   "metadata": {},
   "source": [
    "For context, San Diego has a rainfall average of 10.49 inches, and we had 5.24 inches in 2021.  Proof we live in a **desert**?"
   ]
  },
  {
   "cell_type": "markdown",
   "id": "b4bb7679-50f5-43df-a4a9-f972bc5efbdc",
   "metadata": {
    "tags": []
   },
   "source": [
    "# 311 - Water and Sewer\n",
    "\n",
    "First, we'll look at all this rain through the eyes of the DEP using 311 data.  I want to examine the temporal and spatial dimensions:\n",
    "\n",
    "  1. Calendar heatmap - When do we see the most 311 requests\n",
    "  2. Spatial heatmap - Where do we see the most 311 requests\n",
    "  3. Hotspots (clusters) - What polygons (turfs) have a high number of reports\n",
    "  \n",
    "When we're through with this section we'll have the bounding areas for high density reporting of 311 requests."
   ]
  },
  {
   "cell_type": "code",
   "execution_count": null,
   "id": "931ba49d-c24c-4fc1-a6bd-eaf5309f7f3e",
   "metadata": {},
   "outputs": [],
   "source": [
    "brooklyn_311_gdf = gpd.read_parquet('../data/processed/brooklyn/brooklyn-2021-311.parq').reset_index().drop(columns='index')\n",
    "\n",
    "len(brooklyn_311_gdf)"
   ]
  },
  {
   "cell_type": "markdown",
   "id": "bae3d636-023b-41f5-aad8-a59aa3881946",
   "metadata": {},
   "source": [
    "I want to see a distribution of the request types for DEP."
   ]
  },
  {
   "cell_type": "code",
   "execution_count": null,
   "id": "7fc75e93-61d0-48cf-8f64-05643bbfd2e0",
   "metadata": {},
   "outputs": [],
   "source": [
    "ax = brooklyn_311_gdf['Complaint Type'].value_counts().plot.barh(figsize=(10, 5))\n",
    "ax.invert_yaxis()"
   ]
  },
  {
   "cell_type": "markdown",
   "id": "43897a0b-b13e-40ba-a912-7e2dac92a00b",
   "metadata": {},
   "source": [
    "So, in keeping with my goal of shrinking the data set for analysis and visualization let's start with `Water System` and `Sewer` request types."
   ]
  },
  {
   "cell_type": "code",
   "execution_count": null,
   "id": "2729072a-a3f0-46b1-a1cf-80411137f2fd",
   "metadata": {},
   "outputs": [],
   "source": [
    "water_sewer_311_gdf = brooklyn_311_gdf[brooklyn_311_gdf['Complaint Type'].isin(['Water System', 'Sewer'])]\n",
    "\n",
    "len(water_sewer_311_gdf)"
   ]
  },
  {
   "cell_type": "markdown",
   "id": "9cd48085-951d-4377-91c0-9125d8d56df6",
   "metadata": {},
   "source": [
    "A little bit better?\n",
    "\n",
    "**Note:** There is also information in the `Descriptor` column.  Let's look at that."
   ]
  },
  {
   "cell_type": "code",
   "execution_count": null,
   "id": "597e9a14-4ec1-4d7f-ac54-71da9d40894e",
   "metadata": {},
   "outputs": [],
   "source": [
    "water_sewer_311_gdf.groupby(['Complaint Type','Descriptor'])['Unique Key'].count()"
   ]
  },
  {
   "cell_type": "markdown",
   "id": "fe4f70eb-55e2-4290-9dab-9b85a1540d9d",
   "metadata": {},
   "source": [
    "We see a bit more detail with this.  Once again because I started with a focus on stormwater and catch basins I will narrow it down to the Sewer request type."
   ]
  },
  {
   "cell_type": "code",
   "execution_count": null,
   "id": "ad0b6091-5627-4922-8288-b18ea487fb0e",
   "metadata": {},
   "outputs": [],
   "source": [
    "sewer_311_gdf = water_sewer_311_gdf.query(f\"`Complaint Type` == 'Sewer'\").reset_index().drop(columns='index')\n",
    "len(sewer_311_gdf)"
   ]
  },
  {
   "cell_type": "code",
   "execution_count": null,
   "id": "b9770596-9812-4209-925b-f5e61809c33d",
   "metadata": {},
   "outputs": [],
   "source": [
    "#sewer_311_gdf"
   ]
  },
  {
   "cell_type": "markdown",
   "id": "9a23efad-dbf2-403b-9084-ac5afe00a090",
   "metadata": {},
   "source": [
    "So this is the data frame we'll look at.  With 11K rows it's big enough to get an idea but not so big it kills the browser."
   ]
  },
  {
   "cell_type": "markdown",
   "id": "812a8d0c-0ed9-48cc-8a80-dec901b40eb9",
   "metadata": {},
   "source": [
    "## Calendar Heatmap\n",
    "\n",
    "Let's start by looking at `when` the 311 requests happen.  I found this simple little package called [july](https://github.com/e-hulten/july/) that does what I want."
   ]
  },
  {
   "cell_type": "code",
   "execution_count": null,
   "id": "bdd71a07-2ecc-4f91-83e9-4e4de9055512",
   "metadata": {},
   "outputs": [],
   "source": [
    "import july"
   ]
  },
  {
   "cell_type": "code",
   "execution_count": null,
   "id": "202ff6ee-9477-4ff8-9405-a1a7b6c02a18",
   "metadata": {},
   "outputs": [],
   "source": [
    "events_df = sewer_311_gdf[['Created Date', 'Complaint Type']].copy()#.set_index('Created Date'))"
   ]
  },
  {
   "cell_type": "code",
   "execution_count": null,
   "id": "47861f43-4aaa-4a71-9c59-e2cd5bc089b6",
   "metadata": {},
   "outputs": [],
   "source": [
    "events_df['Created Date'] = pd.to_datetime(events_df['Created Date']).dt.date"
   ]
  },
  {
   "cell_type": "code",
   "execution_count": null,
   "id": "437643c6-f710-4d12-b185-ebeb5db4d683",
   "metadata": {},
   "outputs": [],
   "source": [
    "stats_df = events_df.groupby('Created Date').count().rename(columns={'Complaint Type': 'count'})"
   ]
  },
  {
   "cell_type": "code",
   "execution_count": null,
   "id": "29f2c25a-a2eb-4cb1-8ace-b38f3b70740a",
   "metadata": {},
   "outputs": [],
   "source": [
    "#stats_df"
   ]
  },
  {
   "cell_type": "code",
   "execution_count": null,
   "id": "a51ef241-643d-49b0-9d69-eacfe0178e15",
   "metadata": {},
   "outputs": [],
   "source": [
    "july.heatmap(dates=stats_df.index, \n",
    "             data=stats_df['count'], #events_gdf['Complaint Type'].values, #.values, \n",
    "             cmap='YlOrRd',\n",
    "             month_grid=True, \n",
    "             horizontal=True,\n",
    "             value_label=False,\n",
    "             date_label=False,\n",
    "             weekday_label=True,\n",
    "             month_label=True, \n",
    "             year_label=True,\n",
    "             colorbar=False,\n",
    "             fontfamily=\"monospace\",\n",
    "             fontsize=12,\n",
    "             title=None,\n",
    "             titlesize='large',\n",
    "             dpi=100);"
   ]
  },
  {
   "cell_type": "code",
   "execution_count": null,
   "id": "2ae6ee3d-50f7-4a81-9524-7ca71650256c",
   "metadata": {},
   "outputs": [],
   "source": [
    "july.calendar_plot(stats_df.index, stats_df['count'], value_label=True);"
   ]
  },
  {
   "cell_type": "code",
   "execution_count": null,
   "id": "0e446162-0bf2-4251-9a0d-42afa91316df",
   "metadata": {},
   "outputs": [],
   "source": [
    "july.month_plot(stats_df.index, stats_df['count'], month=9,  value_label=True);#, ax=foo[0]);"
   ]
  },
  {
   "cell_type": "markdown",
   "id": "668a04e2-5784-46c5-8da8-72d0cc97cec4",
   "metadata": {},
   "source": [
    "## Heatmap\n",
    "\n",
    "Let's look at this same data frame on the map"
   ]
  },
  {
   "cell_type": "code",
   "execution_count": null,
   "id": "8a3ff936-3fb5-42d1-8927-df1a85eb740f",
   "metadata": {},
   "outputs": [],
   "source": [
    "brooklyn_gdf = gpd.read_parquet('../data/processed/brooklyn/brooklyn-boundary.parq')"
   ]
  },
  {
   "cell_type": "code",
   "execution_count": null,
   "id": "a12cab34-8969-4a3f-a043-022a5f0ad0c3",
   "metadata": {},
   "outputs": [],
   "source": [
    "center = brooklyn_gdf.iloc[0].geometry.centroid.y, brooklyn_gdf.iloc[0].geometry.centroid.x"
   ]
  },
  {
   "cell_type": "code",
   "execution_count": null,
   "id": "a1da0ecd-77d4-4185-a9a3-b0c7a77babed",
   "metadata": {},
   "outputs": [],
   "source": [
    "from ipyleaflet import Heatmap"
   ]
  },
  {
   "cell_type": "code",
   "execution_count": null,
   "id": "a7369569-640b-4a90-8fdb-872bbe6efa92",
   "metadata": {},
   "outputs": [],
   "source": [
    "m = Map(center=center, \n",
    "        zoom=12,\n",
    "        layout=Layout(height=\"800px\"),\n",
    "        scroll_wheel_zoom=True)\n",
    "\n",
    "#heat_data_gdf = water_sewer_311_gdf[water_sewer_311_gdf['Complaint Type'] == 'Sewer']\n",
    "\n",
    "heat_data = [[point.xy[1][0], point.xy[0][0]] for point in sewer_311_gdf.geometry]\n",
    "heat_map = Heatmap(locations=heat_data, radius=20, blur=10)\n",
    "\n",
    "m.add_layer(heat_map)\n",
    "\n",
    "m"
   ]
  },
  {
   "cell_type": "markdown",
   "id": "bd9f5b2d-4103-4d88-8593-91d93ac21bb2",
   "metadata": {},
   "source": [
    "# Steward Organizations\n",
    "\n",
    "At this point we can build a map that combines multiple layers and provides"
   ]
  },
  {
   "cell_type": "code",
   "execution_count": null,
   "id": "a7d61bdb-c016-4302-aa63-5051f14a2667",
   "metadata": {},
   "outputs": [],
   "source": [
    "imagery = basemap_to_tiles(basemaps.Esri.WorldImagery)\n",
    "imagery.base = True\n",
    "osm = basemap_to_tiles(basemaps.OpenStreetMap.Mapnik)\n",
    "osm.base = True\n",
    "\n",
    "google_map = TileLayer(\n",
    "    url=\"https://mt1.google.com/vt/lyrs=m&x={x}&y={y}&z={z}\",\n",
    "    attribution=\"Google\",\n",
    "    name=\"Google Maps\",\n",
    ")\n",
    "google_map.base = True\n",
    "\n",
    "google_satellite = TileLayer(\n",
    "    url=\"https://mt1.google.com/vt/lyrs=y&x={x}&y={y}&z={z}\",\n",
    "    attribution=\"Google\",\n",
    "    name=\"Google Satellite\"\n",
    ")\n",
    "google_satellite.base = True\n",
    "\n",
    "map_display = Map(center=center, zoom=12,\n",
    "                  layers=[google_satellite, google_map, imagery, osm],\n",
    "                  layout=Layout(height=\"800px\"),\n",
    "                  scroll_wheel_zoom=True)\n",
    "\n",
    "map_display.add_control(LayersControl())\n",
    "\n",
    "map_display.add_control(FullScreenControl())\n",
    "\n",
    "map_display"
   ]
  },
  {
   "cell_type": "code",
   "execution_count": null,
   "id": "c9d6c848-e64b-41d3-a055-c1032124fc41",
   "metadata": {},
   "outputs": [],
   "source": [
    "heat_data = [[point.xy[1][0], point.xy[0][0]] for point in sewer_311_gdf.geometry]\n",
    "heat_map = Heatmap(locations=heat_data, radius=20, blur=10, name='Heat')"
   ]
  },
  {
   "cell_type": "code",
   "execution_count": null,
   "id": "c191acb4-6d43-4aa1-90f5-479cdfceae88",
   "metadata": {},
   "outputs": [],
   "source": [
    "#map_display.add_layer(heat_map)"
   ]
  },
  {
   "cell_type": "markdown",
   "id": "10f1ed61-a097-485f-b012-89e47c588e13",
   "metadata": {},
   "source": [
    "I am going to add a different 311 data set for the visualization.  I created it in a [different notebook](./05.5-clustering).  I used a DEM file from NYC open data portal and found the closest elevation to the given 311 lat/long.\n",
    "\n",
    "A summary of the 311 data:\n",
    "\n",
    "   -  311 for the Sewer request type\n",
    "   -  Unique locations with counts (i.e. 243 locations and 1349 requests)\n",
    "   -  Included points have 3 or more requests\n",
    "   -  I created 3 bins \\[0 - 3\\], \\(3 - 5), \\[5 - and above\n",
    "   -  I added elevation data to each of the points"
   ]
  },
  {
   "cell_type": "code",
   "execution_count": null,
   "id": "17f0bbc9-7e61-4d85-b37d-e0930fbcb058",
   "metadata": {},
   "outputs": [],
   "source": [
    "more_than_three_gdf = gpd.read_parquet('../data/processed/brooklyn/brooklyn-311-elevation.parq')\n",
    "len(more_than_three_gdf)"
   ]
  },
  {
   "cell_type": "code",
   "execution_count": null,
   "id": "9fe27137-6c4b-4f54-82d0-d623efb0e7a9",
   "metadata": {},
   "outputs": [],
   "source": [
    "more_than_three_gdf['count'].sum()"
   ]
  },
  {
   "cell_type": "code",
   "execution_count": null,
   "id": "d9e09e29-e982-4ffc-aff1-ad4f6825daee",
   "metadata": {},
   "outputs": [],
   "source": [
    "c_map = {'small': '#4E9A26', 'medium': '#EBC621', 'large': '#AC1212'}"
   ]
  },
  {
   "cell_type": "code",
   "execution_count": null,
   "id": "cc4a9f1c-1558-4381-a626-2346145dd12e",
   "metadata": {},
   "outputs": [],
   "source": [
    "markers = list()\n",
    "\n",
    "for i, row in tqdm(more_than_three_gdf.iterrows()):\n",
    "    \n",
    "    fill_color = c_map[row.bin]\n",
    "    marker = CircleMarker(location=(row.geometry.y, row.geometry.x), radius=5, stroke=False, fill_color=fill_color, fill_opacity=1.0)\n",
    "    msg = HTML()\n",
    "    msg.value = \"count: {}<br>elevation: {}\".format(row['count'], row['elevation'])\n",
    "    marker.popup = msg\n",
    "    markers.append(marker)\n",
    "    more_than_three_gdf.loc[i, 'marker'] = marker\n",
    "\n",
    "dep_cluster = MarkerCluster(markers=markers, name='311 Call')\n",
    "\n",
    "the_311_layer = LayerGroup(name=f\"311\", layers=markers)\n",
    "#map_display.add_layer(the_311_layer)\n"
   ]
  },
  {
   "cell_type": "markdown",
   "id": "7b40bbc4-94c6-495b-a96e-5e3827bda48f",
   "metadata": {},
   "source": [
    "Finally, bring in the social network part for selected turfs."
   ]
  },
  {
   "cell_type": "code",
   "execution_count": null,
   "id": "742b3e2c-dfc4-4bd4-ab24-acfde80c667a",
   "metadata": {},
   "outputs": [],
   "source": [
    "brooklyn_turfs_gdf = gpd.read_parquet('../data/processed/brooklyn/brooklyn-turfs.parq')"
   ]
  },
  {
   "cell_type": "code",
   "execution_count": null,
   "id": "d677c6d1-2c77-4083-85ce-efa1a406ff4a",
   "metadata": {},
   "outputs": [],
   "source": [
    "brooklyn_turfs_subset_gdf = brooklyn_turfs_gdf[['OrgName', 'OrgWebSite', 'PrimST', 'PopID', 'Shape_Area', 'geometry']].copy().to_crs('epsg:2263')"
   ]
  },
  {
   "cell_type": "code",
   "execution_count": null,
   "id": "a26688fe-45d7-4ddf-a8a7-c12467a3fb3b",
   "metadata": {},
   "outputs": [],
   "source": [
    "pertinent_turfs_primst = ['Waterfront / Beach / Shoreline', \n",
    "                          'Watershed / Sewershed', \n",
    "                          'Stream / River / Canal', \n",
    "                          'Salt Marsh', \n",
    "                          'Public Right of Way (Sidewalk, street ends, traffic island, public plaza)', \n",
    "                          'Freshwater Wetland']"
   ]
  },
  {
   "cell_type": "code",
   "execution_count": null,
   "id": "d5466b11-0d3c-4a1c-8fac-110d7dc1d1a2",
   "metadata": {},
   "outputs": [],
   "source": [
    "primst_turfs_gdf = brooklyn_turfs_subset_gdf.query(f\"PrimST in @pertinent_turfs_primst\").reset_index().drop(columns='index')\n",
    "primst_turfs_gdf.sort_values('Shape_Area', inplace=True, ascending=False)"
   ]
  },
  {
   "cell_type": "markdown",
   "id": "8206d58f-a1ed-453e-99c9-a4ff6b180f09",
   "metadata": {},
   "source": [
    "At this point I am going to read in a file created in one of the [hacking notebooks](./05.7-turfs-and-counts.ipynb).\n",
    "\n",
    "It is pretty simple, it point in polygon to get a count of request types / turf.\n",
    "\n",
    "**Note:** Turfs polygons can be stacked on top of each!"
   ]
  },
  {
   "cell_type": "code",
   "execution_count": null,
   "id": "1830a0c1-41bd-4c13-b261-b98305c6052c",
   "metadata": {},
   "outputs": [],
   "source": [
    "primst_with_counts_gdf = gpd.read_parquet('../data/processed/brooklyn/primst-turfs-counts.parq')"
   ]
  },
  {
   "cell_type": "code",
   "execution_count": null,
   "id": "ca676680-1310-4dfe-90ce-e04eb7605189",
   "metadata": {},
   "outputs": [],
   "source": [
    "primst_alters_gdf = gpd.read_parquet('../data/processed/brooklyn/primst-with-alters.parq')"
   ]
  },
  {
   "cell_type": "code",
   "execution_count": null,
   "id": "3f1a75c7-20c0-47f2-8321-dd75bb77c353",
   "metadata": {},
   "outputs": [],
   "source": [
    "def random_color(feature):\n",
    "    return {\n",
    "        'color': 'black',\n",
    "        'fillColor': random.choice(['red', 'yellow', 'green', 'orange', 'purple', 'blue']),\n",
    "    }\n",
    "\n",
    "import json\n",
    "import random\n",
    "#turfs_geojson = brooklyn_turf_subset_gdf.to_json()\n",
    "turfs_geojson = primst_alters_gdf.iloc[15:55].to_crs('epsg:4326').to_json()\n",
    "\n",
    "geo_json = GeoJSON(\n",
    "    data=json.loads(turfs_geojson),\n",
    "    #style={\n",
    "    #    'opacity': 0.1, 'dashArray': '9', 'fillOpacity': 0.1, 'weight': 1\n",
    "   # },\n",
    "    hover_style={\n",
    "        'color': 'white', 'dashArray': '0', 'fillOpacity': 0.8\n",
    "    },\n",
    "    #style_callback=random_color,\n",
    "    name='turfs geojson'\n",
    ")\n",
    "\n",
    "map_display.add_layer(geo_json)\n",
    "\n",
    "turf_html = HTML('''Hover over a turf''')\n",
    "turf_html.layout.margin = '0px 20px 20px 20 px'\n",
    "turf_control = WidgetControl(widget=turf_html, position='bottomright')\n",
    "\n",
    "def update_turf_html(feature, **kwargs):\n",
    "    turf_html.value = f\"<b>Name: {feature['properties']['OrgName']}\\n\" +\\\n",
    "                             f\"<br><b>Primary: {feature['properties']['PrimST']}\\n\" +\\\n",
    "                             f\"<br><b>PopID: {feature['properties']['PopID']}\\n\" +\\\n",
    "                             f\"<br>311 Requests: {feature['properties']['request_count']}\\n\" +\\\n",
    "                             f\"<br>Alters: {feature['properties']['alter_count']}\"\n",
    "    \n",
    "map_display.add_control(turf_control)  # does += work for this?\n",
    "\n",
    "geo_json.on_hover(update_turf_html)"
   ]
  },
  {
   "cell_type": "code",
   "execution_count": null,
   "id": "8368e1db-e9c8-449d-95aa-2271f39e0cdf",
   "metadata": {},
   "outputs": [],
   "source": []
  },
  {
   "cell_type": "code",
   "execution_count": null,
   "id": "18a7b379-9416-4057-bf02-35789919416c",
   "metadata": {},
   "outputs": [],
   "source": [
    "elements_df = pd.read_parquet('../data/processed/SN/elements.parq')\n",
    "connections_df = pd.read_parquet('../data/processed/SN/connections.parq')"
   ]
  },
  {
   "cell_type": "code",
   "execution_count": null,
   "id": "c0fc6788-299a-401e-9e09-b662a69e49c2",
   "metadata": {},
   "outputs": [],
   "source": [
    "def org_name(popid):\n",
    "    \"\"\"\n",
    "    Use elements_df\n",
    "    \"\"\"\n",
    "    org = elements_df.query(f\"PopID == @popid\").reset_index()\n",
    "    return org.iloc[0]['Label']"
   ]
  },
  {
   "cell_type": "code",
   "execution_count": null,
   "id": "d93f2524-9478-4736-9cf2-29d0d22fca06",
   "metadata": {},
   "outputs": [],
   "source": [
    "def alters(popid):\n",
    "    alter_popids = list(connections_df.query(f\"`Respondent PopID` == @popid\")['PopID _ALTER'])\n",
    "    alter_orgs = [org_name(x) for x in alter_popids]\n",
    "    return alter_orgs"
   ]
  },
  {
   "cell_type": "code",
   "execution_count": null,
   "id": "de650217-663d-4980-87b0-a446446fafbb",
   "metadata": {},
   "outputs": [],
   "source": [
    "alters(1475)"
   ]
  },
  {
   "cell_type": "code",
   "execution_count": null,
   "id": "c975c269-d4b0-4530-a9de-2f0bfcc08088",
   "metadata": {},
   "outputs": [],
   "source": [
    "interact(alters, popid=primst_alters_gdf['PopID']);"
   ]
  },
  {
   "cell_type": "markdown",
   "id": "607cbce4-c972-41bb-a6a9-0ee9819b9b4f",
   "metadata": {},
   "source": [
    "Some initial hacking on the org relationships."
   ]
  },
  {
   "cell_type": "code",
   "execution_count": null,
   "id": "ad8f747b-1df0-4eaf-9970-f0e8fa79443e",
   "metadata": {},
   "outputs": [],
   "source": [
    "funny = interact(alters, popid=primst_alters_gdf['PopID'])"
   ]
  },
  {
   "cell_type": "code",
   "execution_count": null,
   "id": "f1cf2396-2fa3-4fa0-a692-2e936e0e0b26",
   "metadata": {},
   "outputs": [],
   "source": [
    "foo = Output(layout=Layout(border='1px solid black', width='25%'))"
   ]
  },
  {
   "cell_type": "code",
   "execution_count": null,
   "id": "4edaaced-8550-4b0b-8f67-7286d2a677cb",
   "metadata": {},
   "outputs": [],
   "source": [
    "with foo:\n",
    "    display(interact(alters, popid=primst_alters_gdf['PopID']))"
   ]
  },
  {
   "cell_type": "code",
   "execution_count": null,
   "id": "ebc4bc48-89fd-42c3-9f00-e36f921f143e",
   "metadata": {},
   "outputs": [],
   "source": [
    "foo"
   ]
  },
  {
   "cell_type": "code",
   "execution_count": null,
   "id": "2f2a11f3-5b86-4dae-a53f-315c1352d536",
   "metadata": {},
   "outputs": [],
   "source": [
    "type(funny)"
   ]
  },
  {
   "cell_type": "code",
   "execution_count": null,
   "id": "39d85d45-4331-4bff-abd9-44d7e52cccbf",
   "metadata": {},
   "outputs": [],
   "source": [
    "HBox([map_display, foo])"
   ]
  },
  {
   "cell_type": "code",
   "execution_count": null,
   "id": "5194ae1d-7b07-426c-9fbc-31b29600c6b6",
   "metadata": {},
   "outputs": [],
   "source": []
  },
  {
   "cell_type": "code",
   "execution_count": null,
   "id": "11f1d9f6-a6c3-4638-8915-856c426cacbf",
   "metadata": {},
   "outputs": [],
   "source": []
  }
 ],
 "metadata": {
  "kernelspec": {
   "display_name": "Python 3 (ipykernel)",
   "language": "python",
   "name": "python3"
  },
  "language_info": {
   "codemirror_mode": {
    "name": "ipython",
    "version": 3
   },
   "file_extension": ".py",
   "mimetype": "text/x-python",
   "name": "python",
   "nbconvert_exporter": "python",
   "pygments_lexer": "ipython3",
   "version": "3.10.4"
  }
 },
 "nbformat": 4,
 "nbformat_minor": 5
}
