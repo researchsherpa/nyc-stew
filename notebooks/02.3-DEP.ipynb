{
 "cells": [
  {
   "cell_type": "markdown",
   "id": "f68a20bf-67e8-4443-b46a-3779afbd51d1",
   "metadata": {},
   "source": [
    "# Department of Environmental Protection\n",
    "\n",
    "This is an important agency to build out any type of climate adapation strategy.  For starters I am looking at:\n",
    "\n",
    "  - 311 service requests\n",
    "  - MS4\n",
    "  - Pratt/CSO\n",
    "  - Catch basins\n",
    "\n",
    "I will continue on the approach of looking at the content and filtering to support my end story."
   ]
  },
  {
   "cell_type": "code",
   "execution_count": null,
   "id": "7310e542-0526-476b-b45d-f7597dbb5e72",
   "metadata": {},
   "outputs": [],
   "source": [
    "IFrame('https://www1.nyc.gov/site/dep/index.page', width=1200, height=1000)"
   ]
  },
  {
   "cell_type": "markdown",
   "id": "5094f01a-805a-4156-bc65-831fa9ccfeb8",
   "metadata": {},
   "source": [
    "Recollect in previous work I created the DEP 311 service requests.\n",
    "\n",
    "At this point I am going to focus on building out one year's worth of service requests (2021) to support further analysis.  I always like to add some focus (time and space) to minimize my cognitive overhead!"
   ]
  },
  {
   "cell_type": "code",
   "execution_count": null,
   "id": "b2ba69ed-9739-4de5-a249-55694ad8f9bc",
   "metadata": {},
   "outputs": [],
   "source": [
    "%%time\n",
    "dep_gdf = gpd.read_parquet('../data/processed/311/dep-clean-geo.parq')"
   ]
  },
  {
   "cell_type": "markdown",
   "id": "42f530ec-ae94-4000-93e7-2787a9fcdffe",
   "metadata": {},
   "source": [
    "We can do a standard look-see at the data set."
   ]
  },
  {
   "cell_type": "code",
   "execution_count": null,
   "id": "546495a7-ca05-48bd-a92d-53d8e9ed6689",
   "metadata": {},
   "outputs": [],
   "source": [
    "dep_gdf.shape"
   ]
  },
  {
   "cell_type": "code",
   "execution_count": null,
   "id": "cdd7a059-ba63-4e43-a95d-32620a8a988e",
   "metadata": {},
   "outputs": [],
   "source": [
    "dep_gdf.info(verbose=True, show_counts=True)"
   ]
  },
  {
   "cell_type": "code",
   "execution_count": null,
   "id": "efe8617c-f1a1-452e-ab41-90c38603f424",
   "metadata": {},
   "outputs": [],
   "source": [
    "print(dep_gdf['Created Date'].min())\n",
    "print(dep_gdf['Created Date'].max())"
   ]
  },
  {
   "cell_type": "markdown",
   "id": "34c57d3f-3797-4e00-b48f-a3892900a548",
   "metadata": {},
   "source": [
    "We should also look at the types of service requests addressed by DEP."
   ]
  },
  {
   "cell_type": "code",
   "execution_count": null,
   "id": "c00db6c6-26bf-4561-ae2d-f91f23ab9902",
   "metadata": {},
   "outputs": [],
   "source": [
    "dep_gdf['Complaint Type'].value_counts()"
   ]
  },
  {
   "cell_type": "markdown",
   "id": "25b3140d-98b2-4099-9e32-af75c5947f28",
   "metadata": {},
   "source": [
    "I would like to look at the data from last year for starters."
   ]
  },
  {
   "cell_type": "code",
   "execution_count": null,
   "id": "750f231f-9402-4eb2-b10e-d0693cdef52b",
   "metadata": {},
   "outputs": [],
   "source": [
    "dep_gdf['year'] = dep_gdf.apply(lambda row: row['Created Date'].year, axis=1)"
   ]
  },
  {
   "cell_type": "code",
   "execution_count": null,
   "id": "8ebe57f4-b6c3-4e8f-a910-6d8be2dd3fbd",
   "metadata": {},
   "outputs": [],
   "source": [
    "dep_gdf['year'].value_counts()"
   ]
  },
  {
   "cell_type": "markdown",
   "id": "a2757fe2-d388-452c-b47f-dcd5f3cdb5c9",
   "metadata": {},
   "source": [
    "So let's build the geodataframe for 2021."
   ]
  },
  {
   "cell_type": "code",
   "execution_count": null,
   "id": "6fe36b7e-379f-4412-b5ee-459b100dcc3c",
   "metadata": {},
   "outputs": [],
   "source": [
    "gdf_2021 = dep_gdf[dep_gdf['year'] == 2021].copy()"
   ]
  },
  {
   "cell_type": "code",
   "execution_count": null,
   "id": "6dd7b070-020b-472e-8a62-a3d4cef474f2",
   "metadata": {},
   "outputs": [],
   "source": [
    "gdf_2021['Complaint Type'].value_counts()"
   ]
  },
  {
   "cell_type": "markdown",
   "id": "cb8233b1-5968-4ee4-a3a1-10629cad8cec",
   "metadata": {},
   "source": [
    "Interesting?"
   ]
  },
  {
   "cell_type": "code",
   "execution_count": null,
   "id": "fb263ed4-bf14-4b2f-ac17-960e31968fa8",
   "metadata": {},
   "outputs": [],
   "source": [
    "len(gdf_2021)"
   ]
  },
  {
   "cell_type": "markdown",
   "id": "77805d92-5485-41ad-b2c6-a9530b085786",
   "metadata": {},
   "source": [
    "Next is a text desription of when the 311 request is created.  It includes date and day-of-week.  This can be useful for temporal display/analysis."
   ]
  },
  {
   "cell_type": "code",
   "execution_count": null,
   "id": "1edaf898-73f7-4534-af03-bb1a1a48bc31",
   "metadata": {},
   "outputs": [],
   "source": [
    "gdf_2021['day'] = gdf_2021['Created Date'].apply(lambda dt: dt.date().strftime(\"%m-%d (%A)\"))"
   ]
  },
  {
   "cell_type": "markdown",
   "id": "39a7da27-e68c-49e1-bf9d-e2180384cc54",
   "metadata": {},
   "source": [
    "At this point I know (extra credit for you to figure out) that some of the Location columns (used to add geometries) are NoneType.  I want to drop those so that each record can be displayed on a map."
   ]
  },
  {
   "cell_type": "code",
   "execution_count": null,
   "id": "a6261bd7-52b3-44d1-b54b-3e4cdf4926d2",
   "metadata": {},
   "outputs": [],
   "source": [
    "with_loc_2021_df = gdf_2021[gdf_2021.Location.notnull()]"
   ]
  },
  {
   "cell_type": "code",
   "execution_count": null,
   "id": "1af6f014-5978-4719-ac6e-f167f2fc77a9",
   "metadata": {},
   "outputs": [],
   "source": [
    "len(gdf_2021)"
   ]
  },
  {
   "cell_type": "code",
   "execution_count": null,
   "id": "1ef78015-c407-400d-90f1-8211e399a93c",
   "metadata": {},
   "outputs": [],
   "source": [
    "_ - len(with_loc_2021_df)"
   ]
  },
  {
   "cell_type": "code",
   "execution_count": null,
   "id": "7d481c8a-599f-4524-8077-77ab23d02005",
   "metadata": {},
   "outputs": [],
   "source": [
    "_ / len(gdf_2021)"
   ]
  },
  {
   "cell_type": "markdown",
   "id": "465f4429-7b9c-42d5-8d2f-ec3c6e14f546",
   "metadata": {},
   "source": [
    "So I can live with this.  Small number without Location, and even smaller percentage!\n",
    "\n",
    "We can save this for later processing."
   ]
  },
  {
   "cell_type": "code",
   "execution_count": null,
   "id": "4595fe55-7e2a-497b-8196-d42ec3c113af",
   "metadata": {},
   "outputs": [],
   "source": [
    "with_loc_2021_df.to_parquet('../data/processed/DEP/2021-311.parq')"
   ]
  },
  {
   "cell_type": "markdown",
   "id": "fbcb85f6-01ed-4fd2-bf4a-dabda1a9db69",
   "metadata": {},
   "source": [
    "Summary:  We now have a file with DEP 311 requests for 2021.  The file is 'clean' in the sense the geometries are valid."
   ]
  },
  {
   "cell_type": "markdown",
   "id": "a7f63ac2-b00a-4e0c-afc7-8c30ea0c5287",
   "metadata": {},
   "source": [
    "# MS4\n",
    "\n",
    "This section will look at the [MS4 data](https://data.cityofnewyork.us/Environment/Municipal-Separate-Storm-Sewer-System-MS4-Data/j57c-rqtq)."
   ]
  },
  {
   "cell_type": "code",
   "execution_count": null,
   "id": "8068bb90-e812-400b-9b40-57c1f7addf06",
   "metadata": {},
   "outputs": [],
   "source": [
    "IFrame(\"https://www1.nyc.gov/site/dep/water/municipal-separate-storm-sewer-system.page\", width=1200, height=800)"
   ]
  },
  {
   "cell_type": "code",
   "execution_count": null,
   "id": "8e3d478b-6ef1-44ac-81f8-7ef5c68c8b06",
   "metadata": {},
   "outputs": [],
   "source": [
    "import fiona"
   ]
  },
  {
   "cell_type": "code",
   "execution_count": null,
   "id": "e7037a15-ce50-4161-8885-36e2cf89676e",
   "metadata": {},
   "outputs": [],
   "source": [
    "fiona.listlayers('../data/MS4OpenData.gdb/')"
   ]
  },
  {
   "cell_type": "code",
   "execution_count": null,
   "id": "ccd88d35-897f-403e-b704-7272bd5a72c6",
   "metadata": {},
   "outputs": [],
   "source": [
    "drainage_areas_gdf = gpd.read_file('../data/MS4OpenData.gdb/',\n",
    "                                   driver='FileGDB',\n",
    "                                   layer='MS4DRAINAGEAREAS')"
   ]
  },
  {
   "cell_type": "code",
   "execution_count": null,
   "id": "60570e20-023b-40c0-9cb6-fb5f859218f4",
   "metadata": {},
   "outputs": [],
   "source": [
    "outfalls_gdf = gpd.read_file('../data/MS4OpenData.gdb/',\n",
    "                                   driver='FileGDB',\n",
    "                                   layer='MS4OUTFALLS')\n",
    "\n",
    "db2_gdf = gpd.read_file('../data/MS4OpenData.gdb/',\n",
    "                                   driver='FileGDB',\n",
    "                                   layer='MSWFACILITIES')\n",
    "\n",
    "db3_gdf = gpd.read_file('../data/MS4OpenData.gdb/',\n",
    "                                   driver='FileGDB',\n",
    "                                   layer='SPDESPERMITS')\n",
    "\n",
    "db4_gdf = gpd.read_file('../data/MS4OpenData.gdb/',\n",
    "                                   driver='FileGDB',\n",
    "                                   layer='BLUEBELTBMP')"
   ]
  },
  {
   "cell_type": "code",
   "execution_count": null,
   "id": "63898ca9-de24-44be-90d8-5870f9e0538a",
   "metadata": {
    "tags": []
   },
   "outputs": [],
   "source": [
    "len(outfalls_gdf)"
   ]
  },
  {
   "cell_type": "markdown",
   "id": "7c75661a-10a5-49fe-841e-26c73b5a41ef",
   "metadata": {},
   "source": [
    "I am not really sure what to keep for this first pass.  I should revisit this at some point?\n",
    "\n",
    "I am going to save drainage areas, and outfalls for starters."
   ]
  },
  {
   "cell_type": "code",
   "execution_count": null,
   "id": "7fd76cb1-249c-471c-bea9-4671ab87f5ec",
   "metadata": {},
   "outputs": [],
   "source": [
    "len(drainage_areas_gdf)"
   ]
  },
  {
   "cell_type": "code",
   "execution_count": null,
   "id": "fab9981a-5b12-4745-88da-bb6528b2a30c",
   "metadata": {},
   "outputs": [],
   "source": [
    "drainage_areas_gdf.explore()"
   ]
  },
  {
   "cell_type": "markdown",
   "id": "de8321c6-fa73-465d-bc56-5323b0683efa",
   "metadata": {},
   "source": [
    "As is the case with many of these datasets, the number of rows is small but the complexity of the geometries seems to burden browser based maps!"
   ]
  },
  {
   "cell_type": "code",
   "execution_count": null,
   "id": "95a59c28-6345-495f-b213-e2539ec7a656",
   "metadata": {},
   "outputs": [],
   "source": [
    "#drainage_areas_gdf['poly_count'] = drainage_areas_gdf['geometry'].apply(lambda val: len(val.geoms))"
   ]
  },
  {
   "cell_type": "code",
   "execution_count": null,
   "id": "78eecbca-8b99-44d4-882a-b33dfeb52d20",
   "metadata": {},
   "outputs": [],
   "source": [
    "#drainage_areas_gdf['poly_count'].value_counts()"
   ]
  },
  {
   "cell_type": "code",
   "execution_count": null,
   "id": "e75b68db-1677-460f-bc98-461b3b72af1b",
   "metadata": {},
   "outputs": [],
   "source": [
    "outfalls_gdf.explore()"
   ]
  },
  {
   "cell_type": "markdown",
   "id": "aa20c07c-bdda-4266-add1-3b0a2f63617a",
   "metadata": {},
   "source": [
    "Finally, save these two files in the processed directory."
   ]
  },
  {
   "cell_type": "code",
   "execution_count": null,
   "id": "3e5d6916-fd56-41b8-9cfd-b001a20fbcb2",
   "metadata": {},
   "outputs": [],
   "source": [
    "drainage_areas_gdf.to_parquet('../data/processed/DEP/ms4-drainage.parq')\n",
    "outfalls_gdf.to_parquet('../data/processed/DEP/ms4-outfalls.parq')"
   ]
  },
  {
   "cell_type": "markdown",
   "id": "6ffb5d3b-2e02-47b6-a0a9-d803901b8f0b",
   "metadata": {},
   "source": [
    "# Pratt/SAVI\n",
    "\n",
    "Can told me about a project that uses 'older' stormwater/sewage data than MS4.  A bit of research led me to the following page.\n",
    "\n",
    "I am going to leave this alone for now, but will consider revisting."
   ]
  },
  {
   "cell_type": "code",
   "execution_count": null,
   "id": "41c6c7d3-e90d-4680-875d-d0e08f2784f1",
   "metadata": {},
   "outputs": [],
   "source": [
    "IFrame(\"https://openseweratlas.tumblr.com/data\", height=1000, width=1200)"
   ]
  },
  {
   "cell_type": "markdown",
   "id": "ccec9426-9db1-46b1-8d7f-37cae2f0f53b",
   "metadata": {},
   "source": [
    "# Catch Basins\n",
    "\n",
    "I was just reading (2022/05/22) the [resiliency plan](https://www1.nyc.gov/assets/orr/pdf/publications/stormwater-resiliency-plan.pdf) and I think I need to include catch basins.  There are a lot of them, so in this section I am going to simply read the shape file and save as parquet."
   ]
  },
  {
   "cell_type": "code",
   "execution_count": null,
   "id": "0512dd6b-fac5-4f96-8485-74bf216f4f98",
   "metadata": {},
   "outputs": [],
   "source": [
    "catch_basins_gdf = gpd.read_file('../data/raw/DEP/NYCDEP Citywide Catch Basins.zip')"
   ]
  },
  {
   "cell_type": "code",
   "execution_count": null,
   "id": "a8838876-0a17-4168-8a38-43db239836a0",
   "metadata": {},
   "outputs": [],
   "source": [
    "catch_basins_gdf.to_parquet('../data/processed/DEP/catch-basins.parq')"
   ]
  },
  {
   "cell_type": "code",
   "execution_count": null,
   "id": "099d3a96-c9e4-47bf-85c8-5e33eebaeb7d",
   "metadata": {},
   "outputs": [],
   "source": []
  }
 ],
 "metadata": {
  "kernelspec": {
   "display_name": "Python 3 (ipykernel)",
   "language": "python",
   "name": "python3"
  },
  "language_info": {
   "codemirror_mode": {
    "name": "ipython",
    "version": 3
   },
   "file_extension": ".py",
   "mimetype": "text/x-python",
   "name": "python",
   "nbconvert_exporter": "python",
   "pygments_lexer": "ipython3",
   "version": "3.10.4"
  }
 },
 "nbformat": 4,
 "nbformat_minor": 5
}
