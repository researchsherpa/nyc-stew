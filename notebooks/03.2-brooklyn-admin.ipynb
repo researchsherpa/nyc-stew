{
 "cells": [
  {
   "cell_type": "markdown",
   "id": "839ce4fa-eb28-433b-82d0-9d5b76bcac6b",
   "metadata": {},
   "source": [
    "# Brooklyn Administrative Boundaries\n",
    "\n",
    "As you'll see the planning department has already done the work.  We don't need to use spatial techniques because there data sets already have the BoroCode.\n",
    "\n",
    "**Note:** The only peculiarity I see is the BoroCode is int64 for Neighborhood TA, and Community District TA, but string in census.  Could be something I did?"
   ]
  },
  {
   "cell_type": "markdown",
   "id": "9f0fd2a0-dc81-479f-9227-c6104f2b3e5b",
   "metadata": {},
   "source": [
    "# Neighborhoods"
   ]
  },
  {
   "cell_type": "code",
   "execution_count": null,
   "id": "aa9b5a3c-879e-477b-a38a-01d7a35c8a6c",
   "metadata": {},
   "outputs": [],
   "source": [
    "neighborhoods_gdf = gpd.read_parquet('../data/processed/admin-boundaries/NTA.parq')"
   ]
  },
  {
   "cell_type": "code",
   "execution_count": null,
   "id": "a967fa9c-f4da-4b19-a554-c362c7048b7f",
   "metadata": {},
   "outputs": [],
   "source": [
    "neighborhoods_gdf.columns"
   ]
  },
  {
   "cell_type": "code",
   "execution_count": null,
   "id": "888c732a-ad2d-422b-9a77-5d03dd0f1d3d",
   "metadata": {},
   "outputs": [],
   "source": [
    "neighborhoods_gdf.BoroCode.value_counts()"
   ]
  },
  {
   "cell_type": "code",
   "execution_count": null,
   "id": "92e304ee-ca3c-4b45-bc69-c11b60fceb47",
   "metadata": {},
   "outputs": [],
   "source": [
    "sum(_)"
   ]
  },
  {
   "cell_type": "code",
   "execution_count": null,
   "id": "69641144-5312-4bd1-80fa-b69abcc31a03",
   "metadata": {},
   "outputs": [],
   "source": [
    "brooklyn_neighborhoods_gdf = neighborhoods_gdf[neighborhoods_gdf.BoroCode == 3]"
   ]
  },
  {
   "cell_type": "code",
   "execution_count": null,
   "id": "6f9375e9-0fef-4542-9de6-b428fefa8239",
   "metadata": {},
   "outputs": [],
   "source": [
    "brooklyn_neighborhoods_gdf.explore('NTAName')"
   ]
  },
  {
   "cell_type": "markdown",
   "id": "f1e17a3a-981c-44eb-9684-478bbaa08959",
   "metadata": {},
   "source": [
    "I can live with this."
   ]
  },
  {
   "cell_type": "markdown",
   "id": "678d544e-544f-408e-b8fb-77515a45873b",
   "metadata": {},
   "source": [
    "# Community Districts"
   ]
  },
  {
   "cell_type": "code",
   "execution_count": null,
   "id": "178b55f4-c163-43ea-a828-14d9bb129762",
   "metadata": {},
   "outputs": [],
   "source": [
    "community_districts_gdf = gpd.read_parquet('../data/processed/admin-boundaries/CDTA.parq')"
   ]
  },
  {
   "cell_type": "code",
   "execution_count": null,
   "id": "8e56198c-123b-4c01-a463-c8be8798d547",
   "metadata": {},
   "outputs": [],
   "source": [
    "community_districts_gdf.columns"
   ]
  },
  {
   "cell_type": "code",
   "execution_count": null,
   "id": "e038326d-828d-4d77-9a54-0bf14d52ae8e",
   "metadata": {},
   "outputs": [],
   "source": [
    "community_districts_gdf.BoroCode.value_counts()"
   ]
  },
  {
   "cell_type": "code",
   "execution_count": null,
   "id": "90a489c0-f4e1-4e78-8f30-399b2d75ce31",
   "metadata": {},
   "outputs": [],
   "source": [
    "sum(_)"
   ]
  },
  {
   "cell_type": "code",
   "execution_count": null,
   "id": "9aae6d7a-1df1-4cb6-80ba-d0234770f927",
   "metadata": {},
   "outputs": [],
   "source": [
    "brooklyn_community_districts_gdf = community_districts_gdf[community_districts_gdf.BoroCode == 3]"
   ]
  },
  {
   "cell_type": "code",
   "execution_count": null,
   "id": "793c2d4e-0344-4711-91fe-d5bfd3ff75d7",
   "metadata": {},
   "outputs": [],
   "source": [
    "brooklyn_community_districts_gdf.explore('CDTAName')"
   ]
  },
  {
   "cell_type": "markdown",
   "id": "4fed36d3-350d-42a0-b300-d0614d641c78",
   "metadata": {},
   "source": [
    "This too is reasonable.\n",
    "\n",
    "**Note:** Should we also include the CD boundaries, not just the tabulationa area boundaries?  I think I've seen that data too."
   ]
  },
  {
   "cell_type": "markdown",
   "id": "feb9ad95-4f0e-4d4c-a214-01c8aef79912",
   "metadata": {},
   "source": [
    "#  Census"
   ]
  },
  {
   "cell_type": "code",
   "execution_count": null,
   "id": "905cafad-11af-4593-b857-31b131984e2b",
   "metadata": {},
   "outputs": [],
   "source": [
    "census_tracts_gdf = gpd.read_parquet('../data/processed/admin-boundaries/census-tracts-2020.parq')"
   ]
  },
  {
   "cell_type": "code",
   "execution_count": null,
   "id": "e5d92756-e5cf-46ba-9b93-2b50c666d9af",
   "metadata": {},
   "outputs": [],
   "source": [
    "census_tracts_gdf.columns"
   ]
  },
  {
   "cell_type": "markdown",
   "id": "3bf6f0c5-a3ef-4140-b73d-c11a8da03e96",
   "metadata": {},
   "source": [
    "So it's kind of weird the BoroCode is different type in this data set?"
   ]
  },
  {
   "cell_type": "code",
   "execution_count": null,
   "id": "20ce694c-b103-48cf-bd02-733d336c3eb3",
   "metadata": {},
   "outputs": [],
   "source": [
    "brooklyn_census_tracts_gdf = census_tracts_gdf[census_tracts_gdf.BoroCode == '3'].copy()\n",
    "brooklyn_census_tracts_gdf['BoroCode'] = brooklyn_census_tracts_gdf['BoroCode'].astype('int64')"
   ]
  },
  {
   "cell_type": "code",
   "execution_count": null,
   "id": "33c671c2-496f-48ed-9d66-1544cff40cea",
   "metadata": {},
   "outputs": [],
   "source": [
    "brooklyn_census_tracts_gdf.shape"
   ]
  },
  {
   "cell_type": "code",
   "execution_count": null,
   "id": "c048f003-3852-42a8-beaf-715d9f107844",
   "metadata": {},
   "outputs": [],
   "source": [
    "brooklyn_census_tracts_gdf.info()"
   ]
  },
  {
   "cell_type": "markdown",
   "id": "c959255e-3c74-45aa-9930-6a18aec12a31",
   "metadata": {},
   "source": [
    "**Note:** GEOID is unique, as you would expect!  This is a census id that can be used to link with other census products (ACS, ...)"
   ]
  },
  {
   "cell_type": "code",
   "execution_count": null,
   "id": "256fea1a-626a-4d6e-9e47-b8a6efdd26b2",
   "metadata": {},
   "outputs": [],
   "source": [
    "brooklyn_census_tracts_gdf.GEOID.is_unique"
   ]
  },
  {
   "cell_type": "code",
   "execution_count": null,
   "id": "ba33de78-5785-4f32-a1ee-6a5d4cea68ae",
   "metadata": {},
   "outputs": [],
   "source": [
    "brooklyn_census_tracts_gdf.explore('GEOID')"
   ]
  },
  {
   "cell_type": "markdown",
   "id": "ccea15d7-5ba9-47d1-9e50-d9a453a843c1",
   "metadata": {},
   "source": [
    "Finally we can save the Brooklyn specific data."
   ]
  },
  {
   "cell_type": "code",
   "execution_count": null,
   "id": "de12dc1d-914d-4959-8bdd-895eb5ceb414",
   "metadata": {},
   "outputs": [],
   "source": [
    "brooklyn_neighborhoods_gdf.to_parquet('../data/processed/brooklyn/brooklyn-neighborhoods-ta.parq')\n",
    "brooklyn_community_districts_gdf.to_parquet('../data/processed/brooklyn/brooklyn-community-districts-ta.parq')\n",
    "brooklyn_census_tracts_gdf.to_parquet('../data/processed/brooklyn/brooklyn-census-tracts.parq')"
   ]
  },
  {
   "cell_type": "code",
   "execution_count": null,
   "id": "ff7514cb-9c7c-4b92-b3da-bea3902acbc9",
   "metadata": {},
   "outputs": [],
   "source": []
  }
 ],
 "metadata": {
  "kernelspec": {
   "display_name": "Python 3 (ipykernel)",
   "language": "python",
   "name": "python3"
  },
  "language_info": {
   "codemirror_mode": {
    "name": "ipython",
    "version": 3
   },
   "file_extension": ".py",
   "mimetype": "text/x-python",
   "name": "python",
   "nbconvert_exporter": "python",
   "pygments_lexer": "ipython3",
   "version": "3.10.4"
  }
 },
 "nbformat": 4,
 "nbformat_minor": 5
}
