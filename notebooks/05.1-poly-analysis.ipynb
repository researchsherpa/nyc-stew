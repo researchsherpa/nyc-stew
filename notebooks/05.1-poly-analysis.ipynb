{
 "cells": [
  {
   "cell_type": "markdown",
   "id": "f35d4f29-41a7-4e54-84d5-5bdfdbb722a4",
   "metadata": {},
   "source": [
    "This is quite hacky!\n",
    "\n",
    "I notice that STEW-MAP doesn't really have many records, but the ones that are there can have some very complicated geometries.  Certinaly enough to slow down brower based geo tools.  Not much I can do, but I'd like to understand.\n",
    "\n",
    "Almost embarrassed to put this in the repo."
   ]
  },
  {
   "cell_type": "code",
   "execution_count": null,
   "id": "9f81e0db-7a32-46f3-855e-52cf884ec8d7",
   "metadata": {},
   "outputs": [],
   "source": [
    "%%time\n",
    "turfs_gdf = gpd.read_file('../data/raw//NYC-2017-STEW-MAP-Public-Version2/NYC2017_STEWMAP_Version2.gdb/',\n",
    "                           driver='FileGDB',\n",
    "                           layer='NYC2017_STEWMAP_PublicPolygons_Version2')"
   ]
  },
  {
   "cell_type": "code",
   "execution_count": null,
   "id": "28bb518b-0770-4077-96e8-c1436a7d3ab9",
   "metadata": {},
   "outputs": [],
   "source": [
    "brooklyn_turfs_gdf = gpd.read_parquet('../data/processed/brooklyn/brooklyn-turfs.parq')"
   ]
  },
  {
   "cell_type": "code",
   "execution_count": null,
   "id": "3a15f3c0-bd5a-44b2-bb0b-7b51ddde7937",
   "metadata": {},
   "outputs": [],
   "source": [
    "brooklyn_turfs_gdf.columns"
   ]
  },
  {
   "cell_type": "code",
   "execution_count": null,
   "id": "5533b4af-0ba5-4509-9ef6-7475c79a1444",
   "metadata": {},
   "outputs": [],
   "source": [
    "brooklyn_turfs_gdf.Shape_Area.mean()"
   ]
  },
  {
   "cell_type": "code",
   "execution_count": null,
   "id": "a8aa722d-f48c-49eb-a706-152892368d03",
   "metadata": {},
   "outputs": [],
   "source": [
    "frob = brooklyn_turfs_gdf[brooklyn_turfs_gdf.Shape_Area <= brooklyn_turfs_gdf.Shape_Area.mean()]"
   ]
  },
  {
   "cell_type": "code",
   "execution_count": null,
   "id": "9477ae59-e496-4177-8f25-31d87bf45d67",
   "metadata": {},
   "outputs": [],
   "source": [
    "len(frob)"
   ]
  },
  {
   "cell_type": "code",
   "execution_count": null,
   "id": "5ff92b11-4bfa-44bd-86ed-c46e2d6fa610",
   "metadata": {},
   "outputs": [],
   "source": [
    "len(brooklyn_turfs_gdf)"
   ]
  },
  {
   "cell_type": "code",
   "execution_count": null,
   "id": "66177323-51f8-4139-89ad-cd0bdc7611d4",
   "metadata": {},
   "outputs": [],
   "source": [
    "brooklyn_turfs_gdf.sort_values('Shape_Area')[0:225].explore()"
   ]
  },
  {
   "cell_type": "code",
   "execution_count": null,
   "id": "2f5a9b4c-35ce-402d-895b-c1ce39e19683",
   "metadata": {},
   "outputs": [],
   "source": [
    "frob.explore()"
   ]
  },
  {
   "cell_type": "code",
   "execution_count": null,
   "id": "1435cf79-ff46-4928-affc-40404f33df5e",
   "metadata": {},
   "outputs": [],
   "source": []
  },
  {
   "cell_type": "code",
   "execution_count": null,
   "id": "21868c0b-c92b-4d82-9125-6325be3bea2d",
   "metadata": {},
   "outputs": [],
   "source": [
    "turfs_gdf.iloc[176]"
   ]
  },
  {
   "cell_type": "code",
   "execution_count": null,
   "id": "888bb117-d4df-440d-a8b7-3a7701646df2",
   "metadata": {},
   "outputs": [],
   "source": [
    "baz = turfs_gdf.iloc[176].geometry"
   ]
  },
  {
   "cell_type": "code",
   "execution_count": null,
   "id": "c4728889-9a84-4ae4-9a55-6ef06f16c96f",
   "metadata": {},
   "outputs": [],
   "source": [
    "type(baz)"
   ]
  },
  {
   "cell_type": "code",
   "execution_count": null,
   "id": "fcdee5c7-97dc-48bd-96c8-f7adc725a357",
   "metadata": {},
   "outputs": [],
   "source": [
    "dir(baz)"
   ]
  },
  {
   "cell_type": "code",
   "execution_count": null,
   "id": "1cc47882-b57a-4b64-bddf-0a7fdff5c590",
   "metadata": {},
   "outputs": [],
   "source": [
    "len(baz.geoms)"
   ]
  },
  {
   "cell_type": "code",
   "execution_count": null,
   "id": "448a1407-d11d-40c8-bfc8-1180f0f8f359",
   "metadata": {},
   "outputs": [],
   "source": [
    "baz.geoms"
   ]
  },
  {
   "cell_type": "code",
   "execution_count": null,
   "id": "f742a9bf-f236-4b1a-9b05-f249d2d3e89f",
   "metadata": {},
   "outputs": [],
   "source": [
    "baz.geoms"
   ]
  },
  {
   "cell_type": "code",
   "execution_count": null,
   "id": "8a25129c-d776-4883-b244-14f11d2930eb",
   "metadata": {},
   "outputs": [],
   "source": [
    "turfs_gdf['poly_count'] = turfs_gdf['geometry'].apply(lambda val: len(val.geoms))"
   ]
  },
  {
   "cell_type": "code",
   "execution_count": null,
   "id": "a01f76aa-2154-4155-a4e9-4b4e551de67d",
   "metadata": {},
   "outputs": [],
   "source": [
    "turfs_gdf.poly_count.value_counts().sort_index()"
   ]
  },
  {
   "cell_type": "code",
   "execution_count": null,
   "id": "9695c027-3e62-4a33-95ad-cc436a6b8863",
   "metadata": {},
   "outputs": [],
   "source": [
    "turfs_gdf.poly_count.mean()"
   ]
  },
  {
   "cell_type": "code",
   "execution_count": null,
   "id": "8a9308ec-1c06-4cbd-8105-0e8206314364",
   "metadata": {},
   "outputs": [],
   "source": [
    "brooklyn_turfs_gdf['poly_count'] = brooklyn_turfs_gdf['geometry'].apply(lambda val: len(val.geoms))"
   ]
  },
  {
   "cell_type": "code",
   "execution_count": null,
   "id": "d735f546-4679-4358-92fb-d2380162f5a4",
   "metadata": {},
   "outputs": [],
   "source": [
    "a_geo = brooklyn_turfs_gdf.iloc[0]['geometry']"
   ]
  },
  {
   "cell_type": "code",
   "execution_count": null,
   "id": "8e2ca41b-c069-41cc-a7e5-d3411683bafe",
   "metadata": {},
   "outputs": [],
   "source": [
    "type(a_geo)"
   ]
  },
  {
   "cell_type": "code",
   "execution_count": null,
   "id": "be1fa80f-a7be-46a7-a0ce-b938d92a6f0c",
   "metadata": {},
   "outputs": [],
   "source": [
    "turfs_gdf.loc[turfs_gdf.poly_count == 5380][['OrgName', 'OrgWebSite', 'PrimST', 'geometry']].explore()"
   ]
  },
  {
   "cell_type": "code",
   "execution_count": null,
   "id": "f6caeb7d-3585-41c8-a86a-4e40ea0258b9",
   "metadata": {},
   "outputs": [],
   "source": [
    "turfs_gdf.loc[turfs_gdf.poly_count == 3866][['OrgName', 'OrgWebSite', 'PrimST', 'geometry']].explore()"
   ]
  },
  {
   "cell_type": "code",
   "execution_count": null,
   "id": "e3818010-1278-4af1-b910-9dcda5af3948",
   "metadata": {},
   "outputs": [],
   "source": [
    "turfs_gdf.loc[turfs_gdf.poly_count == 570][['OrgName', 'OrgWebSite', 'PrimST', 'geometry']].explore()"
   ]
  },
  {
   "cell_type": "code",
   "execution_count": null,
   "id": "50bf6524-5be8-4998-a6bb-d3e3a3c994ac",
   "metadata": {},
   "outputs": [],
   "source": [
    "turfs_gdf.loc[turfs_gdf.poly_count == 359][['OrgName', 'OrgWebSite', 'PrimST', 'geometry']].explore()"
   ]
  },
  {
   "cell_type": "code",
   "execution_count": null,
   "id": "82d4fc70-aa69-44b8-ae83-41293283db27",
   "metadata": {},
   "outputs": [],
   "source": [
    "turfs_gdf.loc[turfs_gdf.poly_count == 346][['OrgName', 'OrgWebSite', 'PrimST', 'geometry']].explore()"
   ]
  },
  {
   "cell_type": "code",
   "execution_count": null,
   "id": "6792c5cb-7bbc-4557-a796-87c02ed86795",
   "metadata": {},
   "outputs": [],
   "source": [
    "type(baz)"
   ]
  },
  {
   "cell_type": "code",
   "execution_count": null,
   "id": "b60588c1-e2b0-4a49-ae54-db6692c986da",
   "metadata": {},
   "outputs": [],
   "source": [
    "dir(baz)"
   ]
  },
  {
   "cell_type": "code",
   "execution_count": null,
   "id": "eee46f54-b23c-4724-97fb-5e10578266ea",
   "metadata": {},
   "outputs": [],
   "source": [
    "list(baz)"
   ]
  },
  {
   "cell_type": "code",
   "execution_count": null,
   "id": "1fe4860b-ed5b-455c-a4fd-7500eed2671a",
   "metadata": {
    "tags": []
   },
   "outputs": [],
   "source": [
    "for i, row in turfs_gdf.iterrows():\n",
    "    if len(list(row.geometry)) > 1:\n",
    "        print(i)\n",
    "        "
   ]
  },
  {
   "cell_type": "code",
   "execution_count": null,
   "id": "06735f42-0397-4663-b178-2e0a76aff7f4",
   "metadata": {},
   "outputs": [],
   "source": [
    "def desc_geo(row):\n",
    "    geos = list(row.geometry)\n",
    "    \n",
    "    print(f\"number of polys: {len(geos)}\")\n",
    "    for i, poly in enumerate(geos):\n",
    "        print(f\"poly[{i}]: points: {len(poly.exterior.coords)}\")"
   ]
  },
  {
   "cell_type": "code",
   "execution_count": null,
   "id": "f50190a5-0fb0-43d6-8ca8-d3e855dc20b8",
   "metadata": {},
   "outputs": [],
   "source": [
    "desc_geo(turfs_gdf.iloc[176])"
   ]
  },
  {
   "cell_type": "code",
   "execution_count": null,
   "id": "f232032a-eab8-47f1-a71e-7419a0ea9655",
   "metadata": {},
   "outputs": [],
   "source": []
  },
  {
   "cell_type": "code",
   "execution_count": null,
   "id": "7445ff02-2c6e-4e5c-a633-38941cfd49e2",
   "metadata": {},
   "outputs": [],
   "source": [
    "list(turfs_gdf.iloc[176].geometry)"
   ]
  },
  {
   "cell_type": "code",
   "execution_count": null,
   "id": "884c0f15-26c9-4c12-a1a2-abfc15015d9a",
   "metadata": {},
   "outputs": [],
   "source": [
    "list(baz)"
   ]
  },
  {
   "cell_type": "code",
   "execution_count": null,
   "id": "7bc0a845-595b-4951-8cfe-e973bd5bfd51",
   "metadata": {},
   "outputs": [],
   "source": [
    "p = _[0]"
   ]
  },
  {
   "cell_type": "code",
   "execution_count": null,
   "id": "75228b5f-c548-4b18-8fbe-32bee7c61afe",
   "metadata": {},
   "outputs": [],
   "source": [
    "dir(p)"
   ]
  },
  {
   "cell_type": "code",
   "execution_count": null,
   "id": "a2d523a4-74a0-4ce7-be59-02d8256268eb",
   "metadata": {},
   "outputs": [],
   "source": [
    "list(p.exterior.coords)"
   ]
  }
 ],
 "metadata": {
  "kernelspec": {
   "display_name": "Python 3 (ipykernel)",
   "language": "python",
   "name": "python3"
  },
  "language_info": {
   "codemirror_mode": {
    "name": "ipython",
    "version": 3
   },
   "file_extension": ".py",
   "mimetype": "text/x-python",
   "name": "python",
   "nbconvert_exporter": "python",
   "pygments_lexer": "ipython3",
   "version": "3.10.4"
  }
 },
 "nbformat": 4,
 "nbformat_minor": 5
}
