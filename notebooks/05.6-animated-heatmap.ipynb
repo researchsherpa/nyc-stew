{
 "cells": [
  {
   "cell_type": "markdown",
   "id": "6e054763-98f2-4854-ad96-f008b68b979a",
   "metadata": {},
   "source": [
    "# Annimated Heatmap with Folium\n",
    "\n",
    "Just wanted to include the recipe."
   ]
  },
  {
   "cell_type": "code",
   "execution_count": null,
   "id": "f5fbc869-50fc-4665-a4d7-4037c928fee7",
   "metadata": {},
   "outputs": [],
   "source": [
    "dep_311_2021_gdf = gpd.read_parquet('../data/processed/DEP/2021-311.parq')"
   ]
  },
  {
   "cell_type": "code",
   "execution_count": null,
   "id": "a11a765d-9472-4dac-8ebc-97caf4a7da08",
   "metadata": {},
   "outputs": [],
   "source": [
    "#len(dep_311_2021_gdf)"
   ]
  },
  {
   "cell_type": "code",
   "execution_count": null,
   "id": "ce6adfc7-e7f3-42d3-b8c1-0a109322bc59",
   "metadata": {},
   "outputs": [],
   "source": [
    "#dep_311_2021_gdf.iloc[27]['Created Date'].day"
   ]
  },
  {
   "cell_type": "code",
   "execution_count": null,
   "id": "9e97c4f3-6e24-4831-ad3e-d3c1683328eb",
   "metadata": {},
   "outputs": [],
   "source": [
    "dep_311_2021_gdf['day'] = dep_311_2021_gdf['Created Date'].apply(lambda dt: dt.date().strftime(\"%m-%d (%A)\"))"
   ]
  },
  {
   "cell_type": "code",
   "execution_count": null,
   "id": "a6348e25-57a2-4bfe-bf23-c44827d9818d",
   "metadata": {},
   "outputs": [],
   "source": [
    "valid_loc_gdf = dep_311_2021_gdf[dep_311_2021_gdf.Location.notnull()]"
   ]
  },
  {
   "cell_type": "code",
   "execution_count": null,
   "id": "5533e371-e178-4e92-b4b0-ae192739b0fa",
   "metadata": {},
   "outputs": [],
   "source": [
    "#len(valid_loc_gdf)"
   ]
  },
  {
   "cell_type": "code",
   "execution_count": null,
   "id": "053083e6-68e4-410f-8a7d-aff0f1bc762d",
   "metadata": {},
   "outputs": [],
   "source": [
    "#len(dep_311_2021_gdf)"
   ]
  },
  {
   "cell_type": "markdown",
   "id": "a23c9992-a591-49a8-8705-7e2ec97d44ce",
   "metadata": {},
   "source": [
    "# 311"
   ]
  },
  {
   "cell_type": "code",
   "execution_count": null,
   "id": "040a6ed1-3672-4f94-b3d0-eb9143ae11b7",
   "metadata": {},
   "outputs": [],
   "source": [
    "import folium\n",
    "from folium import plugins"
   ]
  },
  {
   "cell_type": "code",
   "execution_count": null,
   "id": "a7fc2523-f7a2-460d-b16b-5684fc00f726",
   "metadata": {},
   "outputs": [],
   "source": [
    "brooklyn_gdf = gpd.read_parquet('../data/processed/admin-boundaries/brooklyn.parq')"
   ]
  },
  {
   "cell_type": "code",
   "execution_count": null,
   "id": "ab89c2da-e453-4807-b21c-e5faa6612e1d",
   "metadata": {},
   "outputs": [],
   "source": [
    "center = brooklyn_gdf.iloc[0].geometry.centroid.y, brooklyn_gdf.iloc[0].geometry.centroid.x"
   ]
  },
  {
   "cell_type": "code",
   "execution_count": null,
   "id": "2321ce3f-5806-4a5e-987c-b26beb3d095f",
   "metadata": {},
   "outputs": [],
   "source": [
    "hmap = folium.Map(location = center, tiles='Stamen Toner', zoom_start = 10)\n",
    "plugins.Fullscreen().add_to(hmap);"
   ]
  },
  {
   "cell_type": "code",
   "execution_count": null,
   "id": "efa283ac-4cce-4b0f-8693-8ab893ba93d9",
   "metadata": {},
   "outputs": [],
   "source": [
    "from collections import defaultdict, OrderedDict\n",
    "\n",
    "data = defaultdict(list)\n",
    "for row in valid_loc_gdf.itertuples():\n",
    "    data[row.day].append([row.geometry.y, row.geometry.x])\n",
    "    #try:\n",
    "        #data[row.day].append([row.geometry.y, row.geometry.x])\n",
    "    #except:\n",
    "        #pass\n",
    "    #if row.Location is not None:\n",
    "        #data[row.day].append([row.geometry.y, row.geometry.x])\n",
    "    \n",
    "data = OrderedDict(sorted(data.items(), key=lambda t: t[0]))"
   ]
  },
  {
   "cell_type": "code",
   "execution_count": null,
   "id": "1fff7f4d-0029-44c0-a727-6511dedb5fe2",
   "metadata": {},
   "outputs": [],
   "source": [
    "hm = plugins.HeatMapWithTime(data=list(data.values()),\n",
    "                     index=list(data.keys()), \n",
    "                     \n",
    "                     radius=10,\n",
    "                     auto_play=True,\n",
    "                     max_opacity=0.8)"
   ]
  },
  {
   "cell_type": "code",
   "execution_count": null,
   "id": "f52bf9c3-cbb2-418a-9840-cfd6c1e43cbe",
   "metadata": {},
   "outputs": [],
   "source": [
    "hm.add_to(hmap)\n",
    "hmap"
   ]
  },
  {
   "cell_type": "code",
   "execution_count": null,
   "id": "891791fc-b224-4020-a3e6-f3bf1f2d905e",
   "metadata": {},
   "outputs": [],
   "source": []
  }
 ],
 "metadata": {
  "kernelspec": {
   "display_name": "Python 3 (ipykernel)",
   "language": "python",
   "name": "python3"
  },
  "language_info": {
   "codemirror_mode": {
    "name": "ipython",
    "version": 3
   },
   "file_extension": ".py",
   "mimetype": "text/x-python",
   "name": "python",
   "nbconvert_exporter": "python",
   "pygments_lexer": "ipython3",
   "version": "3.10.4"
  }
 },
 "nbformat": 4,
 "nbformat_minor": 5
}
