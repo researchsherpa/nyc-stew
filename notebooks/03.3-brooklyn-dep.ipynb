{
 "cells": [
  {
   "cell_type": "markdown",
   "id": "a9e4e969-f067-4d30-9f61-f55a71926a16",
   "metadata": {},
   "source": [
    "# Brooklyn DEP\n",
    "\n",
    "Remember that I've processed the following data sets from DEP (in data/processed/DEP/):\n",
    "\n",
    "  1.  2021-311.parq\n",
    "  2.  ms4-drainage.parq\n",
    "  3.  ms4-outfalls.parq\n",
    "  4.  extreme-flood-map.parq\n",
    "  5.  moderate-flood.parq\n",
    "  6.  Catch basins\n",
    "  \n",
    "I will use the Brooklyn bourough boundary and spatial joins to get the data within Brooklyn.\n",
    "\n",
    "**Note:** Maybe I want to do another data pull process and include 2021-now?  Just a thought."
   ]
  },
  {
   "cell_type": "code",
   "execution_count": null,
   "id": "66dcb37f-1ba1-480c-9e66-2111acadb3f6",
   "metadata": {},
   "outputs": [],
   "source": [
    "brooklyn_gdf = gpd.read_parquet('../data/processed/brooklyn/brooklyn-boundary.parq')"
   ]
  },
  {
   "cell_type": "markdown",
   "id": "0a643326-a2ba-4752-91b0-ed3757b04609",
   "metadata": {},
   "source": [
    "# DEP 311"
   ]
  },
  {
   "cell_type": "code",
   "execution_count": null,
   "id": "83b9fbf9-69c8-4766-ba86-66503cdbf717",
   "metadata": {},
   "outputs": [],
   "source": [
    "dep_2021_311_gdf = gpd.read_parquet('../data/processed/DEP/2021-311.parq')"
   ]
  },
  {
   "cell_type": "code",
   "execution_count": null,
   "id": "213f5c45-1d14-4dc8-9b84-97d45bf46d2f",
   "metadata": {},
   "outputs": [],
   "source": [
    "brooklyn_2021_311_gdf = dep_2021_311_gdf.set_crs('epsg:4326').sjoin(brooklyn_gdf.to_crs('epsg:4326'), how='inner', predicate='within')"
   ]
  },
  {
   "cell_type": "markdown",
   "id": "27f38cb9-a77f-4946-aa37-c69378d710b5",
   "metadata": {},
   "source": [
    "As is usual we can explore the data set a bit."
   ]
  },
  {
   "cell_type": "code",
   "execution_count": null,
   "id": "8463661c-4bec-42d4-b17b-e7ad94776551",
   "metadata": {},
   "outputs": [],
   "source": [
    "len(brooklyn_2021_311_gdf)"
   ]
  },
  {
   "cell_type": "code",
   "execution_count": null,
   "id": "5a0959d2-d450-410d-b68c-8c40aa7d7cda",
   "metadata": {},
   "outputs": [],
   "source": [
    "len(dep_2021_311_gdf)"
   ]
  },
  {
   "cell_type": "code",
   "execution_count": null,
   "id": "730f6f5d-7631-4a84-a499-3d38f0e3c370",
   "metadata": {},
   "outputs": [],
   "source": [
    "__ / _"
   ]
  },
  {
   "cell_type": "markdown",
   "id": "1792380f-a1f6-4daf-96d6-2b6b0bac1545",
   "metadata": {},
   "source": [
    "Alright, so **27%** of the DEP 311 request calls in 2021 are in Brooklyn.  I suppose that is ok??"
   ]
  },
  {
   "cell_type": "markdown",
   "id": "c2805618-9768-4ac1-91ef-401f27b5f648",
   "metadata": {},
   "source": [
    "This is a lot of crap on a map.  I looked at it and it seems ok.  Going to comment it out for now.  Do it if you want."
   ]
  },
  {
   "cell_type": "code",
   "execution_count": null,
   "id": "9515dd47-9209-4b69-9aa3-609399a9c437",
   "metadata": {},
   "outputs": [],
   "source": [
    "#brooklyn_2021_311_gdf[['Descriptor', 'geometry']].explore('Descriptor')"
   ]
  },
  {
   "cell_type": "code",
   "execution_count": null,
   "id": "d6f52117-ba9a-4d11-9d0b-da9fda01efb7",
   "metadata": {},
   "outputs": [],
   "source": [
    "brooklyn_2021_311_gdf['Complaint Type'].value_counts()"
   ]
  },
  {
   "cell_type": "markdown",
   "id": "ee5a1eee-25d3-4cca-a6c9-f4603f7e4ccd",
   "metadata": {},
   "source": [
    "I'm ready to save this dataframe."
   ]
  },
  {
   "cell_type": "code",
   "execution_count": null,
   "id": "94c26f40-98fc-49f2-8e7f-e33a99060f35",
   "metadata": {},
   "outputs": [],
   "source": [
    "brooklyn_2021_311_gdf.to_parquet('../data/processed/brooklyn/brooklyn-2021-311.parq')"
   ]
  },
  {
   "cell_type": "markdown",
   "id": "b43c89bc-b5a5-4c34-b747-aa31d7c4a09e",
   "metadata": {},
   "source": [
    "# MS4\n",
    "\n",
    "The two types of MS4 data I'm starting with:\n",
    "\n",
    "  -  drainage\n",
    "  -  outfalls"
   ]
  },
  {
   "cell_type": "code",
   "execution_count": null,
   "id": "e384d6fc-8bdd-4d22-8a79-140610a3faf7",
   "metadata": {},
   "outputs": [],
   "source": [
    "ms4_drainage_gdf = gpd.read_parquet('../data/processed/DEP/ms4-drainage.parq')\n",
    "ms4_outfalls_gdf = gpd.read_parquet('../data/processed/DEP/ms4-outfalls.parq')"
   ]
  },
  {
   "cell_type": "markdown",
   "id": "1bb411c9-a757-4b9d-8e3d-62e44f187c94",
   "metadata": {},
   "source": [
    "Need to check the CRS for the spatial operations."
   ]
  },
  {
   "cell_type": "code",
   "execution_count": null,
   "id": "f4899cb0-9d66-4bbe-b87c-e93072eb95e3",
   "metadata": {},
   "outputs": [],
   "source": [
    "brooklyn_gdf.crs"
   ]
  },
  {
   "cell_type": "code",
   "execution_count": null,
   "id": "d5096325-4694-4a2c-b770-37fc661144b5",
   "metadata": {},
   "outputs": [],
   "source": [
    "ms4_drainage_gdf.crs"
   ]
  },
  {
   "cell_type": "code",
   "execution_count": null,
   "id": "5b3a6786-d5a9-46d7-84f1-264928a1c718",
   "metadata": {},
   "outputs": [],
   "source": [
    "ms4_outfalls_gdf.crs"
   ]
  },
  {
   "cell_type": "markdown",
   "id": "eb87087f-cb04-410e-8b6b-62a9b4e06031",
   "metadata": {},
   "source": [
    "Gonna do the ops with epsg=2263.\n",
    "\n",
    "For each join I will do the op, check sizes and stuff, then visualize.\n",
    "\n",
    "You'll see things make sense."
   ]
  },
  {
   "cell_type": "code",
   "execution_count": null,
   "id": "aff3b7ef-d247-404a-8fab-cd38e088725d",
   "metadata": {},
   "outputs": [],
   "source": [
    "brooklyn_ms4_outfalls_gdf = ms4_outfalls_gdf.sjoin(brooklyn_gdf.to_crs('epsg:2263'), how='inner', predicate='within')"
   ]
  },
  {
   "cell_type": "code",
   "execution_count": null,
   "id": "88402904-7b5a-495b-9ee9-4a1b979256ec",
   "metadata": {},
   "outputs": [],
   "source": [
    "len(brooklyn_ms4_outfalls_gdf)"
   ]
  },
  {
   "cell_type": "code",
   "execution_count": null,
   "id": "c1eda204-1a57-4389-9422-fcfdfefd7d2f",
   "metadata": {},
   "outputs": [],
   "source": [
    "brooklyn_ms4_outfalls_gdf.explore()"
   ]
  },
  {
   "cell_type": "code",
   "execution_count": null,
   "id": "db8677aa-0cec-4e42-b476-46886c9843b6",
   "metadata": {},
   "outputs": [],
   "source": [
    "brooklyn_ms4_drainage_gdf = brooklyn_gdf.to_crs('epsg:2263').overlay(ms4_drainage_gdf, how='intersection')"
   ]
  },
  {
   "cell_type": "code",
   "execution_count": null,
   "id": "37173b47-6c2a-4b33-8c56-70b75c3703e2",
   "metadata": {},
   "outputs": [],
   "source": [
    "len(brooklyn_ms4_drainage_gdf)"
   ]
  },
  {
   "cell_type": "code",
   "execution_count": null,
   "id": "10a3e365-8245-46b9-9217-1086aa87d7a0",
   "metadata": {},
   "outputs": [],
   "source": [
    "brooklyn_ms4_drainage_gdf.explore()"
   ]
  },
  {
   "cell_type": "markdown",
   "id": "9f60afbd-bb99-46d6-8f18-4de314b3b898",
   "metadata": {},
   "source": [
    "Can save these two files now."
   ]
  },
  {
   "cell_type": "code",
   "execution_count": null,
   "id": "77cb03ab-e390-4a3d-95e4-10f1bb65a765",
   "metadata": {},
   "outputs": [],
   "source": [
    "brooklyn_ms4_drainage_gdf.to_parquet('../data/processed/brooklyn/brooklyn-ms4-drainage.parq')\n",
    "brooklyn_ms4_outfalls_gdf.to_parquet('../data/processed/brooklyn/brooklyn-ms4-outfalls.parq')"
   ]
  },
  {
   "cell_type": "markdown",
   "id": "a7506d79-8925-4bcc-83ee-71eccc636c59",
   "metadata": {},
   "source": [
    "# Flood Maps\n",
    "\n",
    "DEP (with MOCR) published two different flood maps:\n",
    "\n",
    "  -  Extreme flooding\n",
    "  -  Moderate flooding\n",
    "  \n",
    "**Note:** Get references to who build the models and such."
   ]
  },
  {
   "cell_type": "code",
   "execution_count": null,
   "id": "2eb69eaf-caea-401b-b4e9-20e29d939075",
   "metadata": {},
   "outputs": [],
   "source": [
    "extreme_flood_gdf = gpd.read_parquet('../data/processed/DEP/extreme-flood-map.parq')\n",
    "moderate_flood_gdf = gpd.read_parquet('../data/processed/DEP/moderate-flood-map.parq')"
   ]
  },
  {
   "cell_type": "code",
   "execution_count": null,
   "id": "75c76aab-a1c8-4d96-bf77-7beda1b00a59",
   "metadata": {},
   "outputs": [],
   "source": [
    "extreme_flood_gdf.crs"
   ]
  },
  {
   "cell_type": "code",
   "execution_count": null,
   "id": "b774e996-e2b2-44e6-b0bb-b1054cb217e6",
   "metadata": {},
   "outputs": [],
   "source": [
    "%%time\n",
    "brooklyn_extreme_flood_gdf = brooklyn_gdf.to_crs('epsg:2263').overlay(extreme_flood_gdf, how='intersection')\n",
    "brooklyn_moderate_flood_gdf = brooklyn_gdf.to_crs('epsg:2263').overlay(moderate_flood_gdf, how='intersection')"
   ]
  },
  {
   "cell_type": "code",
   "execution_count": null,
   "id": "6371465a-fdca-40c2-8cca-8d75bf1565f5",
   "metadata": {},
   "outputs": [],
   "source": [
    "brooklyn_extreme_flood_gdf.columns"
   ]
  },
  {
   "cell_type": "code",
   "execution_count": null,
   "id": "1be416f8-749a-4ef4-9e21-155b51fd4bb4",
   "metadata": {},
   "outputs": [],
   "source": [
    "len(brooklyn_extreme_flood_gdf)"
   ]
  },
  {
   "cell_type": "code",
   "execution_count": null,
   "id": "25b30064-83b2-4e4c-82f2-40c517640a90",
   "metadata": {},
   "outputs": [],
   "source": [
    "brooklyn_extreme_flood_gdf.explore('desc')"
   ]
  },
  {
   "cell_type": "code",
   "execution_count": null,
   "id": "2a20c492-b43b-46cb-adbf-0d11e07281a9",
   "metadata": {},
   "outputs": [],
   "source": [
    "brooklyn_moderate_flood_gdf.explore('desc')"
   ]
  },
  {
   "cell_type": "markdown",
   "id": "73259b1e-c37f-401e-a362-92c4f9a4fa9c",
   "metadata": {},
   "source": [
    "Once again, this seems to pass the goofy test.  Can save it."
   ]
  },
  {
   "cell_type": "code",
   "execution_count": null,
   "id": "d3b37c27-6132-4ec6-9cff-117ec5e1938f",
   "metadata": {},
   "outputs": [],
   "source": [
    "brooklyn_extreme_flood_gdf.to_parquet('../data/processed/brooklyn/brooklyn-extreme-flood.parq')\n",
    "brooklyn_moderate_flood_gdf.to_parquet('../data/processed/brooklyn/brooklyn-moderate-flood.parq')"
   ]
  },
  {
   "cell_type": "markdown",
   "id": "8330c820-7981-478e-9272-72ffdbd7e5ca",
   "metadata": {},
   "source": [
    "# Catch Basins\n",
    "\n",
    "Late addition to the dataset."
   ]
  },
  {
   "cell_type": "code",
   "execution_count": null,
   "id": "9add19ae-b639-4bc1-941f-a3cfdb8c8123",
   "metadata": {},
   "outputs": [],
   "source": [
    "catch_basins_gdf = gpd.read_parquet('../data/processed/DEP/catch-basins.parq')"
   ]
  },
  {
   "cell_type": "code",
   "execution_count": null,
   "id": "c68d5df2-2022-4a8d-b404-12fc2cb080bf",
   "metadata": {},
   "outputs": [],
   "source": [
    "len(catch_basins_gdf)"
   ]
  },
  {
   "cell_type": "code",
   "execution_count": null,
   "id": "26973759-ffbf-4f78-9b91-8a6edf81572a",
   "metadata": {},
   "outputs": [],
   "source": [
    "brooklyn_catch_basins_gdf = catch_basins_gdf.to_crs('epsg:4326').sjoin(brooklyn_gdf.to_crs('epsg:4326'), how='inner', predicate='within')"
   ]
  },
  {
   "cell_type": "code",
   "execution_count": null,
   "id": "22a6f711-ed4b-40a6-9941-adc2e162d4cb",
   "metadata": {},
   "outputs": [],
   "source": [
    "len(brooklyn_catch_basins_gdf)"
   ]
  },
  {
   "cell_type": "code",
   "execution_count": null,
   "id": "0d96e9c5-741c-4cc4-ae58-e70bdaadbd66",
   "metadata": {},
   "outputs": [],
   "source": [
    "_ / 13431"
   ]
  },
  {
   "cell_type": "markdown",
   "id": "11ae0ea8-6ef4-42b0-8b81-e84d9156f53f",
   "metadata": {},
   "source": [
    "**11%** in Brooklyn\n",
    "\n",
    "Can save the catch basins."
   ]
  },
  {
   "cell_type": "code",
   "execution_count": null,
   "id": "9d7ff0f2-501c-4e7d-b5ba-5ee7de483e70",
   "metadata": {},
   "outputs": [],
   "source": [
    "brooklyn_catch_basins_gdf.to_parquet('../data/processed/brooklyn/brooklyn-catch-basins.parq')"
   ]
  },
  {
   "cell_type": "code",
   "execution_count": null,
   "id": "be8dc21d-74fb-49ae-84a8-3f49096382b7",
   "metadata": {},
   "outputs": [],
   "source": []
  }
 ],
 "metadata": {
  "kernelspec": {
   "display_name": "Python 3 (ipykernel)",
   "language": "python",
   "name": "python3"
  },
  "language_info": {
   "codemirror_mode": {
    "name": "ipython",
    "version": 3
   },
   "file_extension": ".py",
   "mimetype": "text/x-python",
   "name": "python",
   "nbconvert_exporter": "python",
   "pygments_lexer": "ipython3",
   "version": "3.10.4"
  }
 },
 "nbformat": 4,
 "nbformat_minor": 5
}
