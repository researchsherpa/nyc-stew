{
 "cells": [
  {
   "cell_type": "markdown",
   "id": "ec147f67-c888-4b98-9744-28c018530a7f",
   "metadata": {},
   "source": [
    "# SN and turfs\n",
    "\n",
    "A data hacking short cut for the first presentation.  This will be refactored for sure!"
   ]
  },
  {
   "cell_type": "code",
   "execution_count": null,
   "id": "ae8e36c1-da14-45e5-a66c-0389553467ba",
   "metadata": {},
   "outputs": [],
   "source": [
    "primst_with_counts_gdf = gpd.read_parquet('../data/processed/brooklyn/primst-turfs-counts.parq')"
   ]
  },
  {
   "cell_type": "code",
   "execution_count": null,
   "id": "aa2103a5-5f7c-44b2-977c-e0aa1fb5d02c",
   "metadata": {},
   "outputs": [],
   "source": [
    "len(primst_with_counts_gdf)"
   ]
  },
  {
   "cell_type": "code",
   "execution_count": null,
   "id": "ed196915-5f82-4fad-b771-da6fec4f8734",
   "metadata": {},
   "outputs": [],
   "source": [
    "primst_with_counts_gdf.PopID.is_unique"
   ]
  },
  {
   "cell_type": "code",
   "execution_count": null,
   "id": "5dc24ac8-c60b-41da-a16c-ef9f05a9fc37",
   "metadata": {},
   "outputs": [],
   "source": [
    "primst_with_counts_popids = set(primst_with_counts_gdf.PopID)"
   ]
  },
  {
   "cell_type": "code",
   "execution_count": null,
   "id": "d6b5067c-1a1d-4c13-b137-492aace2932b",
   "metadata": {},
   "outputs": [],
   "source": [
    "import pickle\n",
    "with open('../data/processed/db/popids2.p', 'rb') as f:\n",
    "    popids = pickle.load(f)"
   ]
  },
  {
   "cell_type": "code",
   "execution_count": null,
   "id": "c419cc6e-37de-4a17-a50a-def7dfdf73b7",
   "metadata": {},
   "outputs": [],
   "source": [
    "popids_set = set(popids)"
   ]
  },
  {
   "cell_type": "code",
   "execution_count": null,
   "id": "e1322655-940c-4a38-a4f2-79e46549a05e",
   "metadata": {},
   "outputs": [],
   "source": [
    "primst_popids = primst_with_counts_popids.intersection(popids)"
   ]
  },
  {
   "cell_type": "code",
   "execution_count": null,
   "id": "20cf3d1d-d3d6-4d6f-a485-7a04675e0207",
   "metadata": {},
   "outputs": [],
   "source": [
    "len(primst_popids)"
   ]
  },
  {
   "cell_type": "markdown",
   "id": "fe0b84d9-447f-44cf-890a-e5d1d3378adc",
   "metadata": {},
   "source": [
    "So, we have 49 PopIDs in the Brooklyn turfs.  We know from the previous processing they will be in both elements (PopID) and connections (Respondent PopID).\n",
    "\n",
    "For starters I want to build a dictionary structure so I can search by primst turf and get the PopID's of _ALTER's."
   ]
  },
  {
   "cell_type": "code",
   "execution_count": null,
   "id": "3a415171-ba27-41ba-ae3f-1326bb967c58",
   "metadata": {},
   "outputs": [],
   "source": [
    "elements_df = pd.read_parquet('../data/processed/SN/elements.parq')\n",
    "connections_df = pd.read_parquet('../data/processed/SN/connections.parq')"
   ]
  },
  {
   "cell_type": "code",
   "execution_count": null,
   "id": "7836b380-0418-486e-ab3e-b79d6bd462d0",
   "metadata": {},
   "outputs": [],
   "source": [
    "elements_df.columns"
   ]
  },
  {
   "cell_type": "code",
   "execution_count": null,
   "id": "846302f3-2aed-4c61-baf4-429c81be9c80",
   "metadata": {},
   "outputs": [],
   "source": [
    "turf_connections_df = connections_df.query(f\"`Respondent PopID` in {list(primst_popids)}\").reset_index().drop(columns='index')"
   ]
  },
  {
   "cell_type": "code",
   "execution_count": null,
   "id": "e9ae7b33-bd22-463a-b1fa-e239c74a3a95",
   "metadata": {},
   "outputs": [],
   "source": [
    "turf_connections_df.groupby('Respondent PopID')['PopID _ALTER'].count()"
   ]
  },
  {
   "cell_type": "code",
   "execution_count": null,
   "id": "cb1c9a5a-2732-486d-901f-6fad01d4a210",
   "metadata": {},
   "outputs": [],
   "source": [
    "turf_connections_df['PopID _ALTER'].isnull().sum()"
   ]
  },
  {
   "cell_type": "code",
   "execution_count": null,
   "id": "36bead6c-efcc-43cd-804f-10ea365dc6b8",
   "metadata": {},
   "outputs": [],
   "source": [
    "from collections import defaultdict"
   ]
  },
  {
   "cell_type": "code",
   "execution_count": null,
   "id": "a61c7fdf-09d5-4ac7-80da-6384380cdb08",
   "metadata": {},
   "outputs": [],
   "source": [
    "alternate_lookup = defaultdict(list)"
   ]
  },
  {
   "cell_type": "code",
   "execution_count": null,
   "id": "634fe0d0-5e4b-4076-bd54-407300527ac9",
   "metadata": {},
   "outputs": [],
   "source": [
    "for i, row in turf_connections_df.iterrows():\n",
    "    alternate_lookup[row['Respondent PopID']].append(row['PopID _ALTER'])"
   ]
  },
  {
   "cell_type": "code",
   "execution_count": null,
   "id": "e16e91bd-8ec2-4772-8304-8f44d79b581c",
   "metadata": {},
   "outputs": [],
   "source": [
    "len(alternate_lookup)"
   ]
  },
  {
   "cell_type": "code",
   "execution_count": null,
   "id": "1558fc81-a69c-40a0-9238-f687db1dba1e",
   "metadata": {},
   "outputs": [],
   "source": [
    "elements_df.info()"
   ]
  },
  {
   "cell_type": "code",
   "execution_count": null,
   "id": "08d1bba8-8b2a-4fac-ab59-003ced03d36a",
   "metadata": {},
   "outputs": [],
   "source": [
    "elements_df"
   ]
  },
  {
   "cell_type": "code",
   "execution_count": null,
   "id": "90d40446-e8b9-4f2c-87ac-b24324bd40ff",
   "metadata": {},
   "outputs": [],
   "source": [
    "def get_count(popid):\n",
    "    alternates = alternate_lookup.get(popid)\n",
    "    if alternates is None:\n",
    "        return 0\n",
    "    else:\n",
    "        return len(alternates)"
   ]
  },
  {
   "cell_type": "code",
   "execution_count": null,
   "id": "505722dd-017c-472c-9ee6-ece542bbe0d4",
   "metadata": {},
   "outputs": [],
   "source": [
    "primst_with_counts_gdf['alter_count'] = primst_with_counts_gdf['PopID'].apply(lambda popid: get_count(popid))"
   ]
  },
  {
   "cell_type": "code",
   "execution_count": null,
   "id": "7b430ac2-0965-4068-861f-e86f1383f633",
   "metadata": {
    "tags": []
   },
   "outputs": [],
   "source": [
    "primst_with_counts_gdf"
   ]
  },
  {
   "cell_type": "code",
   "execution_count": null,
   "id": "a278a006-bb5d-4206-90b9-68d0d5373940",
   "metadata": {},
   "outputs": [],
   "source": [
    "primst_with_counts_gdf.to_parquet('../data/processed/brooklyn/primst-with-alters.parq')"
   ]
  },
  {
   "cell_type": "code",
   "execution_count": null,
   "id": "c0fc6788-299a-401e-9e09-b662a69e49c2",
   "metadata": {},
   "outputs": [],
   "source": [
    "def org_name(popid):\n",
    "    \"\"\"\n",
    "    Use elements_df\n",
    "    \"\"\"\n",
    "    org = elements_df.query(f\"PopID == @popid\").reset_index()\n",
    "    return org.iloc[0]['Label']"
   ]
  },
  {
   "cell_type": "code",
   "execution_count": null,
   "id": "d93f2524-9478-4736-9cf2-29d0d22fca06",
   "metadata": {},
   "outputs": [],
   "source": [
    "def alters(popid):\n",
    "    alter_popids = list(connections_df.query(f\"`Respondent PopID` == @popid\")['PopID _ALTER'])\n",
    "    alter_orgs = [org_name(x) for x in alter_popids]\n",
    "    return alter_orgs"
   ]
  },
  {
   "cell_type": "code",
   "execution_count": null,
   "id": "de650217-663d-4980-87b0-a446446fafbb",
   "metadata": {},
   "outputs": [],
   "source": [
    "alters(1475)"
   ]
  },
  {
   "cell_type": "code",
   "execution_count": null,
   "id": "c05bb8dd-11fb-4cfe-b854-7fcae085f38c",
   "metadata": {},
   "outputs": [],
   "source": []
  }
 ],
 "metadata": {
  "kernelspec": {
   "display_name": "Python 3 (ipykernel)",
   "language": "python",
   "name": "python3"
  },
  "language_info": {
   "codemirror_mode": {
    "name": "ipython",
    "version": 3
   },
   "file_extension": ".py",
   "mimetype": "text/x-python",
   "name": "python",
   "nbconvert_exporter": "python",
   "pygments_lexer": "ipython3",
   "version": "3.10.4"
  }
 },
 "nbformat": 4,
 "nbformat_minor": 5
}
