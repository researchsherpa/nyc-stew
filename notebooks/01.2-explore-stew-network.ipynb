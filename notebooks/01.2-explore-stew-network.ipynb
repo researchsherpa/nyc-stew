{
 "cells": [
  {
   "cell_type": "markdown",
   "id": "d11152f1-2d5a-4bbd-9778-bd81a563814d",
   "metadata": {},
   "source": [
    "# STEW Network\n",
    "\n",
    "I have to admit this is a bit of a mystery to me.  The hackathon task was dealing with the STEW geodatabases, not the network.  So, for starters, I have some basic questions:\n",
    "\n",
    "  1.  According to the documentation, PopID's are the unique id.  I know the PopIDs in the geodata are not unique, are they unique in the network data?  How are they used to link with the network data?\n",
    "  2.  In the network data set, elements (i.e. the `nodes`) are the organizations.  It is quite a bit larger than those in the geodata.\n",
    "  3.  We have two geodata files (turfs and office locations) with \n",
    "\n",
    "\n",
    "\n",
    "I am going to see if I can use the geographies, and primary solution types, to `link`"
   ]
  },
  {
   "cell_type": "markdown",
   "id": "4e872d25-8e48-47ea-80fc-756aafd00b05",
   "metadata": {},
   "source": [
    "# PopID's"
   ]
  },
  {
   "cell_type": "code",
   "execution_count": null,
   "id": "cff28485-daa2-4fff-a020-23e533705877",
   "metadata": {},
   "outputs": [],
   "source": [
    "turfs_gdf = gpd.read_parquet('../data/processed/turfs.parq')\n",
    "office_locations_gdf = gpd.read_parquet('../data/processed/office-locations.parq')\n",
    "\n",
    "print(f\"turfs: {len(turfs_gdf)}  office locations: {len(office_locations_gdf)}\")"
   ]
  },
  {
   "cell_type": "markdown",
   "id": "e81d0291-3891-4a74-a5fe-1b2f42a727b3",
   "metadata": {},
   "source": [
    "I am going to do some set hacking on the PopID's for starters.\n",
    "\n",
    "**Note:** Turning these into sets `removes` the dups.  Well it doesn't remove anything, it is a property of sets!"
   ]
  },
  {
   "cell_type": "code",
   "execution_count": null,
   "id": "4ccf5a5a-13a9-4cf3-ac7e-8f9ddb4b8505",
   "metadata": {},
   "outputs": [],
   "source": [
    "#3201/1149\n",
    "\n",
    "#turfs_gdf.query(f\"PopID == 1149\")"
   ]
  },
  {
   "cell_type": "code",
   "execution_count": null,
   "id": "5873ac87",
   "metadata": {},
   "outputs": [],
   "source": [
    "turfs_popids = set(turfs_gdf.PopID)\n",
    "office_locations_popids = set(office_locations_gdf)"
   ]
  },
  {
   "cell_type": "markdown",
   "id": "661b5129-2af4-44de-92e6-e2642acc4de4",
   "metadata": {},
   "source": [
    "OK.  Goofy test #1 passes."
   ]
  },
  {
   "cell_type": "code",
   "execution_count": null,
   "id": "503147a4-71f2-4833-ad1f-e2167bef5dd1",
   "metadata": {},
   "outputs": [],
   "source": [
    "turfs_popids.issubset(office_locations_popids)"
   ]
  },
  {
   "cell_type": "code",
   "execution_count": null,
   "id": "d7b955bd-c17f-4fdd-bd74-6f02ba8ca2a8",
   "metadata": {},
   "outputs": [],
   "source": [
    "turfs_not_in_office_locations_popids = turfs_popids.difference(office_locations_popids)\n",
    "\n",
    "len(turfs_not_in_office_locations_popids)"
   ]
  },
  {
   "cell_type": "code",
   "execution_count": null,
   "id": "00c7a952-fd1c-4660-8eef-6ac3bf2d5248",
   "metadata": {},
   "outputs": [],
   "source": [
    "in_both_popids = turfs_popids.union(office_locations_popids)\n",
    "\n",
    "len(in_both_popids)"
   ]
  },
  {
   "cell_type": "markdown",
   "id": "5f48120c-4f3d-4480-bf5a-eac5d1973c35",
   "metadata": {},
   "source": [
    "So, this is the set of PopID's in both geodata files (turfs and office locations)."
   ]
  },
  {
   "cell_type": "markdown",
   "id": "be3ff62a-7792-4612-841e-681b30f17241",
   "metadata": {},
   "source": [
    "Now we can look at the network data.  There are two different data frames:\n",
    "\n",
    "  1.  elements - The organizations in the network (think nodes)\n",
    "  2.  connections  - Data frame with from/to representation"
   ]
  },
  {
   "cell_type": "code",
   "execution_count": null,
   "id": "b1c83bae-2dcf-4ba2-b548-b01654f69db2",
   "metadata": {},
   "outputs": [],
   "source": [
    "elements_df = pd.read_excel('../data/raw/NYC_STEWMAP_2017_Networks_Version2_Public.xlsx', sheet_name=0)\n",
    "connections_df = pd.read_excel('../data/raw/NYC_STEWMAP_2017_Networks_Version2_Public.xlsx', sheet_name=2)"
   ]
  },
  {
   "cell_type": "markdown",
   "id": "53443a7a-e092-4cee-a080-73ca77dc2780",
   "metadata": {},
   "source": [
    "Now, for each of these data frames:\n",
    "\n",
    "  1.  Examine the contents\n",
    "  2.  Use set hacking on PopID's (PopID, Respondent PopID, and PopID _ALTER) and turfs/office locations\n",
    "  3.  `Understand` the network structure\n",
    "  4.  Decide what to *keep* \n",
    "  5.  Save to parquet files  "
   ]
  },
  {
   "cell_type": "code",
   "execution_count": null,
   "id": "87097294-5571-41b5-bab3-58d1cad6ea84",
   "metadata": {},
   "outputs": [],
   "source": [
    "elements_df.info()"
   ]
  },
  {
   "cell_type": "markdown",
   "id": "6b8bac6d-6187-49c0-bc92-2b6fc1cfdeb1",
   "metadata": {},
   "source": [
    "**Notes:** \n",
    "  1.  This is indexed by PopID.  The other two are not used.\n",
    "  2.  PopID is a float (will change to Int64).\n",
    "  3.  There are a couple of fields to look at (indegree and metrics::last).\n",
    "  4.  At face value, there's enough content to save the whole data frame.\n",
    "  5.  How does the elements_df relate to the STEW geodata?"
   ]
  },
  {
   "cell_type": "code",
   "execution_count": null,
   "id": "c9221220-8f3e-4157-b9b3-b79352d13808",
   "metadata": {},
   "outputs": [],
   "source": [
    "elements_df['PopID'] = elements_df['PopID'].astype('Int64')"
   ]
  },
  {
   "cell_type": "code",
   "execution_count": null,
   "id": "74346ee2-b4e3-4a33-a299-8854d2a8746a",
   "metadata": {},
   "outputs": [],
   "source": [
    "elements_df.indegree.value_counts()"
   ]
  },
  {
   "cell_type": "code",
   "execution_count": null,
   "id": "5aee4e6c-c2ff-49ed-8957-9ec0ce35ce6f",
   "metadata": {},
   "outputs": [],
   "source": [
    "elements_df['metrics::last'].value_counts()"
   ]
  },
  {
   "cell_type": "markdown",
   "id": "f92adcf5-411f-4fc1-9bfc-11634e0b4cf7",
   "metadata": {},
   "source": [
    "At first glance they seem to be the same?  I have no idea what this means."
   ]
  },
  {
   "cell_type": "markdown",
   "id": "8253e6cb-b378-414f-b922-8db34dde4b0b",
   "metadata": {},
   "source": [
    "Are elements PopID's unique?"
   ]
  },
  {
   "cell_type": "code",
   "execution_count": null,
   "id": "3e573c67-7cd4-4a87-ada0-14cbf968515e",
   "metadata": {},
   "outputs": [],
   "source": [
    "elements_df['PopID'].is_unique"
   ]
  },
  {
   "cell_type": "markdown",
   "id": "3eae7129-2706-415c-ade1-9ffdc31ba179",
   "metadata": {},
   "source": [
    "I bet it's because there are null values?  Let's see."
   ]
  },
  {
   "cell_type": "code",
   "execution_count": null,
   "id": "6308850c-d00d-49bd-8d2b-0877fe99df6b",
   "metadata": {},
   "outputs": [],
   "source": [
    "elements_df['PopID'].isnull().sum()"
   ]
  },
  {
   "cell_type": "markdown",
   "id": "e0b60a44-737b-4fbc-ad75-b5b4bad0da2a",
   "metadata": {},
   "source": [
    "I want to use the PopID to join data so I'm just using the ones that have a non-null value."
   ]
  },
  {
   "cell_type": "code",
   "execution_count": null,
   "id": "2aa724c6-255f-42f3-9b17-c9bd8ae11bce",
   "metadata": {},
   "outputs": [],
   "source": [
    "elements_df.dropna(subset=['PopID'])['PopID'].is_unique"
   ]
  },
  {
   "cell_type": "markdown",
   "id": "addcc586-2d50-4e16-a251-be72cc3dc946",
   "metadata": {},
   "source": [
    "Ok.  If it has a PopID then the PopID is unique. We can work with this.j"
   ]
  },
  {
   "cell_type": "code",
   "execution_count": null,
   "id": "31dedc38-5f08-4413-9c95-d4cb543039a7",
   "metadata": {},
   "outputs": [],
   "source": [
    "elements_popids = set(elements_df.dropna(subset=['PopID'])['PopID'])"
   ]
  },
  {
   "cell_type": "markdown",
   "id": "1debaa75-1b28-4912-8902-e15bfd8616b3",
   "metadata": {},
   "source": [
    "At this point I have sets with popids from STEW map (points and polys) and elements data frame.\n",
    "\n",
    "**Thoughts:**\n",
    "   -  Are all the turfs also in office locations?\n",
    "   -  I would think a union of turfs and office locations gives me all the the PopID's that filled out the questionaire?\n",
    "   -  That is the set that was sent to network questionaire?\n",
    "   -  I currently think the turfs are important because I'm doing spatial overlays, joins, etc. as a driver?"
   ]
  },
  {
   "cell_type": "markdown",
   "id": "560b0578-e12f-4192-995b-70ef675382b8",
   "metadata": {},
   "source": [
    "I am going to start by looking at the STEW-MAP data.  Are all the turfs PopID's in office locations?"
   ]
  },
  {
   "cell_type": "code",
   "execution_count": null,
   "id": "114dcd65-929d-4b37-bf1d-90c14fa305b7",
   "metadata": {},
   "outputs": [],
   "source": [
    "turfs_popids.issubset(office_locations_popids)"
   ]
  },
  {
   "cell_type": "markdown",
   "id": "9f721b9b-4664-49d5-af1d-a104398a0355",
   "metadata": {},
   "source": [
    "So, which ones are in turfs but not office locations?"
   ]
  },
  {
   "cell_type": "code",
   "execution_count": null,
   "id": "7887a2d0-c78c-4bc8-814e-70417c16783e",
   "metadata": {},
   "outputs": [],
   "source": [
    "turfs_not_in_office_popids = turfs_popids.difference(office_locations_popids)\n",
    "len(turfs_not_in_office_locations_popids)"
   ]
  },
  {
   "cell_type": "markdown",
   "id": "fcd94504-df99-4678-8e1e-d06c5a3b067b",
   "metadata": {},
   "source": [
    "So 8 of the turfs are not in office locations.  Sort of curious."
   ]
  },
  {
   "cell_type": "code",
   "execution_count": null,
   "id": "bcf95689-3fe8-4061-b833-75ca3352e1bb",
   "metadata": {},
   "outputs": [],
   "source": [
    "turfs_gdf.query(f\"PopID in @turfs_not_in_office_popids\")['OrgName']"
   ]
  },
  {
   "cell_type": "markdown",
   "id": "b479cee8-83c8-4913-a5ce-e73e2566f107",
   "metadata": {},
   "source": [
    "So these are the 8 organizations in turfs but not in office locations.  Given the duplicity of content in the two data frames, I'm not sure this matters to me?\n",
    "\n",
    "I guess what is of interest is this same question, relating turfs and elements.\n",
    "\n",
    "**Note:** First a slight digression."
   ]
  },
  {
   "cell_type": "code",
   "execution_count": null,
   "id": "73b68f44-5b5f-4989-ba20-2522baa84edd",
   "metadata": {},
   "outputs": [],
   "source": [
    "office_no_turf_popids = office_locations_popids.difference(turfs_popids)\n",
    "print(f\"{len(office_no_turf_popids)} office locations do not have an associated turf.\")"
   ]
  },
  {
   "cell_type": "markdown",
   "id": "50ccf48b-dc22-4513-8484-e980fda6d8a5",
   "metadata": {},
   "source": [
    "Back to the main subject line - relating turfs geodataframe and the elements dataframe."
   ]
  },
  {
   "cell_type": "code",
   "execution_count": null,
   "id": "0ddcb3c0-592a-4ff9-96b7-2c4fb9ceb79c",
   "metadata": {},
   "outputs": [],
   "source": [
    "turfs_popids.issubset(elements_popids)"
   ]
  },
  {
   "cell_type": "markdown",
   "id": "fa3bf7a7-84ff-4d03-b74e-c36ca7b2804c",
   "metadata": {},
   "source": [
    "So turfs is not a subset of elements, i.e. not all the turfs are in elements."
   ]
  },
  {
   "cell_type": "code",
   "execution_count": null,
   "id": "19086d72-a835-4f85-abb9-369cbac36679",
   "metadata": {},
   "outputs": [],
   "source": [
    "turfs_not_in_elements_popids = turfs_popids.difference(elements_popids)\n",
    "print(f\"{len(turfs_not_in_elements_popids)} turfs are not in elements data.\")\n",
    "\n",
    "turfs_in_elements_popids = turfs_popids.intersection(elements_popids)\n",
    "\n",
    "print(f\"But {len(turfs_in_elements_popids)} are in both turfs and elements.\")"
   ]
  },
  {
   "cell_type": "markdown",
   "id": "f5f39077-0199-43bc-8560-967c9048d7d7",
   "metadata": {},
   "source": [
    "This is the set with turfs PopID's that are in the elements data set.\n",
    "\n",
    "I think this is what I'll want in later notebooks.\n",
    "\n",
    "**Note:** Of course we'll retain all the organizations in elements since they are included in the social network."
   ]
  },
  {
   "cell_type": "markdown",
   "id": "55b5b39b-44ce-4bce-aebf-10d2c0cc6ff7",
   "metadata": {},
   "source": [
    "Now let's look at the connections dataframe."
   ]
  },
  {
   "cell_type": "code",
   "execution_count": null,
   "id": "2d6a614e-e68f-4391-bb93-9ce9351569ab",
   "metadata": {},
   "outputs": [],
   "source": [
    "connections_df.info()"
   ]
  },
  {
   "cell_type": "markdown",
   "id": "498cbf46-da85-4a80-8911-967f62504a9e",
   "metadata": {},
   "source": [
    "First thing I see is there are lot's of null values (i.e. no information)."
   ]
  },
  {
   "cell_type": "code",
   "execution_count": null,
   "id": "eb44dcde-6cdc-4f18-b33c-2347f0350488",
   "metadata": {},
   "outputs": [],
   "source": [
    "connections_df['Version'].value_counts()"
   ]
  },
  {
   "cell_type": "code",
   "execution_count": null,
   "id": "ff75f08e-b9af-4db1-a4fc-fc599f8b6935",
   "metadata": {},
   "outputs": [],
   "source": [
    "connections_df['NYC_region'].value_counts()"
   ]
  },
  {
   "cell_type": "markdown",
   "id": "b9b2e8c0-0164-430e-80d0-343dd634befb",
   "metadata": {},
   "source": [
    "I'm going to change the dtype of PopID _ALTER from a string to a number.  I'm using Int64 since it will deal with the NaN's.\n",
    "\n",
    "When I do this the first time, there are five rows with a PopID _ALTER of `GENERAL`.  That doesn't work so I delected them."
   ]
  },
  {
   "cell_type": "code",
   "execution_count": null,
   "id": "69da5056-ea0e-4c2a-a102-de31b8fb4f1d",
   "metadata": {},
   "outputs": [],
   "source": [
    "connections_df['PopID _ALTER'] = connections_df['PopID _ALTER'].astype('Int64')"
   ]
  },
  {
   "cell_type": "markdown",
   "id": "e3f0f2f7-7f0c-4844-ad67-03f4d7599941",
   "metadata": {},
   "source": [
    "Based on this (quick) analysis the columns I am going to `keep` are: \n",
    "\n",
    "  -  From: str\n",
    "  -  To: Str\n",
    "  -  PopID __ALTER: Int64\n",
    "  -  Respondent PopID: int64\n",
    "  \n",
    "Based on correspondence with Michelle and Lindsay my model is [From, Respondent PopID] and [To, PopID _ALTER] are the way to think about this."
   ]
  },
  {
   "cell_type": "code",
   "execution_count": null,
   "id": "2d018f25-7a80-478e-a469-05f1da48751f",
   "metadata": {},
   "outputs": [],
   "source": [
    "connections_df = connections_df[['From', 'Respondent PopID', 'To', 'PopID _ALTER']]"
   ]
  },
  {
   "cell_type": "code",
   "execution_count": null,
   "id": "1027bc0b-1223-4c5d-8738-ae0a5690a562",
   "metadata": {},
   "outputs": [],
   "source": [
    "connections_df.info()"
   ]
  },
  {
   "cell_type": "code",
   "execution_count": null,
   "id": "485ff8f4-ba14-4ac7-b794-dd1bbf37558f",
   "metadata": {},
   "outputs": [],
   "source": [
    "connections_popids = set(connections_df.dropna(subset=['Respondent PopID'])['Respondent PopID'])\n",
    "print(f\"There are {len(connections_popids)} unique Respondent PopID's in a data set of size {len(connections_df)}\")"
   ]
  },
  {
   "cell_type": "markdown",
   "id": "904f4e6d-1aff-4217-a0c5-02b27e6416a3",
   "metadata": {},
   "source": [
    "Finally, for the PopID analysis, I want to undertand the relationship between turfs (PopIDs), elements (PopIDs) and connections (Respondent PopIDs).\n",
    "\n",
    "We already have the set turfs_in_elements_popids to use."
   ]
  },
  {
   "cell_type": "code",
   "execution_count": null,
   "id": "9250c7e6-db55-4c53-a2ce-ae4e9f70ec94",
   "metadata": {},
   "outputs": [],
   "source": [
    "respondent_not_in_popids = turfs_in_elements_popids.difference(connections_popids)\n",
    "respondents_in_all_popids = turfs_in_elements_popids.intersection(connections_popids)\n",
    "\n",
    "print(f\"{len(respondent_not_in_popids)} are in connections, but not turfs.\")\n",
    "print(f\"On the other hand {len(respondents_in_all_popids)} organizations are in all (turfs, elements, and connections (i.e. respondent))\")"
   ]
  },
  {
   "cell_type": "markdown",
   "id": "a4464e07-4c54-42d2-bb1d-0f2c5eb23881",
   "metadata": {},
   "source": [
    "So I'm good with this.  At least I think I understand the structure.\n",
    "\n",
    "I am going to save these two files (as parquet files) into processed/SN for now.  I really need to build a network model/data structure but..."
   ]
  },
  {
   "cell_type": "code",
   "execution_count": null,
   "id": "5e93b420-df0a-4a91-9a49-1c89def3c3f0",
   "metadata": {},
   "outputs": [],
   "source": [
    "elements_df.to_parquet('../data/processed/SN/elements.parq')\n",
    "connections_df.to_parquet('../data/processed/SN/connections.parq')"
   ]
  },
  {
   "cell_type": "markdown",
   "id": "1bc60c38-bf9f-4dcf-9f9c-f8efc005236c",
   "metadata": {},
   "source": [
    "Based on this analyis, the PopIDs that have good social network information is one of respondents_in_all_popids.  It might help to have this list laying around so I'm going to pickle it for later use."
   ]
  },
  {
   "cell_type": "code",
   "execution_count": null,
   "id": "eea0f7cf-5175-45fe-9804-f2a11115bdd7",
   "metadata": {},
   "outputs": [],
   "source": [
    "import pickle\n",
    "pickle.dump(list(respondents_in_all_popids), open( \"../data/processed/db/popids.p\", \"wb\" ) )"
   ]
  },
  {
   "cell_type": "markdown",
   "id": "19fd2010-8e18-4a59-940d-41bd0edb9968",
   "metadata": {},
   "source": [
    "When you want it back:\n",
    "\n",
    "```python\n",
    "favorite_color = pickle.load( open( \"save.p\", \"rb\" ) )\n",
    "```"
   ]
  },
  {
   "cell_type": "code",
   "execution_count": null,
   "id": "23a42b16-646f-4d1b-ae43-69c9159af5c6",
   "metadata": {},
   "outputs": [],
   "source": [
    "with open('../data/processed/db/popids2.p', 'wb') as f:\n",
    "    pickle.dump(list(respondents_in_all_popids), f)"
   ]
  },
  {
   "cell_type": "markdown",
   "id": "5f82d3fd-d0aa-4e5d-9e1f-cf80c54ff386",
   "metadata": {},
   "source": [
    "At this point I have the data I want for later processing.  It is still packaged as dataframes, so it will be very `mechanical` to use.  I will revisit the db/triple store/code ... approach when I have some time.\n",
    "\n",
    "I am curious about python packages for graph viz/analysis.  I really don't have time right now, but I'll try a couple:"
   ]
  },
  {
   "cell_type": "code",
   "execution_count": null,
   "id": "4dc4ab66-1d35-4ff6-882c-813837642949",
   "metadata": {},
   "outputs": [],
   "source": [
    "G = nx.Graph()"
   ]
  },
  {
   "cell_type": "code",
   "execution_count": null,
   "id": "cc43f07c-f173-4468-ad51-040834400acb",
   "metadata": {},
   "outputs": [],
   "source": [
    "connections_df.columns"
   ]
  },
  {
   "cell_type": "code",
   "execution_count": null,
   "id": "02c12057-b9b0-4721-98bd-56f2d221b9cd",
   "metadata": {},
   "outputs": [],
   "source": [
    "G = nx.from_pandas_edgelist(connections_df[:100], 'From', 'To')"
   ]
  },
  {
   "cell_type": "code",
   "execution_count": null,
   "id": "3b40481b-7c42-42d2-a653-3ee1547508fb",
   "metadata": {},
   "outputs": [],
   "source": [
    "from matplotlib.pyplot import figure\n",
    "figure(figsize=(15, 12))\n",
    "nx.draw_shell(G, with_labels=True)"
   ]
  },
  {
   "cell_type": "markdown",
   "id": "4aff952a-8d89-420b-b63f-e52f3da38e3a",
   "metadata": {},
   "source": [
    "Good enough for starters.  Other packages to explore include igraph, and scikit-network.  Another day!"
   ]
  },
  {
   "cell_type": "code",
   "execution_count": null,
   "id": "781dace6-eed2-423f-a57c-e7be2d69bbcd",
   "metadata": {},
   "outputs": [],
   "source": []
  }
 ],
 "metadata": {
  "kernelspec": {
   "display_name": "Python 3 (ipykernel)",
   "language": "python",
   "name": "python3"
  },
  "language_info": {
   "codemirror_mode": {
    "name": "ipython",
    "version": 3
   },
   "file_extension": ".py",
   "mimetype": "text/x-python",
   "name": "python",
   "nbconvert_exporter": "python",
   "pygments_lexer": "ipython3",
   "version": "3.10.4"
  }
 },
 "nbformat": 4,
 "nbformat_minor": 5
}
